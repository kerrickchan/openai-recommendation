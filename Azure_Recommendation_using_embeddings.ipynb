{
 "cells": [
  {
   "attachments": {},
   "cell_type": "markdown",
   "metadata": {},
   "source": [
    "# Recommendation using embeddings and nearest neighbor search\n",
    "\n",
    "Recommendations are widespread across the web.\n",
    "\n",
    "- 'Bought that item? Try these similar items.'\n",
    "- 'Enjoy that book? Try these similar titles.'\n",
    "- 'Not the help page you were looking for? Try these similar pages.'\n",
    "\n",
    "This notebook demonstrates how to use embeddings to find similar items to recommend. In particular, we use [AG's corpus of news articles](http://groups.di.unipi.it/~gulli/AG_corpus_of_news_articles.html) as our dataset.\n",
    "\n",
    "Our model will answer the question: given an article, what other articles are most similar to it?"
   ]
  },
  {
   "cell_type": "markdown",
   "metadata": {},
   "source": [
    "### 1. Imports\n",
    "\n",
    "First, let's import the packages and functions we'll need for later. If you don't have these, you'll need to install them. You can install them via your terminal by running `pip install {package_name}`, e.g. `pip install pandas`."
   ]
  },
  {
   "cell_type": "code",
   "execution_count": 1,
   "metadata": {},
   "outputs": [],
   "source": [
    "# imports\n",
    "import pandas as pd\n",
    "import pickle\n",
    "\n",
    "from utils.embeddings_utils import (\n",
    "    get_embedding,\n",
    "    distances_from_embeddings,\n",
    "    tsne_components_from_embeddings,\n",
    "    chart_from_components,\n",
    "    indices_of_nearest_neighbors_from_distances,\n",
    ")\n",
    "\n",
    "# constants\n",
    "EMBEDDING_MODEL = \"text-embedding-ada-002\"\n"
   ]
  },
  {
   "cell_type": "markdown",
   "metadata": {},
   "source": [
    "### 2. Load data\n",
    "\n",
    "Next, let's load the AG news data and see what it looks like."
   ]
  },
  {
   "cell_type": "code",
   "execution_count": 2,
   "metadata": {},
   "outputs": [
    {
     "data": {
      "text/html": [
       "<div>\n",
       "<style scoped>\n",
       "    .dataframe tbody tr th:only-of-type {\n",
       "        vertical-align: middle;\n",
       "    }\n",
       "\n",
       "    .dataframe tbody tr th {\n",
       "        vertical-align: top;\n",
       "    }\n",
       "\n",
       "    .dataframe thead th {\n",
       "        text-align: right;\n",
       "    }\n",
       "</style>\n",
       "<table border=\"1\" class=\"dataframe\">\n",
       "  <thead>\n",
       "    <tr style=\"text-align: right;\">\n",
       "      <th></th>\n",
       "      <th>title</th>\n",
       "      <th>description</th>\n",
       "      <th>label_int</th>\n",
       "      <th>label</th>\n",
       "    </tr>\n",
       "  </thead>\n",
       "  <tbody>\n",
       "    <tr>\n",
       "      <th>0</th>\n",
       "      <td>World Briefings</td>\n",
       "      <td>BRITAIN: BLAIR WARNS OF CLIMATE THREAT Prime M...</td>\n",
       "      <td>1</td>\n",
       "      <td>World</td>\n",
       "    </tr>\n",
       "    <tr>\n",
       "      <th>1</th>\n",
       "      <td>Nvidia Puts a Firewall on a Motherboard (PC Wo...</td>\n",
       "      <td>PC World - Upcoming chip set will include buil...</td>\n",
       "      <td>4</td>\n",
       "      <td>Sci/Tech</td>\n",
       "    </tr>\n",
       "    <tr>\n",
       "      <th>2</th>\n",
       "      <td>Olympic joy in Greek, Chinese press</td>\n",
       "      <td>Newspapers in Greece reflect a mixture of exhi...</td>\n",
       "      <td>2</td>\n",
       "      <td>Sports</td>\n",
       "    </tr>\n",
       "    <tr>\n",
       "      <th>3</th>\n",
       "      <td>U2 Can iPod with Pictures</td>\n",
       "      <td>SAN JOSE, Calif. -- Apple Computer (Quote, Cha...</td>\n",
       "      <td>4</td>\n",
       "      <td>Sci/Tech</td>\n",
       "    </tr>\n",
       "    <tr>\n",
       "      <th>4</th>\n",
       "      <td>The Dream Factory</td>\n",
       "      <td>Any product, any shape, any size -- manufactur...</td>\n",
       "      <td>4</td>\n",
       "      <td>Sci/Tech</td>\n",
       "    </tr>\n",
       "  </tbody>\n",
       "</table>\n",
       "</div>"
      ],
      "text/plain": [
       "                                               title  \\\n",
       "0                                    World Briefings   \n",
       "1  Nvidia Puts a Firewall on a Motherboard (PC Wo...   \n",
       "2                Olympic joy in Greek, Chinese press   \n",
       "3                          U2 Can iPod with Pictures   \n",
       "4                                  The Dream Factory   \n",
       "\n",
       "                                         description  label_int     label  \n",
       "0  BRITAIN: BLAIR WARNS OF CLIMATE THREAT Prime M...          1     World  \n",
       "1  PC World - Upcoming chip set will include buil...          4  Sci/Tech  \n",
       "2  Newspapers in Greece reflect a mixture of exhi...          2    Sports  \n",
       "3  SAN JOSE, Calif. -- Apple Computer (Quote, Cha...          4  Sci/Tech  \n",
       "4  Any product, any shape, any size -- manufactur...          4  Sci/Tech  "
      ]
     },
     "execution_count": 2,
     "metadata": {},
     "output_type": "execute_result"
    }
   ],
   "source": [
    "# load data (full dataset available at http://groups.di.unipi.it/~gulli/AG_corpus_of_news_articles.html)\n",
    "dataset_path = \"data/AG_news_samples.csv\"\n",
    "df = pd.read_csv(dataset_path)\n",
    "\n",
    "# print dataframe\n",
    "n_examples = 5\n",
    "df.head(n_examples)\n"
   ]
  },
  {
   "cell_type": "markdown",
   "metadata": {},
   "source": [
    "Let's take a look at those same examples, but not truncated by ellipses."
   ]
  },
  {
   "cell_type": "code",
   "execution_count": 3,
   "metadata": {},
   "outputs": [
    {
     "name": "stdout",
     "output_type": "stream",
     "text": [
      "\n",
      "Title: World Briefings\n",
      "Description: BRITAIN: BLAIR WARNS OF CLIMATE THREAT Prime Minister Tony Blair urged the international community to consider global warming a dire threat and agree on a plan of action to curb the  quot;alarming quot; growth of greenhouse gases.\n",
      "Label: World\n",
      "\n",
      "Title: Nvidia Puts a Firewall on a Motherboard (PC World)\n",
      "Description: PC World - Upcoming chip set will include built-in security features for your PC.\n",
      "Label: Sci/Tech\n",
      "\n",
      "Title: Olympic joy in Greek, Chinese press\n",
      "Description: Newspapers in Greece reflect a mixture of exhilaration that the Athens Olympics proved successful, and relief that they passed off without any major setback.\n",
      "Label: Sports\n",
      "\n",
      "Title: U2 Can iPod with Pictures\n",
      "Description: SAN JOSE, Calif. -- Apple Computer (Quote, Chart) unveiled a batch of new iPods, iTunes software and promos designed to keep it atop the heap of digital music players.\n",
      "Label: Sci/Tech\n",
      "\n",
      "Title: The Dream Factory\n",
      "Description: Any product, any shape, any size -- manufactured on your desktop! The future is the fabricator. By Bruce Sterling from Wired magazine.\n",
      "Label: Sci/Tech\n"
     ]
    }
   ],
   "source": [
    "# print the title, description, and label of each example\n",
    "for idx, row in df.head(n_examples).iterrows():\n",
    "    print(\"\")\n",
    "    print(f\"Title: {row['title']}\")\n",
    "    print(f\"Description: {row['description']}\")\n",
    "    print(f\"Label: {row['label']}\")\n"
   ]
  },
  {
   "attachments": {},
   "cell_type": "markdown",
   "metadata": {},
   "source": [
    "### 3. Build cache to save embeddings\n",
    "\n",
    "Before getting embeddings for these articles, let's set up a cache to save the embeddings we generate. In general, it's a good idea to save your embeddings so you can re-use them later. If you don't save them, you'll pay again each time you compute them again.\n",
    "\n",
    "The cache is a dictionary that maps tuples of `(text, model)` to an embedding, which is a list of floats. The cache is saved as a Python pickle file."
   ]
  },
  {
   "cell_type": "code",
   "execution_count": 4,
   "metadata": {},
   "outputs": [],
   "source": [
    "# establish a cache of embeddings to avoid recomputing\n",
    "# cache is a dict of tuples (text, model) -> embedding, saved as a pickle file\n",
    "\n",
    "# set path to embedding cache\n",
    "embedding_cache_path = \"data/recommendations_embeddings_cache.pkl\"\n",
    "\n",
    "# load the cache if it exists, and save a copy to disk\n",
    "try:\n",
    "    embedding_cache = pd.read_pickle(embedding_cache_path)\n",
    "except FileNotFoundError:\n",
    "    embedding_cache = {}\n",
    "with open(embedding_cache_path, \"wb\") as embedding_cache_file:\n",
    "    pickle.dump(embedding_cache, embedding_cache_file)\n",
    "\n",
    "# define a function to retrieve embeddings from the cache if present, and otherwise request via the API\n",
    "def embedding_from_string(\n",
    "    string: str,\n",
    "    model: str = EMBEDDING_MODEL,\n",
    "    embedding_cache=embedding_cache\n",
    ") -> list:\n",
    "    \"\"\"Return embedding of given string, using a cache to avoid recomputing.\"\"\"\n",
    "    if (string, model) not in embedding_cache.keys():\n",
    "        embedding_cache[(string, model)] = get_embedding(string, model)\n",
    "        with open(embedding_cache_path, \"wb\") as embedding_cache_file:\n",
    "            pickle.dump(embedding_cache, embedding_cache_file)\n",
    "    return embedding_cache[(string, model)]\n"
   ]
  },
  {
   "cell_type": "markdown",
   "metadata": {},
   "source": [
    "Let's check that it works by getting an embedding."
   ]
  },
  {
   "cell_type": "code",
   "execution_count": 5,
   "metadata": {},
   "outputs": [
    {
     "name": "stdout",
     "output_type": "stream",
     "text": [
      "\n",
      "Example string: BRITAIN: BLAIR WARNS OF CLIMATE THREAT Prime Minister Tony Blair urged the international community to consider global warming a dire threat and agree on a plan of action to curb the  quot;alarming quot; growth of greenhouse gases.\n",
      "1536\n",
      "\n",
      "Example embedding: [-0.010660368017852306, -0.022390639409422874, -0.008842820301651955, -0.025445666164159775, 0.03140103444457054, 0.010763490572571754, -0.016757531091570854, 0.004205495584756136, -0.008024279028177261, -0.02146252989768982]...\n"
     ]
    }
   ],
   "source": [
    "# as an example, take the first description from the dataset\n",
    "example_string = df[\"description\"].values[0]\n",
    "print(f\"\\nExample string: {example_string}\")\n",
    "\n",
    "# print the first 10 dimensions of the embedding\n",
    "example_embedding = embedding_from_string(example_string)\n",
    "print(len(example_embedding))\n",
    "print(f\"\\nExample embedding: {example_embedding[:10]}...\")\n"
   ]
  },
  {
   "cell_type": "markdown",
   "metadata": {},
   "source": [
    "### 4. Recommend similar articles based on embeddings\n",
    "\n",
    "To find similar articles, let's follow a three-step plan:\n",
    "1. Get the similarity embeddings of all the article descriptions\n",
    "2. Calculate the distance between a source title and all other articles\n",
    "3. Print out the other articles closest to the source title"
   ]
  },
  {
   "cell_type": "code",
   "execution_count": 6,
   "metadata": {},
   "outputs": [],
   "source": [
    "def print_recommendations_from_strings(\n",
    "    strings: list[str],\n",
    "    index_of_source_string: int,\n",
    "    k_nearest_neighbors: int = 1,\n",
    "    model=EMBEDDING_MODEL,\n",
    ") -> list[int]:\n",
    "    \"\"\"Print out the k nearest neighbors of a given string.\"\"\"\n",
    "    # get embeddings for all strings\n",
    "    embeddings = [embedding_from_string(string, model=model) for string in strings]\n",
    "    # get the embedding of the source string\n",
    "    query_embedding = embeddings[index_of_source_string]\n",
    "    # get distances between the source embedding and other embeddings (function from utils.embeddings_utils.py)\n",
    "    distances = distances_from_embeddings(query_embedding, embeddings, distance_metric=\"cosine\")\n",
    "    # get indices of nearest neighbors (function from utils.utils.embeddings_utils.py)\n",
    "    indices_of_nearest_neighbors = indices_of_nearest_neighbors_from_distances(distances)\n",
    "\n",
    "    # print out source string\n",
    "    query_string = strings[index_of_source_string]\n",
    "    print(f\"Source string: {query_string}\")\n",
    "    # print out its k nearest neighbors\n",
    "    k_counter = 0\n",
    "    for i in indices_of_nearest_neighbors:\n",
    "        # skip any strings that are identical matches to the starting string\n",
    "        if query_string == strings[i]:\n",
    "            continue\n",
    "        # stop after printing out k articles\n",
    "        if k_counter >= k_nearest_neighbors:\n",
    "            break\n",
    "        k_counter += 1\n",
    "\n",
    "        # print out the similar strings and their distances\n",
    "        print(\n",
    "            f\"\"\"\n",
    "        --- Recommendation #{k_counter} (nearest neighbor {k_counter} of {k_nearest_neighbors}) ---\n",
    "        String: {strings[i]}\n",
    "        Distance: {distances[i]:0.3f}\"\"\"\n",
    "        )\n",
    "\n",
    "    return indices_of_nearest_neighbors\n"
   ]
  },
  {
   "cell_type": "markdown",
   "metadata": {},
   "source": [
    "### 5. Example recommendations\n",
    "\n",
    "Let's look for articles similar to first one, which was about Tony Blair."
   ]
  },
  {
   "cell_type": "code",
   "execution_count": 7,
   "metadata": {},
   "outputs": [
    {
     "name": "stdout",
     "output_type": "stream",
     "text": [
      "Source string: BRITAIN: BLAIR WARNS OF CLIMATE THREAT Prime Minister Tony Blair urged the international community to consider global warming a dire threat and agree on a plan of action to curb the  quot;alarming quot; growth of greenhouse gases.\n",
      "\n",
      "        --- Recommendation #1 (nearest neighbor 1 of 5) ---\n",
      "        String: AP - Scientists warned Tuesday that a long-term increase in global temperature of 3.5 degrees could threaten Latin American water supplies, reduce food yields in Asia and result in a rise in extreme weather conditions in the Caribbean.\n",
      "        Distance: 0.176\n",
      "\n",
      "        --- Recommendation #2 (nearest neighbor 2 of 5) ---\n",
      "        String: AP - President Vladimir Putin has signed a bill confirming Russia's ratification of the Kyoto Protocol, the Kremlin said Friday, clearing the way for the global climate pact to come into force early next year.\n",
      "        Distance: 0.198\n",
      "\n",
      "        --- Recommendation #3 (nearest neighbor 3 of 5) ---\n",
      "        String: In an alarming development, high-precision equipment and materials which could be used for making nuclear bombs have disappeared from some Iraqi facilities, the United Nations watchdog agency has said.\n",
      "        Distance: 0.215\n",
      "\n",
      "        --- Recommendation #4 (nearest neighbor 4 of 5) ---\n",
      "        String: AP - British entrepreneur Richard Branson said Monday that his company plans to launch commercial space flights over the next few years.\n",
      "        Distance: 0.219\n",
      "\n",
      "        --- Recommendation #5 (nearest neighbor 5 of 5) ---\n",
      "        String: A bitter row between America and the European Union over alleged subsidies to rival aircraft makers Boeing and Airbus intensified yesterday.\n",
      "        Distance: 0.222\n"
     ]
    }
   ],
   "source": [
    "article_descriptions = df[\"description\"].head(200).tolist()\n",
    "\n",
    "tony_blair_articles = print_recommendations_from_strings(\n",
    "    strings=article_descriptions,  # let's base similarity off of the article description\n",
    "    index_of_source_string=0,  # let's look at articles similar to the first one about Tony Blair\n",
    "    k_nearest_neighbors=5,  # let's look at the 5 most similar articles\n",
    ")\n"
   ]
  },
  {
   "attachments": {},
   "cell_type": "markdown",
   "metadata": {},
   "source": [
    "Pretty good! 4 of the 5 recommendations explicitly mention Tony Blair and the fifth is an article from London about climate change, topics that might be often associated with Tony Blair."
   ]
  },
  {
   "cell_type": "markdown",
   "metadata": {},
   "source": [
    "Let's see how our recommender does on the second example article about NVIDIA's new chipset with more security."
   ]
  },
  {
   "cell_type": "code",
   "execution_count": 8,
   "metadata": {},
   "outputs": [
    {
     "name": "stdout",
     "output_type": "stream",
     "text": [
      "Source string: PC World - Upcoming chip set will include built-in security features for your PC.\n",
      "\n",
      "        --- Recommendation #1 (nearest neighbor 1 of 5) ---\n",
      "        String: PC World - Updated antivirus software for businesses adds intrusion prevention features.\n",
      "        Distance: 0.112\n",
      "\n",
      "        --- Recommendation #2 (nearest neighbor 2 of 5) ---\n",
      "        String: Chips that help a computer's main microprocessors perform specific types of math problems are becoming a big business once again.\\\n",
      "        Distance: 0.172\n",
      "\n",
      "        --- Recommendation #3 (nearest neighbor 3 of 5) ---\n",
      "        String: The Microsoft CEO says one way to stem growing piracy of Windows and Office in emerging markets is to offer low-cost computers.\n",
      "        Distance: 0.176\n",
      "\n",
      "        --- Recommendation #4 (nearest neighbor 4 of 5) ---\n",
      "        String: A group of Internet security and instant messaging providers have teamed up to detect and thwart the growing threat of IM and peer-to-peer viruses and worms, they said this week.\n",
      "        Distance: 0.178\n",
      "\n",
      "        --- Recommendation #5 (nearest neighbor 5 of 5) ---\n",
      "        String: IBM late on Tuesday announced the biggest update of its popular WebSphere business software in two years, adding features such as automatically detecting and fixing problems.\n",
      "        Distance: 0.184\n"
     ]
    }
   ],
   "source": [
    "chipset_security_articles = print_recommendations_from_strings(\n",
    "    strings=article_descriptions,  # let's base similarity off of the article description\n",
    "    index_of_source_string=1,  # let's look at articles similar to the second one about a more secure chipset\n",
    "    k_nearest_neighbors=5,  # let's look at the 5 most similar articles\n",
    ")\n"
   ]
  },
  {
   "attachments": {},
   "cell_type": "markdown",
   "metadata": {},
   "source": [
    "From the printed distances, you can see that the #1 recommendation is much closer than all the others (0.11 vs 0.14+). And the #1 recommendation looks very similar to the starting article - it's another article from PC World about increasing computer security. Pretty good! "
   ]
  },
  {
   "cell_type": "markdown",
   "metadata": {},
   "source": [
    "## Appendix: Using embeddings in more sophisticated recommenders\n",
    "\n",
    "A more sophisticated way to build a recommender system is to train a machine learning model that takes in tens or hundreds of signals, such as item popularity or user click data. Even in this system, embeddings can be a very useful signal into the recommender, especially for items that are being 'cold started' with no user data yet (e.g., a brand new product added to the catalog without any clicks yet)."
   ]
  },
  {
   "cell_type": "markdown",
   "metadata": {},
   "source": [
    "## Appendix: Using embeddings to visualize similar articles"
   ]
  },
  {
   "cell_type": "markdown",
   "metadata": {},
   "source": [
    "To get a sense of what our nearest neighbor recommender is doing, let's visualize the article embeddings. Although we can't plot the 2048 dimensions of each embedding vector, we can use techniques like [t-SNE](https://en.wikipedia.org/wiki/T-distributed_stochastic_neighbor_embedding) or [PCA](https://en.wikipedia.org/wiki/Principal_component_analysis) to compress the embeddings down into 2 or 3 dimensions, which we can chart.\n",
    "\n",
    "Before visualizing the nearest neighbors, let's visualize all of the article descriptions using t-SNE. Note that t-SNE is not deterministic, meaning that results may vary from run to run."
   ]
  },
  {
   "cell_type": "code",
   "execution_count": 9,
   "metadata": {},
   "outputs": [
    {
     "data": {
      "application/vnd.plotly.v1+json": {
       "config": {
        "plotlyServerURL": "https://plot.ly"
       },
       "data": [
        {
         "customdata": [
          [
           "BRITAIN: BLAIR WARNS OF<br>CLIMATE THREAT Prime Minister<br>Tony Blair urged the<br>international community to<br>consider global warming a dire<br>threat and agree on a plan of<br>action to curb the<br>quot;alarming quot; growth of<br>greenhouse gases."
          ],
          [
           "KABUL, Sept 22 (AFP): Three US<br>soldiers were killed and 14<br>wounded in a series of fierce<br>clashes with suspected Taliban<br>fighters in south and eastern<br>Afghanistan this week, the US<br>military said Wednesday."
          ],
          [
           "AUSTRALIAN journalist John<br>Martinkus is lucky to be alive<br>after spending 24 hours in the<br>hands of Iraqi militants at<br>the weekend. Martinkus was in<br>Baghdad working for the SBS<br>Dateline TV current affairs<br>program"
          ],
          [
           " GAZA (Reuters) - An Israeli<br>helicopter fired a missile<br>into  a town in the southern<br>Gaza Strip late on Wednesday,<br>witnesses  said, hours after a<br>Palestinian suicide bomber<br>blew herself up  in Jerusalem,<br>killing two Israeli border<br>policemen."
          ],
          [
           "RIYADH, Saudi Arabia -- Saudi<br>police are seeking two young<br>men in the killing of a Briton<br>in a Riyadh parking lot, the<br>Interior Ministry said today,<br>and the British ambassador<br>called it a terrorist attack."
          ],
          [
           "A gas explosion at a coal mine<br>in northern China killed 33<br>workers in the 10th deadly<br>mine blast reported in three<br>months. The explosion occurred<br>yesterday at 4:20 pm at Nanlou<br>township"
          ],
          [
           "Reuters - Palestinian leader<br>Mahmoud Abbas called\\Israel<br>\"the Zionist enemy\" Tuesday,<br>unprecedented language for\\the<br>relative moderate who is<br>expected to succeed Yasser<br>Arafat."
          ],
          [
           "Nasser al-Qidwa, Palestinian<br>representative at the United<br>Nations and nephew of late<br>leader Yasser Arafat, handed<br>Arafat #39;s death report to<br>the Palestinian National<br>Authority (PNA) on Saturday."
          ],
          [
           "CAIRO, Egypt - France's<br>foreign minister appealed<br>Monday for the release of two<br>French journalists abducted in<br>Baghdad, saying the French<br>respect all religions. He did<br>not rule out traveling to<br>Baghdad..."
          ],
          [
           "United Arab Emirates President<br>and ruler of Abu Dhabi Sheik<br>Zayed bin Sultan al-Nayhan<br>died Tuesday, official<br>television reports. He was 86."
          ],
          [
           "PALESTINIAN leader Yasser<br>Arafat today issued an urgent<br>call for the immediate release<br>of two French journalists<br>taken hostage in Iraq."
          ],
          [
           "The al-Qaida terrorist network<br>spent less than \\$50,000 on<br>each of its major attacks<br>except for the Sept. 11, 2001,<br>suicide hijackings, and one of<br>its hallmarks is using"
          ],
          [
           "A FATHER who scaled the walls<br>of a Cardiff court dressed as<br>superhero Robin said the<br>Buckingham Palace protester<br>posed no threat. Fathers 4<br>Justice activist Jim Gibson,<br>who earlier this year staged<br>an eye-catching"
          ],
          [
           "Julia Gillard has reportedly<br>bowed out of the race to<br>become shadow treasurer,<br>taking enormous pressure off<br>Opposition Leader Mark Latham."
          ],
          [
           "AFP - Maybe it's something to<br>do with the fact that the<br>playing area is so vast that<br>you need a good pair of<br>binoculars to see the action<br>if it's not taking place right<br>in front of the stands."
          ],
          [
           "Egypt #39;s release of accused<br>Israeli spy Azzam Azzam in an<br>apparent swap for six Egyptian<br>students held on suspicion of<br>terrorism is expected to melt<br>the ice and perhaps result"
          ],
          [
           "GAZA CITY, Gaza Strip: Hamas<br>militants killed an Israeli<br>soldier and wounded four with<br>an explosion in a booby-<br>trapped chicken coop on<br>Tuesday, in what the Islamic<br>group said was an elaborate<br>scheme to lure troops to the<br>area with the help of a double"
          ],
          [
           "AP - The 300 men filling out<br>forms in the offices of an<br>Iranian aid group were offered<br>three choices: Train for<br>suicide attacks against U.S.<br>troops in Iraq, for suicide<br>attacks against Israelis or to<br>assassinate British author<br>Salman Rushdie."
          ],
          [
           "ATHENS, Greece - Gail Devers,<br>the most talented yet star-<br>crossed hurdler of her<br>generation, was unable to<br>complete even one hurdle in<br>100-meter event Sunday -<br>failing once again to win an<br>Olympic hurdling medal.<br>Devers, 37, who has three<br>world championships in the<br>hurdles but has always flopped<br>at the Olympics, pulled up<br>short and screamed as she slid<br>under the first hurdle..."
          ],
          [
           " NAIROBI (Reuters) - The<br>Sudanese government and its<br>southern rebel opponents have<br>agreed to sign a pledge in the<br>Kenyan capital on Friday to<br>formally end a brutal 21-year-<br>old  civil war, with U.N.<br>Security Council ambassadors<br>as witnesses."
          ],
          [
           "AP - Former Guatemalan<br>President Alfonso Portillo<br>#151; suspected of corruption<br>at home  #151; is living and<br>working part-time in the same<br>Mexican city he fled two<br>decades ago to avoid arrest on<br>murder charges, his close<br>associates told The Associated<br>Press on Sunday."
          ],
          [
           "washingtonpost.com - BRUSSELS,<br>Aug. 26 -- The United States<br>will have to wait until next<br>year to see its fight with the<br>European Union over biotech<br>foods resolved, as the World<br>Trade Organization agreed to<br>an E.U. request to bring<br>scientists into the debate,<br>officials said Thursday."
          ],
          [
           "Insisting that Hurriyat<br>Conference is the real<br>representative of Kashmiris,<br>Pakistan has claimed that<br>India is not ready to accept<br>ground realities in Kashmir."
          ],
          [
           "VIENNA -- After two years of<br>investigating Iran's atomic<br>program, the UN nuclear<br>watchdog still cannot rule out<br>that Tehran has a secret atom<br>bomb project as Washington<br>insists, the agency's chief<br>said yesterday."
          ],
          [
           "AFP - US Secretary of State<br>Colin Powell wrapped up a<br>three-nation tour of Asia<br>after winning pledges from<br>Japan, China and South Korea<br>to press North Korea to resume<br>stalled talks on its nuclear<br>weapons programs."
          ],
          [
           "CAIRO, Egypt An Egyptian<br>company says one of its four<br>workers who had been kidnapped<br>in Iraq has been freed. It<br>says it can #39;t give the<br>status of the others being<br>held hostage but says it is<br>quot;doing its best to secure<br>quot; their release."
          ],
          [
           "AFP - Hosts India braced<br>themselves for a harrowing<br>chase on a wearing wicket in<br>the first Test after Australia<br>declined to enforce the<br>follow-on here."
          ],
          [
           "Prime Minister Paul Martin of<br>Canada urged Haitian leaders<br>on Sunday to allow the<br>political party of the deposed<br>president, Jean-Bertrand<br>Aristide, to take part in new<br>elections."
          ],
          [
           "Hostage takers holding up to<br>240 people at a school in<br>southern Russia have refused<br>to talk with a top Islamic<br>leader and demanded to meet<br>with regional leaders instead,<br>ITAR-TASS reported on<br>Wednesday."
          ],
          [
           "Three children from a care<br>home are missing on the<br>Lancashire moors after they<br>are separated from a group."
          ],
          [
           "Diabetics should test their<br>blood sugar levels more<br>regularly to reduce the risk<br>of cardiovascular disease, a<br>study says."
          ],
          [
           "Iraq's interim Prime Minister<br>Ayad Allawi announced that<br>proceedings would begin<br>against former Baath Party<br>leaders."
          ],
          [
           "A toxic batch of home-brewed<br>alcohol has killed 31 people<br>in several towns in central<br>Pakistan, police and hospital<br>officials say."
          ],
          [
           " BEIJING (Reuters) - North<br>Korea is committed to holding<br>six-party talks aimed at<br>resolving the crisis over its<br>nuclear  weapons program, but<br>has not indicated when, a top<br>British  official said on<br>Tuesday."
          ],
          [
           " BAGHDAD (Reuters) - Iraq's<br>interim government extended<br>the  closure of Baghdad<br>international airport<br>indefinitely on  Saturday<br>under emergency rule imposed<br>ahead of this week's  U.S.-led<br>offensive on Falluja."
          ],
          [
           "Rivaling Bush vs. Kerry for<br>bitterness, doctors and trial<br>lawyers are squaring off this<br>fall in an unprecedented four-<br>state struggle over limiting<br>malpractice awards..."
          ],
          [
           "AP - Hundreds of tribesmen<br>gathered Tuesday near the area<br>where suspected al-Qaida-<br>linked militants are holding<br>two Chinese engineers and<br>demanding safe passage to<br>their reputed leader, a former<br>U.S. prisoner from Guantanamo<br>Bay, Cuba, officials and<br>residents said."
          ],
          [
           "In an alarming development,<br>high-precision equipment and<br>materials which could be used<br>for making nuclear bombs have<br>disappeared from some Iraqi<br>facilities, the United Nations<br>watchdog agency has said."
          ],
          [
           "A US airman dies and two are<br>hurt as a helicopter crashes<br>due to technical problems in<br>western Afghanistan."
          ],
          [
           "Jacques Chirac has ruled out<br>any withdrawal of French<br>troops from Ivory Coast,<br>despite unrest and anti-French<br>attacks, which have forced the<br>evacuation of thousands of<br>Westerners."
          ],
          [
           "Japanese Prime Minister<br>Junichiro Koizumi reshuffled<br>his cabinet yesterday,<br>replacing several top<br>ministers in an effort to<br>boost his popularity,<br>consolidate political support<br>and quicken the pace of<br>reforms in the world #39;s<br>second-largest economy."
          ],
          [
           "TBILISI (Reuters) - At least<br>two Georgian soldiers were<br>killed and five wounded in<br>artillery fire with<br>separatists in the breakaway<br>region of South Ossetia,<br>Georgian officials said on<br>Wednesday."
          ],
          [
           "Laksamana.Net - Two Indonesian<br>female migrant workers freed<br>by militants in Iraq are<br>expected to arrive home within<br>a day or two, the Foreign<br>Affairs Ministry said<br>Wednesday (6/10/04)."
          ],
          [
           "A bus was hijacked today and<br>shots were fired at police who<br>surrounded it on the outskirts<br>of Athens. Police did not know<br>how many passengers were<br>aboard the bus."
          ],
          [
           "AP - President Bashar Assad<br>shuffled his Cabinet on<br>Monday, just weeks after the<br>United States and the United<br>Nations challenged Syria over<br>its military presence in<br>Lebanon and the security<br>situation along its border<br>with Iraq."
          ],
          [
           "AP - President Vladimir Putin<br>has signed a bill confirming<br>Russia's ratification of the<br>Kyoto Protocol, the Kremlin<br>said Friday, clearing the way<br>for the global climate pact to<br>come into force early next<br>year."
          ],
          [
           "AP - The authenticity of newly<br>unearthed memos stating that<br>George W. Bush failed to meet<br>standards of the Texas Air<br>National Guard during the<br>Vietnam War was questioned<br>Thursday by the son of the<br>late officer who reportedly<br>wrote the memos."
          ],
          [
           "Canadian Press - OAKVILLE,<br>Ont. (CP) - The body of a<br>missing autistic man was<br>pulled from a creek Monday,<br>just metres from where a key<br>piece of evidence was<br>uncovered but originally<br>overlooked because searchers<br>had the wrong information."
          ],
          [
           "AFP - German Chancellor<br>Gerhard Schroeder arrived in<br>Libya for an official visit<br>during which he is to hold<br>talks with Libyan leader<br>Moamer Kadhafi."
          ],
          [
           "The government will examine<br>claims 100,000 Iraqi civilians<br>have been killed since the US-<br>led invasion, Jack Straw says."
          ],
          [
           "Eton College and Clarence<br>House joined forces yesterday<br>to deny allegations due to be<br>made at an employment tribunal<br>today by a former art teacher<br>that she improperly helped<br>Prince Harry secure an A-level<br>pass in art two years ago."
          ],
          [
           "AFP - Great Britain's chances<br>of qualifying for the World<br>Group of the Davis Cup were<br>evaporating rapidly after<br>Austria moved into a 2-1 lead<br>following the doubles."
          ]
         ],
         "hovertemplate": "label=World<br>Component 0=%{x}<br>Component 1=%{y}<br>string=%{customdata[0]}<extra></extra>",
         "legendgroup": "World",
         "marker": {
          "color": "#636efa",
          "size": 5,
          "symbol": "circle"
         },
         "mode": "markers",
         "name": "World",
         "orientation": "v",
         "showlegend": true,
         "type": "scatter",
         "x": [
          -2.419407367706299,
          3.8545613288879395,
          8.853726387023926,
          6.190961837768555,
          5.342007637023926,
          2.8494489192962646,
          6.365508079528809,
          5.8838276863098145,
          7.264599800109863,
          5.915467739105225,
          6.801270484924316,
          3.195619821548462,
          11.315608978271484,
          11.12959098815918,
          2.4332354068756104,
          6.6015424728393555,
          6.05782413482666,
          3.5841002464294434,
          7.643832206726074,
          3.7593727111816406,
          2.6341288089752197,
          -2.9605727195739746,
          8.3211669921875,
          -0.668512225151062,
          2.2012951374053955,
          7.410523414611816,
          4.59100341796875,
          8.243228912353516,
          5.020902156829834,
          8.985929489135742,
          -0.8665516972541809,
          4.048168659210205,
          2.363718271255493,
          2.0648903846740723,
          1.3312920331954956,
          -5.064323425292969,
          4.038909912109375,
          -0.41808873414993286,
          3.435575246810913,
          8.351873397827148,
          1.6736414432525635,
          4.81049108505249,
          7.855214595794678,
          5.487621784210205,
          2.821312427520752,
          -1.0084470510482788,
          1.3988250494003296,
          8.560978889465332,
          4.077103137969971,
          4.726104736328125,
          11.901227951049805,
          5.3943657875061035
         ],
         "xaxis": "x",
         "y": [
          11.751319885253906,
          5.425793170928955,
          8.35015869140625,
          5.923326015472412,
          9.14799690246582,
          3.709498405456543,
          12.337258338928223,
          13.427360534667969,
          10.184514999389648,
          14.02916431427002,
          10.946854591369629,
          7.40196418762207,
          6.711721420288086,
          9.751762390136719,
          -4.128589630126953,
          8.7704496383667,
          6.183477401733398,
          8.592820167541504,
          -2.1763389110565186,
          14.498367309570312,
          9.693754196166992,
          5.056938648223877,
          14.089982032775879,
          7.3813605308532715,
          13.040640830993652,
          9.13932991027832,
          -4.184495449066162,
          11.824995040893555,
          7.601020336151123,
          5.087797164916992,
          -3.3559937477111816,
          10.924727439880371,
          4.102856636047363,
          13.976996421813965,
          7.3895158767700195,
          5.598073959350586,
          8.406240463256836,
          7.076028823852539,
          5.1922760009765625,
          10.900994300842285,
          11.882235527038574,
          5.4850006103515625,
          7.89245080947876,
          3.8359334468841553,
          11.30274486541748,
          12.136077880859375,
          9.366408348083496,
          3.889659881591797,
          12.585854530334473,
          10.66708755493164,
          6.371715545654297,
          -4.523171424865723
         ],
         "yaxis": "y"
        },
        {
         "customdata": [
          [
           "PC World - Upcoming chip set<br>will include built-in security<br>features for your PC."
          ],
          [
           "SAN JOSE, Calif. -- Apple<br>Computer (Quote, Chart)<br>unveiled a batch of new iPods,<br>iTunes software and promos<br>designed to keep it atop the<br>heap of digital music players."
          ],
          [
           "Any product, any shape, any<br>size -- manufactured on your<br>desktop! The future is the<br>fabricator. By Bruce Sterling<br>from Wired magazine."
          ],
          [
           "The Microsoft CEO says one way<br>to stem growing piracy of<br>Windows and Office in emerging<br>markets is to offer low-cost<br>computers."
          ],
          [
           "PalmSource surprised the<br>mobile vendor community today<br>with the announcement that it<br>will acquire China MobileSoft<br>(CMS), ostensibly to leverage<br>that company's expertise in<br>building a mobile version of<br>the Linux operating system."
          ],
          [
           "JEFFERSON CITY - An election<br>security expert has raised<br>questions about Missouri<br>Secretary of State Matt Blunt<br>#39;s plan to let soldiers at<br>remote duty stations or in<br>combat areas cast their<br>ballots with the help of<br>e-mail."
          ],
          [
           "A new, optional log-on service<br>from America Online that makes<br>it harder for scammers to<br>access a persons online<br>account will not be available<br>for Macintosh"
          ],
          [
           "It #39;s official. Microsoft<br>recently stated<br>definitivelyand contrary to<br>rumorsthat there will be no<br>new versions of Internet<br>Explorer for users of older<br>versions of Windows."
          ],
          [
           "But fresh antitrust suit is in<br>the envelope, says Novell"
          ],
          [
           "Chips that help a computer's<br>main microprocessors perform<br>specific types of math<br>problems are becoming a big<br>business once again.\\"
          ],
          [
           "A rocket carrying two Russian<br>cosmonauts and an American<br>astronaut to the international<br>space station streaked into<br>orbit on Thursday, the latest<br>flight of a Russian space<br>vehicle to fill in for<br>grounded US shuttles."
          ],
          [
           "OCTOBER 12, 2004<br>(COMPUTERWORLD) - Microsoft<br>Corp. #39;s monthly patch<br>release cycle may be making it<br>more predictable for users to<br>deploy software updates, but<br>there appears to be little<br>letup in the number of holes<br>being discovered in the<br>company #39;s software"
          ],
          [
           "Wearable tech goes mainstream<br>as the Gap introduces jacket<br>with built-in radio.\\"
          ],
          [
           "Funding round of \\$105 million<br>brings broadband Internet<br>telephony company's total haul<br>to \\$208 million."
          ],
          [
           "washingtonpost.com - Anthony<br>Casalena was 17 when he got<br>his first job as a programmer<br>for a start-up called<br>HyperOffice, a software<br>company that makes e-mail and<br>contact management<br>applications for the Web.<br>Hired as an intern, he became<br>a regular programmer after two<br>weeks and rewrote the main<br>product line."
          ],
          [
           "The fossilized neck bones of a<br>230-million-year-old sea<br>creature have features<br>suggesting that the animal<br>#39;s snakelike throat could<br>flare open and create suction<br>that would pull in prey."
          ],
          [
           "IBM late on Tuesday announced<br>the biggest update of its<br>popular WebSphere business<br>software in two years, adding<br>features such as automatically<br>detecting and fixing problems."
          ],
          [
           "AP - British entrepreneur<br>Richard Branson said Monday<br>that his company plans to<br>launch commercial space<br>flights over the next few<br>years."
          ],
          [
           "A group of Internet security<br>and instant messaging<br>providers have teamed up to<br>detect and thwart the growing<br>threat of IM and peer-to-peer<br>viruses and worms, they said<br>this week."
          ],
          [
           "His first space flight was in<br>1965 when he piloted the first<br>manned Gemini mission. Later<br>he made two trips to the moon<br>-- orbiting during a 1969<br>flight and then walking on the<br>lunar surface during a mission<br>in 1972."
          ],
          [
           "By RACHEL KONRAD    SAN<br>FRANCISCO (AP) -- EBay Inc.,<br>which has been aggressively<br>expanding in Asia, plans to<br>increase its stake in South<br>Korea's largest online auction<br>company.    The Internet<br>auction giant said Tuesday<br>night that it would purchase<br>nearly 3 million publicly held<br>shares of Internet Auction<br>Co..."
          ],
          [
           "AP - China's biggest computer<br>maker, Lenovo Group, said<br>Wednesday it has acquired a<br>majority stake in<br>International Business<br>Machines Corp.'s personal<br>computer business for<br>#36;1.75 billion, one of the<br>biggest Chinese overseas<br>acquisitions ever."
          ],
          [
           "Big evolutionary insights<br>sometimes come in little<br>packages. Witness the<br>startling discovery, in a cave<br>on the eastern Indonesian<br>island of Flores, of the<br>partial skeleton of a half-<br>size Homo species that"
          ],
          [
           "Luke Skywalker and Darth Vader<br>may get all the glory, but a<br>new Star Wars video game<br>finally gives credit to the<br>everyday grunts who couldn<br>#39;t summon the Force for<br>help."
          ],
          [
           " LOS ANGELES (Reuters) -<br>Federal authorities raided<br>three  Washington, D.C.-area<br>video game stores and arrested<br>two people  for modifying<br>video game consoles to play<br>pirated video games,  a video<br>game industry group said on<br>Wednesday."
          ],
          [
           "Thornbugs communicate by<br>vibrating the branches they<br>live on. Now scientists are<br>discovering just what the bugs<br>are \"saying.\""
          ],
          [
           "Federal prosecutors cracked a<br>global cartel that had<br>illegally fixed prices of<br>memory chips in personal<br>computers and servers for<br>three years."
          ],
          [
           "AP - Oracle Corp. CEO Larry<br>Ellison reiterated his<br>determination to prevail in a<br>long-running takeover battle<br>with rival business software<br>maker PeopleSoft Inc.,<br>predicting the proposed deal<br>will create a more competitive<br>company with improved customer<br>service."
          ],
          [
           "AP - Scientists warned Tuesday<br>that a long-term increase in<br>global temperature of 3.5<br>degrees could threaten Latin<br>American water supplies,<br>reduce food yields in Asia and<br>result in a rise in extreme<br>weather conditions in the<br>Caribbean."
          ],
          [
           "AP - Further proof New York's<br>real estate market is<br>inflated: The city plans to<br>sell space on top of lampposts<br>to wireless phone companies<br>for  #36;21.6 million a year."
          ],
          [
           "The rollout of new servers and<br>networking switches in stores<br>is part of a five-year<br>agreement supporting 7-Eleven<br>#39;s Retail Information<br>System."
          ],
          [
           "Top Hollywood studios have<br>launched a wave of court cases<br>against internet users who<br>illegally download film files.<br>The Motion Picture Association<br>of America, which acts as the<br>representative of major film"
          ],
          [
           "AUSTRALIANS went into a<br>television-buying frenzy the<br>run-up to the Athens Olympics,<br>suggesting that as a nation we<br>could easily have scored a<br>gold medal for TV purchasing."
          ],
          [
           "The next time you are in your<br>bedroom with your PC plus<br>Webcam switched on, don #39;t<br>think that your privacy is all<br>intact. If you have a Webcam<br>plugged into an infected<br>computer, there is a<br>possibility that"
          ],
          [
           "AP - Shawn Fanning's Napster<br>software enabled countless<br>music fans to swap songs on<br>the Internet for free, turning<br>him into the recording<br>industry's enemy No. 1 in the<br>process."
          ],
          [
           "Reuters - Walt Disney Co.<br>is\\increasing investment in<br>video games for hand-held<br>devices and\\plans to look for<br>acquisitions of small game<br>publishers and\\developers,<br>Disney consumer products<br>Chairman Andy Mooney said\\on<br>Monday."
          ],
          [
           "BANGKOK - A UN conference last<br>week banned commercial trade<br>in the rare Irrawaddy dolphin,<br>a move environmentalists said<br>was needed to save the<br>threatened species."
          ],
          [
           "PC World - Updated antivirus<br>software for businesses adds<br>intrusion prevention features."
          ],
          [
           "Reuters - Online media company<br>Yahoo Inc.\\ late on Monday<br>rolled out tests of redesigned<br>start\\pages for its popular<br>Yahoo.com and My.Yahoo.com<br>sites."
          ],
          [
           "The Sun may have captured<br>thousands or even millions of<br>asteroids from another<br>planetary system during an<br>encounter more than four<br>billion years ago, astronomers<br>are reporting."
          ],
          [
           "Thumb through the book - then<br>buy a clean copy from Amazon"
          ],
          [
           "Reuters - High-definition<br>television can\\show the sweat<br>beading on an athlete's brow,<br>but the cost of\\all the<br>necessary electronic equipment<br>can get a shopper's own\\pulse<br>racing."
          ],
          [
           "MacCentral - Apple Computer<br>Inc. on Monday released an<br>update for Apple Remote<br>Desktop (ARD), the company's<br>software solution to assist<br>Mac system administrators and<br>computer managers with asset<br>management, software<br>distribution and help desk<br>support. ARD 2.1 includes<br>several enhancements and bug<br>fixes."
          ],
          [
           "The fastest-swiveling space<br>science observatory ever built<br>rocketed into orbit on<br>Saturday to scan the universe<br>for celestial explosions."
          ],
          [
           "Copernic Unleashes Desktop<br>Search Tool\\\\Copernic<br>Technologies Inc. today<br>announced Copernic Desktop<br>Search(TM) (CDS(TM)), \"The<br>Search Engine For Your PC<br>(TM).\" Copernic has used the<br>experience gained from over 30<br>million downloads of its<br>Windows-based Web search<br>software to develop CDS, a<br>desktop search product that<br>users are saying is far ..."
          ],
          [
           "The DVD Forum moved a step<br>further toward the advent of<br>HD DVD media and drives with<br>the approval of key physical<br>specifications at a meeting of<br>the organisations steering<br>committee last week."
          ],
          [
           "Often pigeonholed as just a<br>seller of televisions and DVD<br>players, Royal Philips<br>Electronics said third-quarter<br>profit surged despite a slide<br>into the red by its consumer<br>electronics division."
          ],
          [
           "AP - Google, the Internet<br>search engine, has done<br>something that law enforcement<br>officials and their computer<br>tools could not: Identify a<br>man who died in an apparent<br>hit-and-run accident 11 years<br>ago in this small town outside<br>Yakima."
          ],
          [
           "We are all used to IE getting<br>a monthly new security bug<br>found, but Winamp? In fact,<br>this is not the first security<br>flaw found in the application."
          ],
          [
           "The Apache Software Foundation<br>and the Debian Project said<br>they won't support the Sender<br>ID e-mail authentication<br>standard in their products."
          ],
          [
           "USATODAY.com - The newly<br>restored THX 1138 arrives on<br>DVD today with Star Wars<br>creator George Lucas' vision<br>of a Brave New World-like<br>future."
          ]
         ],
         "hovertemplate": "label=Sci/Tech<br>Component 0=%{x}<br>Component 1=%{y}<br>string=%{customdata[0]}<extra></extra>",
         "legendgroup": "Sci/Tech",
         "marker": {
          "color": "#EF553B",
          "size": 5,
          "symbol": "diamond"
         },
         "mode": "markers",
         "name": "Sci/Tech",
         "orientation": "v",
         "showlegend": true,
         "type": "scatter",
         "x": [
          -15.426653861999512,
          -12.947819709777832,
          -13.777823448181152,
          -13.949373245239258,
          -9.173030853271484,
          0.12757736444473267,
          -17.74955940246582,
          -18.424842834472656,
          -12.08410358428955,
          -13.881023406982422,
          -1.6368842124938965,
          -16.48955726623535,
          -13.310428619384766,
          -12.684072494506836,
          -14.307535171508789,
          -9.304939270019531,
          -15.854140281677246,
          -2.9084994792938232,
          -16.80522346496582,
          -1.0400642156600952,
          -10.93899154663086,
          -10.577401161193848,
          -9.22530460357666,
          -7.054723262786865,
          -11.794222831726074,
          -10.597368240356445,
          -12.529747009277344,
          -11.132542610168457,
          -2.0624096393585205,
          -4.932309627532959,
          -13.246878623962402,
          -10.328353881835938,
          3.405728816986084,
          -16.824819564819336,
          -10.957906723022461,
          -9.9977445602417,
          -0.8583289384841919,
          -15.756138801574707,
          -15.074265480041504,
          -1.2099921703338623,
          -6.905072212219238,
          1.9452108144760132,
          -17.346923828125,
          -1.4742134809494019,
          -15.500842094421387,
          -8.821208953857422,
          -8.230031967163086,
          7.940400123596191,
          -17.687284469604492,
          -19.081998825073242,
          -7.314907073974609
         ],
         "xaxis": "x",
         "y": [
          3.0819311141967773,
          -0.6653150916099548,
          5.654483318328857,
          2.2000527381896973,
          -1.1124540567398071,
          9.561738014221191,
          2.5888969898223877,
          0.6121736168861389,
          0.49564528465270996,
          3.531831979751587,
          0.8515645265579224,
          -0.10375329107046127,
          6.08590841293335,
          -4.189236164093018,
          0.23602518439292908,
          10.763832092285156,
          -0.4644486904144287,
          0.38544148206710815,
          2.211536407470703,
          0.1375817060470581,
          -3.1383697986602783,
          -1.9144816398620605,
          10.813606262207031,
          3.2951831817626953,
          3.7011778354644775,
          9.252290725708008,
          3.2067792415618896,
          -0.6257666349411011,
          11.845742225646973,
          -0.39604687690734863,
          -2.377138137817383,
          2.889777898788452,
          -2.084059000015259,
          4.311347007751465,
          1.6752736568450928,
          -4.428614139556885,
          5.67789363861084,
          2.7252514362335205,
          -2.855956554412842,
          2.2894859313964844,
          1.5596376657485962,
          -3.18499755859375,
          -2.037797689437866,
          1.623095989227295,
          0.9020096063613892,
          3.0483243465423584,
          -4.636092185974121,
          3.6295673847198486,
          0.0811726450920105,
          2.1680855751037598,
          2.958853006362915
         ],
         "yaxis": "y"
        },
        {
         "customdata": [
          [
           "Newspapers in Greece reflect a<br>mixture of exhilaration that<br>the Athens Olympics proved<br>successful, and relief that<br>they passed off without any<br>major setback."
          ],
          [
           "Loudon, NH -- As the rain<br>began falling late Friday<br>afternoon at New Hampshire<br>International Speedway, the<br>rich in the Nextel Cup garage<br>got richer."
          ],
          [
           "AP - Ottawa Senators right<br>wing Marian Hossa is switching<br>European teams during the NHL<br>lockout."
          ],
          [
           "Chelsea terminated Romania<br>striker Adrian Mutu #39;s<br>contract, citing gross<br>misconduct after the player<br>failed a doping test for<br>cocaine and admitted taking<br>the drug, the English soccer<br>club said in a statement."
          ],
          [
           "The success of Paris #39; bid<br>for Olympic Games 2012 would<br>bring an exceptional<br>development for France for at<br>least 6 years, said Jean-<br>Francois Lamour, French<br>minister for Youth and Sports<br>on Tuesday."
          ],
          [
           "Madison, WI (Sports Network) -<br>Anthony Davis ran for 122<br>yards and two touchdowns to<br>lead No. 6 Wisconsin over<br>Northwestern, 24-12, to<br>celebrate Homecoming weekend<br>at Camp Randall Stadium."
          ],
          [
           "LaVar Arrington participated<br>in his first practice since<br>Oct. 25, when he aggravated a<br>knee injury that sidelined him<br>for 10 games."
          ],
          [
           " NEW YORK (Reuters) - Billie<br>Jean King cut her final tie<br>with the U.S. Fed Cup team<br>Tuesday when she retired as<br>coach."
          ],
          [
           "The Miami Dolphins arrived for<br>their final exhibition game<br>last night in New Orleans<br>short nine players."
          ],
          [
           "AP - From LSU at No. 1 to Ohio<br>State at No. 10, The AP<br>women's basketball poll had no<br>changes Monday."
          ],
          [
           "nother stage victory for race<br>leader Petter Solberg, his<br>fifth since the start of the<br>rally. The Subaru driver is<br>not pulling away at a fast<br>pace from Gronholm and Loeb<br>but the gap is nonetheless<br>increasing steadily."
          ],
          [
           "April 1980 -- Players strike<br>the last eight days of spring<br>training. Ninety-two<br>exhibition games are canceled.<br>June 1981 -- Players stage<br>first midseason strike in<br>history."
          ],
          [
           "On Sunday, the day after Ohio<br>State dropped to 0-3 in the<br>Big Ten with a 33-7 loss at<br>Iowa, the Columbus Dispatch<br>ran a single word above its<br>game story on the Buckeyes:<br>quot;Embarrassing."
          ],
          [
           "BOSTON - Curt Schilling got<br>his 20th win on the eve of<br>Boston #39;s big series with<br>the New York Yankees. Now he<br>wants much more.  quot;In a<br>couple of weeks, hopefully, it<br>will get a lot better, quot;<br>he said after becoming"
          ],
          [
           "Shooed the ghosts of the<br>Bambino and the Iron Horse and<br>the Yankee Clipper and the<br>Mighty Mick, on his 73rd<br>birthday, no less, and turned<br>Yankee Stadium into a morgue."
          ],
          [
           "Gold medal-winning Marlon<br>Devonish says the men #39;s<br>4x100m Olympic relay triumph<br>puts British sprinting back on<br>the map. Devonish, Darren<br>Campbell, Jason Gardener and<br>Mark Lewis-Francis edged out<br>the American"
          ],
          [
           "he difficult road conditions<br>created a few incidents in the<br>first run of the Epynt stage.<br>Francois Duval takes his<br>second stage victory since the<br>start of the rally, nine<br>tenths better than Sebastien<br>Loeb #39;s performance in<br>second position."
          ],
          [
           "Tallahassee, FL (Sports<br>Network) - Florida State head<br>coach Bobby Bowden has<br>suspended senior wide receiver<br>Craphonso Thorpe for the<br>Seminoles #39; game against<br>fellow Atlantic Coast<br>Conference member Duke on<br>Saturday."
          ],
          [
           "Former champion Lleyton Hewitt<br>bristled, battled and<br>eventually blossomed as he<br>took another step towards a<br>second US Open title with a<br>second-round victory over<br>Moroccan Hicham Arazi on<br>Friday."
          ],
          [
           "As the Mets round out their<br>search for a new manager, the<br>club is giving a last-minute<br>nod to its past. Wally<br>Backman, an infielder for the<br>Mets from 1980-88 who played<br>second base on the 1986"
          ],
          [
           "AMSTERDAM, Aug 18 (Reuters) -<br>Midfielder Edgar Davids #39;s<br>leadership qualities and<br>never-say-die attitude have<br>earned him the captaincy of<br>the Netherlands under new<br>coach Marco van Basten."
          ],
          [
           "COUNTY KILKENNY, Ireland (PA)<br>-- Hurricane Jeanne has led to<br>world No. 1 Vijay Singh<br>pulling out of this week #39;s<br>WGC-American Express<br>Championship at Mount Juliet."
          ],
          [
           "Green Bay, WI (Sports Network)<br>- The Green Bay Packers will<br>be without the services of Pro<br>Bowl center Mike Flanagan for<br>the remainder of the season,<br>as he will undergo left knee<br>surgery."
          ],
          [
           "COLUMBUS, Ohio -- NCAA<br>investigators will return to<br>Ohio State University Monday<br>to take another look at the<br>football program after the<br>latest round of allegations<br>made by former players,<br>according to the Akron Beacon<br>Journal."
          ],
          [
           "Manchester United gave Alex<br>Ferguson a 1,000th game<br>anniversary present by<br>reaching the last 16 of the<br>Champions League yesterday,<br>while four-time winners Bayern<br>Munich romped into the second<br>round with a 5-1 beating of<br>Maccabi Tel Aviv."
          ],
          [
           "The last time the Angels<br>played the Texas Rangers, they<br>dropped two consecutive<br>shutouts at home in their most<br>agonizing lost weekend of the<br>season."
          ],
          [
           "SEATTLE - Chasing a nearly<br>forgotten ghost of the game,<br>Ichiro Suzuki broke one of<br>baseball #39;s oldest records<br>Friday night, smoking a single<br>up the middle for his 258th<br>hit of the year and breaking<br>George Sisler #39;s record for<br>the most hits in a season"
          ],
          [
           "Grace Park, her caddie - and<br>fans - were poking around in<br>the desert brush alongside the<br>18th fairway desperately<br>looking for her ball."
          ],
          [
           "Washington Redskins kicker<br>John Hall strained his right<br>groin during practice<br>Thursday, his third leg injury<br>of the season. Hall will be<br>held out of practice Friday<br>and is questionable for Sunday<br>#39;s game against the Chicago<br>Bears."
          ],
          [
           "The Florida Gators and<br>Arkansas Razorbacks meet for<br>just the sixth time Saturday.<br>The Gators hold a 4-1<br>advantage in the previous five<br>meetings, including last year<br>#39;s 33-28 win."
          ],
          [
           "AP - 1941  #151; Brooklyn<br>catcher Mickey Owen dropped a<br>third strike on Tommy Henrich<br>of what would have been the<br>last out of a Dodgers victory<br>against the New York Yankees.<br>Given the second chance, the<br>Yankees scored four runs for a<br>7-4 victory and a 3-1 lead in<br>the World Series, which they<br>ended up winning."
          ],
          [
           "Braves shortstop Rafael Furcal<br>was arrested on drunken<br>driving charges Friday, his<br>second D.U.I. arrest in four<br>years."
          ],
          [
           " ATHENS (Reuters) - Natalie<br>Coughlin's run of bad luck<br>finally took a turn for the<br>better when she won the gold<br>medal  in the women's 100<br>meters backstroke at the<br>Athens Olympics  Monday."
          ],
          [
           "AP - Pedro Feliz hit a<br>tiebreaking grand slam with<br>two outs in the eighth inning<br>for his fourth hit of the day,<br>and the Giants helped their<br>playoff chances with a 9-5<br>victory over the Los Angeles<br>Dodgers on Saturday."
          ],
          [
           "LEVERKUSEN/ROME, Dec 7 (SW) -<br>Dynamo Kiev, Bayer Leverkusen,<br>and Real Madrid all have a<br>good chance of qualifying for<br>the Champions League Round of<br>16 if they can get the right<br>results in Group F on<br>Wednesday night."
          ],
          [
           "Ed Hinkel made a diving,<br>fingertip catch for a key<br>touchdown and No. 16 Iowa<br>stiffened on defense when it<br>needed to most to beat Iowa<br>State 17-10 Saturday."
          ],
          [
           "During last Sunday #39;s<br>Nextel Cup race, amid the<br>ongoing furor over Dale<br>Earnhardt Jr. #39;s salty<br>language, NBC ran a commercial<br>for a show coming on later<br>that night called  quot;Law<br>amp; Order: Criminal Intent."
          ],
          [
           "AP - After playing in hail,<br>fog and chill, top-ranked<br>Southern California finishes<br>its season in familiar<br>comfort. The Trojans (9-0, 6-0<br>Pacific-10) have two games at<br>home  #151; against Arizona on<br>Saturday and Notre Dame on<br>Nov. 27  #151; before their<br>rivalry game at UCLA."
          ],
          [
           "The remnants of Hurricane<br>Jeanne rained out Monday's<br>game between the Mets and the<br>Atlanta Braves. It will be<br>made up Tuesday as part of a<br>doubleheader."
          ],
          [
           "AP - NASCAR is not expecting<br>any immediate changes to its<br>top-tier racing series<br>following the merger between<br>telecommunications giant<br>Sprint Corp. and Nextel<br>Communications Inc."
          ],
          [
           "Like wide-open races? You<br>#39;ll love the Big 12 North.<br>Here #39;s a quick morning<br>line of the Big 12 North as it<br>opens conference play this<br>weekend."
          ],
          [
           "Taquan Dean scored 22 points,<br>Francisco Garcia added 19 and<br>No. 13 Louisville withstood a<br>late rally to beat Florida<br>74-70 Saturday."
          ],
          [
           "NEW YORK -- This was all about<br>Athens, about redemption for<br>one and validation for the<br>other. Britain's Paula<br>Radcliffe, the fastest female<br>marathoner in history, failed<br>to finish either of her<br>Olympic races last summer.<br>South Africa's Hendrik Ramaala<br>was a five-ringed dropout,<br>too, reinforcing his<br>reputation as a man who could<br>go only half the distance."
          ],
          [
           "LONDON -- Ernie Els has set<br>his sights on an improved<br>putting display this week at<br>the World Golf Championships<br>#39; NEC Invitational in<br>Akron, Ohio, after the<br>disappointment of tying for<br>fourth place at the PGA<br>Championship last Sunday."
          ],
          [
           "Fiji #39;s Vijay Singh<br>replaced Tiger Woods as the<br>world #39;s No.1 ranked golfer<br>today by winning the PGA<br>Deutsche Bank Championship."
          ],
          [
           "LEIPZIG, Germany : Jurgen<br>Klinsmann enjoyed his first<br>home win as German manager<br>with his team defeating ten-<br>man Cameroon 3-0 in a friendly<br>match."
          ],
          [
           "AP - Kevin Brown had a chance<br>to claim a place in Yankees<br>postseason history with his<br>start in Game 7 of the AL<br>championship series."
          ],
          [
           "HOMESTEAD, Fla. -- Kurt Busch<br>got his first big break in<br>NASCAR by winning a 1999<br>talent audition nicknamed<br>quot;The Gong Show. quot; He<br>was selected from dozens of<br>unknown, young race drivers to<br>work for one of the sport<br>#39;s most famous team owners,<br>Jack Roush."
          ],
          [
           "Zurich, Switzerland (Sports<br>Network) - Former world No. 1<br>Venus Williams advanced on<br>Thursday and will now meet<br>Wimbledon champion Maria<br>Sharapova in the quarterfinals<br>at the \\$1."
          ],
          [
           "INDIA #39;S cricket chiefs<br>began a frenetic search today<br>for a broadcaster to show next<br>month #39;s home series<br>against world champion<br>Australia after cancelling a<br>controversial \\$US308 million<br>(\\$440 million) television<br>deal."
          ],
          [
           "The International Olympic<br>Committee (IOC) has urged<br>Beijing to ensure the city is<br>ready to host the 2008 Games<br>well in advance, an official<br>said on Wednesday."
          ],
          [
           "Virginia Tech scores 24 points<br>off four first-half turnovers<br>in a 55-6 wipeout of Maryland<br>on Thursday to remain alone<br>atop the ACC."
          ],
          [
           "AP - Martina Navratilova's<br>long, illustrious career will<br>end without an Olympic medal.<br>The 47-year-old Navratilova<br>and Lisa Raymond lost 6-4,<br>4-6, 6-4 on Thursday night to<br>fifth-seeded Shinobu Asagoe<br>and Ai Sugiyama of Japan in<br>the quarterfinals, one step<br>shy of the medal round."
          ]
         ],
         "hovertemplate": "label=Sports<br>Component 0=%{x}<br>Component 1=%{y}<br>string=%{customdata[0]}<extra></extra>",
         "legendgroup": "Sports",
         "marker": {
          "color": "#00cc96",
          "size": 5,
          "symbol": "square"
         },
         "mode": "markers",
         "name": "Sports",
         "orientation": "v",
         "showlegend": true,
         "type": "scatter",
         "x": [
          4.022860050201416,
          3.823129653930664,
          10.272479057312012,
          11.63478946685791,
          3.8455862998962402,
          7.600007057189941,
          12.868605613708496,
          8.615945816040039,
          11.591919898986816,
          5.648723125457764,
          3.573201894760132,
          14.429536819458008,
          7.879891872406006,
          12.601251602172852,
          14.750268936157227,
          6.35500431060791,
          3.6158316135406494,
          10.043961524963379,
          7.0086259841918945,
          14.205427169799805,
          13.482503890991211,
          8.02953052520752,
          13.417240142822266,
          7.8071794509887695,
          12.423192024230957,
          11.928711891174316,
          13.934257507324219,
          6.075150489807129,
          13.216493606567383,
          9.822535514831543,
          13.295446395874023,
          10.913054466247559,
          7.3465375900268555,
          12.498109817504883,
          11.484366416931152,
          8.182100296020508,
          3.3641557693481445,
          6.122057914733887,
          10.505556106567383,
          3.326659679412842,
          4.125461578369141,
          8.874545097351074,
          7.347260475158691,
          6.878449440002441,
          7.98443603515625,
          12.014229774475098,
          12.74744987487793,
          2.789890766143799,
          7.380620956420898,
          3.9402570724487305,
          3.7072818279266357,
          8.450026512145996,
          8.282596588134766
         ],
         "xaxis": "x",
         "y": [
          -1.3403761386871338,
          -10.409658432006836,
          -5.202568531036377,
          -4.707862854003906,
          0.22853979468345642,
          -14.254446029663086,
          -14.750025749206543,
          -5.341374397277832,
          -12.614466667175293,
          -13.612591743469238,
          -7.743598937988281,
          -10.24481201171875,
          -12.002104759216309,
          -7.642955303192139,
          -8.563284873962402,
          -2.138657331466675,
          -7.5944390296936035,
          -13.522394180297852,
          -5.833065509796143,
          -6.570700645446777,
          -4.293611526489258,
          -8.076020240783691,
          -13.70893383026123,
          -11.626471519470215,
          -2.773000478744507,
          -10.622929573059082,
          -7.956149578094482,
          -7.528345584869385,
          -14.413596153259277,
          -15.088998794555664,
          -9.340813636779785,
          -8.853353500366211,
          -1.3753795623779297,
          -9.45376205444336,
          -2.3751935958862305,
          -13.373306274414062,
          -10.716744422912598,
          -14.313161849975586,
          -10.537450790405273,
          -12.242183685302734,
          -14.356553077697754,
          -14.621485710144043,
          -2.457841157913208,
          -7.073178291320801,
          -7.681424617767334,
          -3.1246531009674072,
          -8.759587287902832,
          -9.905247688293457,
          -5.1751251220703125,
          -3.4616928100585938,
          0.37333571910858154,
          -15.14441204071045,
          -4.190382957458496
         ],
         "yaxis": "y"
        },
        {
         "customdata": [
          [
           "The EU and US moved closer to<br>an aviation trade war after<br>failing to reach agreement<br>during talks Thursday on<br>subsidies to Airbus Industrie."
          ],
          [
           " SAN FRANCISCO (Reuters) -<br>Nike Inc. &lt;A HREF=\"http://w<br>ww.investor.reuters.com/FullQu<br>ote.aspx?ticker=NKE.N target=/<br>stocks/quickinfo/fullquote\"&gt<br>;NKE.N&lt;/A&gt;, the world's<br>largest athletic shoe company,<br>on Monday reported a 25<br>percent  rise in quarterly<br>profit, beating analysts'<br>estimates, on  strong demand<br>for high-end running and<br>basketball shoes in the<br>United States."
          ],
          [
           "NEW YORK (CBS.MW) - US stocks<br>traded mixed Thurday as Merck<br>shares lost a quarter of their<br>value, dragging blue chips<br>lower, but the Nasdaq moved<br>higher, buoyed by gains in the<br>semiconductor sector."
          ],
          [
           "Bankrupt ATA Airlines #39;<br>withdrawal from Chicago #39;s<br>Midway International Airport<br>presents a juicy opportunity<br>for another airline to beef up<br>service in the Midwest"
          ],
          [
           "The Instinet Group, owner of<br>one of the largest electronic<br>stock trading systems, is for<br>sale, executives briefed on<br>the plan say."
          ],
          [
           "The Auburn Hills-based<br>Chrysler Group made a profit<br>of \\$269 million in the third<br>quarter, even though worldwide<br>sales and revenues declined,<br>contributing to a \\$1."
          ],
          [
           "SAN FRANCISCO (CBS.MW) -- UAL<br>Corp., parent of United<br>Airlines, said Wednesday it<br>will overhaul its route<br>structure to reduce costs and<br>offset rising fuel costs."
          ],
          [
           "Annual economic growth in<br>China has slowed for the third<br>quarter in a row, falling to<br>9.1 per cent, third-quarter<br>data shows. The slowdown shows<br>the economy is responding to<br>Beijing #39;s efforts to rein<br>in break-neck investment and<br>lending."
          ],
          [
           "THE All-India Motor Transport<br>Congress (AIMTC) on Saturday<br>called off its seven-day<br>strike after finalising an<br>agreement with the Government<br>on the contentious issue of<br>service tax and the various<br>demands including tax deducted<br>at source (TDS), scrapping"
          ],
          [
           "AP - The euro-zone economy<br>grew by 0.5 percent in the<br>second quarter of 2004, a<br>touch slower than in the first<br>three months of the year,<br>according to initial estimates<br>released Tuesday by the<br>European Union."
          ],
          [
           "A few years ago, casinos<br>across the United States were<br>closing their poker rooms to<br>make space for more popular<br>and lucrative slot machines."
          ],
          [
           "WASHINGTON -- Consumers were<br>tightfisted amid soaring<br>gasoline costs in August and<br>hurricane-related disruptions<br>last week sent applications<br>for jobless benefits to their<br>highest level in seven months."
          ],
          [
           "Talking kitchens and vanities.<br>Musical jump ropes and potty<br>seats. Blusterous miniature<br>leaf blowers and vacuum<br>cleaners -- almost as loud as<br>the real things."
          ],
          [
           "Online merchants in the United<br>States have become better at<br>weeding out fraudulent credit<br>card orders, a new survey<br>indicates. But shipping<br>overseas remains a risky<br>venture. By Joanna Glasner."
          ],
          [
           "Popping a gadget into a cradle<br>to recharge it used to mean<br>downtime, but these days<br>chargers are doing double<br>duty, keeping your portable<br>devices playing even when<br>they're charging."
          ],
          [
           " SAN FRANCISCO (Reuters) -<br>Texas Instruments Inc. &lt;A H<br>REF=\"http://www.investor.reute<br>rs.com/FullQuote.aspx?ticker=T<br>XN.N target=/stocks/quickinfo/<br>fullquote\"&gt;TXN.N&lt;/A&gt;,<br>the largest maker of chips for<br>cellular phones, on Monday<br>said  record demand for its<br>handset and television chips<br>boosted  quarterly profit by<br>26 percent, even as it<br>struggles with a  nagging<br>inventory problem."
          ],
          [
           "LONDON ARM Holdings, a British<br>semiconductor designer, said<br>on Monday that it would buy<br>Artisan Components for \\$913<br>million to broaden its product<br>range."
          ],
          [
           "MELBOURNE: Global shopping<br>mall owner Westfield Group<br>will team up with Australian<br>developer Multiplex Group to<br>bid 585mil (US\\$1."
          ],
          [
           "Reuters - Delta Air Lines Inc.<br>, which is\\racing to cut costs<br>to avoid bankruptcy, on<br>Wednesday reported\\a wider<br>quarterly loss amid soaring<br>fuel prices and weak\\domestic<br>airfares."
          ],
          [
           "Energy utility TXU Corp. on<br>Monday more than quadrupled<br>its quarterly dividend payment<br>and raised its projected<br>earnings for 2004 and 2005<br>after a companywide<br>performance review."
          ],
          [
           "Northwest Airlines Corp., the<br>fourth- largest US airline,<br>and its pilots union reached<br>tentative agreement on a<br>contract that would cut pay<br>and benefits, saving the<br>company \\$265 million a year."
          ],
          [
           "Microsoft Corp. MSFT.O and<br>cable television provider<br>Comcast Corp. CMCSA.O said on<br>Monday that they would begin<br>deploying set-top boxes<br>powered by Microsoft software<br>starting next week."
          ],
          [
           "Philippines mobile phone<br>operator Smart Communications<br>Inc. is in talks with<br>Singapore #39;s Mobile One for<br>a possible tie-up,<br>BusinessWorld reported Monday."
          ],
          [
           "Airline warns it may file for<br>bankruptcy if too many senior<br>pilots take early retirement<br>option. Delta Air LInes #39;<br>CEO says it faces bankruptcy<br>if it can #39;t slow the pace<br>of pilots taking early<br>retirement."
          ],
          [
           "Kodak Versamark #39;s parent<br>company, Eastman Kodak Co.,<br>reported Tuesday it plans to<br>eliminate almost 900 jobs this<br>year in a restructuring of its<br>overseas operations."
          ],
          [
           "A top official of the US Food<br>and Drug Administration said<br>Friday that he and his<br>colleagues  quot;categorically<br>reject quot; earlier<br>Congressional testimony that<br>the agency has failed to<br>protect the public against<br>dangerous drugs."
          ],
          [
           "AFP - British retailer Marks<br>and Spencer announced a major<br>management shake-up as part of<br>efforts to revive its<br>fortunes, saying trading has<br>become tougher ahead of the<br>crucial Christmas period."
          ],
          [
           " ATLANTA (Reuters) - Home<br>Depot Inc. &lt;A HREF=\"http://<br>www.investor.reuters.com/FullQ<br>uote.aspx?ticker=HD.N target=/<br>stocks/quickinfo/fullquote\"&gt<br>;HD.N&lt;/A&gt;, the top home<br>improvement retailer, on<br>Tuesday reported a 15 percent<br>rise in  third-quarter profit,<br>topping estimates, aided by<br>installed  services and sales<br>to contractors."
          ],
          [
           " LONDON (Reuters) - The dollar<br>fought back from one-month<br>lows against the euro and<br>Swiss franc on Wednesday as<br>investors  viewed its sell-off<br>in the wake of the Federal<br>Reserve's  verdict on interest<br>rates as overdone."
          ],
          [
           "Boston Scientific Corp said on<br>Friday it has recalled an ear<br>implant the company acquired<br>as part of its purchase of<br>Advanced Bionics in June."
          ],
          [
           "MarketWatch.com. Richemont<br>sees significant H1 lift,<br>unclear on FY (2:53 AM ET)<br>LONDON (CBS.MW) -- Swiss<br>luxury goods maker<br>Richemont(zz:ZZ:001273145:<br>news, chart, profile), which<br>also is a significant"
          ],
          [
           "Crude oil climbed more than<br>\\$1 in New York on the re-<br>election of President George<br>W. Bush, who has been filling<br>the US Strategic Petroleum<br>Reserve."
          ],
          [
           "Yukos #39; largest oil-<br>producing unit regained power<br>supplies from Tyumenenergo, a<br>Siberia-based electricity<br>generator, Friday after the<br>subsidiary pledged to pay 440<br>million rubles (\\$15 million)<br>in debt by Oct. 3."
          ],
          [
           "US STOCKS vacillated yesterday<br>as rising oil prices muted<br>Wall Streets excitement over<br>strong results from Lehman<br>Brothers and Sprints \\$35<br>billion acquisition of Nextel<br>Communications."
          ],
          [
           "At the head of the class,<br>Rosabeth Moss Kanter is an<br>intellectual whirlwind: loud,<br>expansive, in constant motion."
          ],
          [
           "A bitter row between America<br>and the European Union over<br>alleged subsidies to rival<br>aircraft makers Boeing and<br>Airbus intensified yesterday."
          ],
          [
           "Amsterdam (pts) - Dutch<br>electronics company Philips<br>http://www.philips.com has<br>announced today, Friday, that<br>it has cut its stake in Atos<br>Origin by more than a half."
          ],
          [
           "TORONTO (CP) - Two-thirds of<br>banks around the world have<br>reported an increase in the<br>volume of suspicious<br>activities that they report to<br>police, a new report by KPMG<br>suggests."
          ],
          [
           "The Atkins diet frenzy slowed<br>growth briefly, but the<br>sandwich business is booming,<br>with \\$105 billion in sales<br>last year."
          ],
          [
           "Luxury carmaker Jaguar said<br>Friday it was stopping<br>production at a factory in<br>central England, resulting in<br>a loss of 1,100 jobs,<br>following poor sales in the<br>key US market."
          ],
          [
           "John Gibson said Friday that<br>he decided to resign as chief<br>executive officer of<br>Halliburton Energy Services<br>when it became apparent he<br>couldn #39;t become the CEO of<br>the entire corporation, after<br>getting a taste of the No."
          ],
          [
           "NEW YORK (Reuters) - Outback<br>Steakhouse Inc. said Tuesday<br>it lost about 130 operating<br>days and up to \\$2 million in<br>revenue because it had to<br>close some restaurants in the<br>South due to Hurricane<br>Charley."
          ],
          [
           "State insurance commissioners<br>from across the country have<br>proposed new rules governing<br>insurance brokerage fees,<br>winning praise from an<br>industry group and criticism<br>from"
          ],
          [
           "SOFTWARE giant Oracle #39;s<br>stalled \\$7.7bn (4.2bn) bid to<br>take over competitor<br>PeopleSoft has received a huge<br>boost after a US judge threw<br>out an anti-trust lawsuit<br>filed by the Department of<br>Justice to block the<br>acquisition."
          ]
         ],
         "hovertemplate": "label=Business<br>Component 0=%{x}<br>Component 1=%{y}<br>string=%{customdata[0]}<extra></extra>",
         "legendgroup": "Business",
         "marker": {
          "color": "#ab63fa",
          "size": 5,
          "symbol": "x"
         },
         "mode": "markers",
         "name": "Business",
         "orientation": "v",
         "showlegend": true,
         "type": "scatter",
         "x": [
          -3.5882880687713623,
          -10.290353775024414,
          -7.568747520446777,
          -11.198770523071289,
          -11.904056549072266,
          -5.162750244140625,
          -10.131522178649902,
          -3.278952121734619,
          -5.689742088317871,
          -3.2301740646362305,
          -2.503514051437378,
          -4.906834125518799,
          -11.387686729431152,
          -3.3332858085632324,
          -12.85402774810791,
          -10.796675682067871,
          -11.685327529907227,
          -6.607216835021973,
          -9.922728538513184,
          -8.138015747070312,
          -10.212414741516113,
          -14.937405586242676,
          -8.574663162231445,
          -11.194849014282227,
          -6.48226261138916,
          -3.0876882076263428,
          -6.232292652130127,
          -9.744476318359375,
          -6.268627166748047,
          -13.29708480834961,
          -8.200876235961914,
          -6.418903350830078,
          -7.391969680786133,
          -7.1542253494262695,
          9.382284164428711,
          -3.7369258403778076,
          -8.128253936767578,
          -3.23360276222229,
          -2.8781285285949707,
          -4.9090142250061035,
          -8.428224563598633,
          -3.282393455505371,
          -5.30875301361084,
          -11.252021789550781
         ],
         "xaxis": "x",
         "y": [
          4.113420009613037,
          -7.186052322387695,
          -8.331405639648438,
          -10.126829147338867,
          -3.046355724334717,
          -6.082411766052246,
          -10.042460441589355,
          -11.518465995788574,
          7.722090244293213,
          -11.4441499710083,
          -6.7053070068359375,
          -9.337790489196777,
          8.28736686706543,
          -2.783567428588867,
          7.209471702575684,
          -6.84003210067749,
          -5.160014629364014,
          -2.555903673171997,
          -10.308048248291016,
          -10.980093002319336,
          -11.21141242980957,
          -1.621627926826477,
          -1.3538061380386353,
          -11.434540748596191,
          -5.036843776702881,
          6.958699703216553,
          -4.006008148193359,
          -7.399595737457275,
          -8.309650421142578,
          -5.811139106750488,
          -6.272401809692383,
          -10.019920349121094,
          -11.469974517822266,
          -8.770587921142578,
          -0.11211510002613068,
          4.054369926452637,
          -4.331855297088623,
          -2.841001272201538,
          -8.308055877685547,
          -5.727902889251709,
          5.788006782531738,
          -7.523571968078613,
          6.722318649291992,
          -0.7320746183395386
         ],
         "yaxis": "y"
        }
       ],
       "layout": {
        "height": 500,
        "legend": {
         "title": {
          "text": "label"
         },
         "tracegroupgap": 0
        },
        "template": {
         "data": {
          "bar": [
           {
            "error_x": {
             "color": "#2a3f5f"
            },
            "error_y": {
             "color": "#2a3f5f"
            },
            "marker": {
             "line": {
              "color": "#E5ECF6",
              "width": 0.5
             },
             "pattern": {
              "fillmode": "overlay",
              "size": 10,
              "solidity": 0.2
             }
            },
            "type": "bar"
           }
          ],
          "barpolar": [
           {
            "marker": {
             "line": {
              "color": "#E5ECF6",
              "width": 0.5
             },
             "pattern": {
              "fillmode": "overlay",
              "size": 10,
              "solidity": 0.2
             }
            },
            "type": "barpolar"
           }
          ],
          "carpet": [
           {
            "aaxis": {
             "endlinecolor": "#2a3f5f",
             "gridcolor": "white",
             "linecolor": "white",
             "minorgridcolor": "white",
             "startlinecolor": "#2a3f5f"
            },
            "baxis": {
             "endlinecolor": "#2a3f5f",
             "gridcolor": "white",
             "linecolor": "white",
             "minorgridcolor": "white",
             "startlinecolor": "#2a3f5f"
            },
            "type": "carpet"
           }
          ],
          "choropleth": [
           {
            "colorbar": {
             "outlinewidth": 0,
             "ticks": ""
            },
            "type": "choropleth"
           }
          ],
          "contour": [
           {
            "colorbar": {
             "outlinewidth": 0,
             "ticks": ""
            },
            "colorscale": [
             [
              0,
              "#0d0887"
             ],
             [
              0.1111111111111111,
              "#46039f"
             ],
             [
              0.2222222222222222,
              "#7201a8"
             ],
             [
              0.3333333333333333,
              "#9c179e"
             ],
             [
              0.4444444444444444,
              "#bd3786"
             ],
             [
              0.5555555555555556,
              "#d8576b"
             ],
             [
              0.6666666666666666,
              "#ed7953"
             ],
             [
              0.7777777777777778,
              "#fb9f3a"
             ],
             [
              0.8888888888888888,
              "#fdca26"
             ],
             [
              1,
              "#f0f921"
             ]
            ],
            "type": "contour"
           }
          ],
          "contourcarpet": [
           {
            "colorbar": {
             "outlinewidth": 0,
             "ticks": ""
            },
            "type": "contourcarpet"
           }
          ],
          "heatmap": [
           {
            "colorbar": {
             "outlinewidth": 0,
             "ticks": ""
            },
            "colorscale": [
             [
              0,
              "#0d0887"
             ],
             [
              0.1111111111111111,
              "#46039f"
             ],
             [
              0.2222222222222222,
              "#7201a8"
             ],
             [
              0.3333333333333333,
              "#9c179e"
             ],
             [
              0.4444444444444444,
              "#bd3786"
             ],
             [
              0.5555555555555556,
              "#d8576b"
             ],
             [
              0.6666666666666666,
              "#ed7953"
             ],
             [
              0.7777777777777778,
              "#fb9f3a"
             ],
             [
              0.8888888888888888,
              "#fdca26"
             ],
             [
              1,
              "#f0f921"
             ]
            ],
            "type": "heatmap"
           }
          ],
          "heatmapgl": [
           {
            "colorbar": {
             "outlinewidth": 0,
             "ticks": ""
            },
            "colorscale": [
             [
              0,
              "#0d0887"
             ],
             [
              0.1111111111111111,
              "#46039f"
             ],
             [
              0.2222222222222222,
              "#7201a8"
             ],
             [
              0.3333333333333333,
              "#9c179e"
             ],
             [
              0.4444444444444444,
              "#bd3786"
             ],
             [
              0.5555555555555556,
              "#d8576b"
             ],
             [
              0.6666666666666666,
              "#ed7953"
             ],
             [
              0.7777777777777778,
              "#fb9f3a"
             ],
             [
              0.8888888888888888,
              "#fdca26"
             ],
             [
              1,
              "#f0f921"
             ]
            ],
            "type": "heatmapgl"
           }
          ],
          "histogram": [
           {
            "marker": {
             "pattern": {
              "fillmode": "overlay",
              "size": 10,
              "solidity": 0.2
             }
            },
            "type": "histogram"
           }
          ],
          "histogram2d": [
           {
            "colorbar": {
             "outlinewidth": 0,
             "ticks": ""
            },
            "colorscale": [
             [
              0,
              "#0d0887"
             ],
             [
              0.1111111111111111,
              "#46039f"
             ],
             [
              0.2222222222222222,
              "#7201a8"
             ],
             [
              0.3333333333333333,
              "#9c179e"
             ],
             [
              0.4444444444444444,
              "#bd3786"
             ],
             [
              0.5555555555555556,
              "#d8576b"
             ],
             [
              0.6666666666666666,
              "#ed7953"
             ],
             [
              0.7777777777777778,
              "#fb9f3a"
             ],
             [
              0.8888888888888888,
              "#fdca26"
             ],
             [
              1,
              "#f0f921"
             ]
            ],
            "type": "histogram2d"
           }
          ],
          "histogram2dcontour": [
           {
            "colorbar": {
             "outlinewidth": 0,
             "ticks": ""
            },
            "colorscale": [
             [
              0,
              "#0d0887"
             ],
             [
              0.1111111111111111,
              "#46039f"
             ],
             [
              0.2222222222222222,
              "#7201a8"
             ],
             [
              0.3333333333333333,
              "#9c179e"
             ],
             [
              0.4444444444444444,
              "#bd3786"
             ],
             [
              0.5555555555555556,
              "#d8576b"
             ],
             [
              0.6666666666666666,
              "#ed7953"
             ],
             [
              0.7777777777777778,
              "#fb9f3a"
             ],
             [
              0.8888888888888888,
              "#fdca26"
             ],
             [
              1,
              "#f0f921"
             ]
            ],
            "type": "histogram2dcontour"
           }
          ],
          "mesh3d": [
           {
            "colorbar": {
             "outlinewidth": 0,
             "ticks": ""
            },
            "type": "mesh3d"
           }
          ],
          "parcoords": [
           {
            "line": {
             "colorbar": {
              "outlinewidth": 0,
              "ticks": ""
             }
            },
            "type": "parcoords"
           }
          ],
          "pie": [
           {
            "automargin": true,
            "type": "pie"
           }
          ],
          "scatter": [
           {
            "fillpattern": {
             "fillmode": "overlay",
             "size": 10,
             "solidity": 0.2
            },
            "type": "scatter"
           }
          ],
          "scatter3d": [
           {
            "line": {
             "colorbar": {
              "outlinewidth": 0,
              "ticks": ""
             }
            },
            "marker": {
             "colorbar": {
              "outlinewidth": 0,
              "ticks": ""
             }
            },
            "type": "scatter3d"
           }
          ],
          "scattercarpet": [
           {
            "marker": {
             "colorbar": {
              "outlinewidth": 0,
              "ticks": ""
             }
            },
            "type": "scattercarpet"
           }
          ],
          "scattergeo": [
           {
            "marker": {
             "colorbar": {
              "outlinewidth": 0,
              "ticks": ""
             }
            },
            "type": "scattergeo"
           }
          ],
          "scattergl": [
           {
            "marker": {
             "colorbar": {
              "outlinewidth": 0,
              "ticks": ""
             }
            },
            "type": "scattergl"
           }
          ],
          "scattermapbox": [
           {
            "marker": {
             "colorbar": {
              "outlinewidth": 0,
              "ticks": ""
             }
            },
            "type": "scattermapbox"
           }
          ],
          "scatterpolar": [
           {
            "marker": {
             "colorbar": {
              "outlinewidth": 0,
              "ticks": ""
             }
            },
            "type": "scatterpolar"
           }
          ],
          "scatterpolargl": [
           {
            "marker": {
             "colorbar": {
              "outlinewidth": 0,
              "ticks": ""
             }
            },
            "type": "scatterpolargl"
           }
          ],
          "scatterternary": [
           {
            "marker": {
             "colorbar": {
              "outlinewidth": 0,
              "ticks": ""
             }
            },
            "type": "scatterternary"
           }
          ],
          "surface": [
           {
            "colorbar": {
             "outlinewidth": 0,
             "ticks": ""
            },
            "colorscale": [
             [
              0,
              "#0d0887"
             ],
             [
              0.1111111111111111,
              "#46039f"
             ],
             [
              0.2222222222222222,
              "#7201a8"
             ],
             [
              0.3333333333333333,
              "#9c179e"
             ],
             [
              0.4444444444444444,
              "#bd3786"
             ],
             [
              0.5555555555555556,
              "#d8576b"
             ],
             [
              0.6666666666666666,
              "#ed7953"
             ],
             [
              0.7777777777777778,
              "#fb9f3a"
             ],
             [
              0.8888888888888888,
              "#fdca26"
             ],
             [
              1,
              "#f0f921"
             ]
            ],
            "type": "surface"
           }
          ],
          "table": [
           {
            "cells": {
             "fill": {
              "color": "#EBF0F8"
             },
             "line": {
              "color": "white"
             }
            },
            "header": {
             "fill": {
              "color": "#C8D4E3"
             },
             "line": {
              "color": "white"
             }
            },
            "type": "table"
           }
          ]
         },
         "layout": {
          "annotationdefaults": {
           "arrowcolor": "#2a3f5f",
           "arrowhead": 0,
           "arrowwidth": 1
          },
          "autotypenumbers": "strict",
          "coloraxis": {
           "colorbar": {
            "outlinewidth": 0,
            "ticks": ""
           }
          },
          "colorscale": {
           "diverging": [
            [
             0,
             "#8e0152"
            ],
            [
             0.1,
             "#c51b7d"
            ],
            [
             0.2,
             "#de77ae"
            ],
            [
             0.3,
             "#f1b6da"
            ],
            [
             0.4,
             "#fde0ef"
            ],
            [
             0.5,
             "#f7f7f7"
            ],
            [
             0.6,
             "#e6f5d0"
            ],
            [
             0.7,
             "#b8e186"
            ],
            [
             0.8,
             "#7fbc41"
            ],
            [
             0.9,
             "#4d9221"
            ],
            [
             1,
             "#276419"
            ]
           ],
           "sequential": [
            [
             0,
             "#0d0887"
            ],
            [
             0.1111111111111111,
             "#46039f"
            ],
            [
             0.2222222222222222,
             "#7201a8"
            ],
            [
             0.3333333333333333,
             "#9c179e"
            ],
            [
             0.4444444444444444,
             "#bd3786"
            ],
            [
             0.5555555555555556,
             "#d8576b"
            ],
            [
             0.6666666666666666,
             "#ed7953"
            ],
            [
             0.7777777777777778,
             "#fb9f3a"
            ],
            [
             0.8888888888888888,
             "#fdca26"
            ],
            [
             1,
             "#f0f921"
            ]
           ],
           "sequentialminus": [
            [
             0,
             "#0d0887"
            ],
            [
             0.1111111111111111,
             "#46039f"
            ],
            [
             0.2222222222222222,
             "#7201a8"
            ],
            [
             0.3333333333333333,
             "#9c179e"
            ],
            [
             0.4444444444444444,
             "#bd3786"
            ],
            [
             0.5555555555555556,
             "#d8576b"
            ],
            [
             0.6666666666666666,
             "#ed7953"
            ],
            [
             0.7777777777777778,
             "#fb9f3a"
            ],
            [
             0.8888888888888888,
             "#fdca26"
            ],
            [
             1,
             "#f0f921"
            ]
           ]
          },
          "colorway": [
           "#636efa",
           "#EF553B",
           "#00cc96",
           "#ab63fa",
           "#FFA15A",
           "#19d3f3",
           "#FF6692",
           "#B6E880",
           "#FF97FF",
           "#FECB52"
          ],
          "font": {
           "color": "#2a3f5f"
          },
          "geo": {
           "bgcolor": "white",
           "lakecolor": "white",
           "landcolor": "#E5ECF6",
           "showlakes": true,
           "showland": true,
           "subunitcolor": "white"
          },
          "hoverlabel": {
           "align": "left"
          },
          "hovermode": "closest",
          "mapbox": {
           "style": "light"
          },
          "paper_bgcolor": "white",
          "plot_bgcolor": "#E5ECF6",
          "polar": {
           "angularaxis": {
            "gridcolor": "white",
            "linecolor": "white",
            "ticks": ""
           },
           "bgcolor": "#E5ECF6",
           "radialaxis": {
            "gridcolor": "white",
            "linecolor": "white",
            "ticks": ""
           }
          },
          "scene": {
           "xaxis": {
            "backgroundcolor": "#E5ECF6",
            "gridcolor": "white",
            "gridwidth": 2,
            "linecolor": "white",
            "showbackground": true,
            "ticks": "",
            "zerolinecolor": "white"
           },
           "yaxis": {
            "backgroundcolor": "#E5ECF6",
            "gridcolor": "white",
            "gridwidth": 2,
            "linecolor": "white",
            "showbackground": true,
            "ticks": "",
            "zerolinecolor": "white"
           },
           "zaxis": {
            "backgroundcolor": "#E5ECF6",
            "gridcolor": "white",
            "gridwidth": 2,
            "linecolor": "white",
            "showbackground": true,
            "ticks": "",
            "zerolinecolor": "white"
           }
          },
          "shapedefaults": {
           "line": {
            "color": "#2a3f5f"
           }
          },
          "ternary": {
           "aaxis": {
            "gridcolor": "white",
            "linecolor": "white",
            "ticks": ""
           },
           "baxis": {
            "gridcolor": "white",
            "linecolor": "white",
            "ticks": ""
           },
           "bgcolor": "#E5ECF6",
           "caxis": {
            "gridcolor": "white",
            "linecolor": "white",
            "ticks": ""
           }
          },
          "title": {
           "x": 0.05
          },
          "xaxis": {
           "automargin": true,
           "gridcolor": "white",
           "linecolor": "white",
           "ticks": "",
           "title": {
            "standoff": 15
           },
           "zerolinecolor": "white",
           "zerolinewidth": 2
          },
          "yaxis": {
           "automargin": true,
           "gridcolor": "white",
           "linecolor": "white",
           "ticks": "",
           "title": {
            "standoff": 15
           },
           "zerolinecolor": "white",
           "zerolinewidth": 2
          }
         }
        },
        "title": {
         "text": "t-SNE components of article descriptions"
        },
        "width": 600,
        "xaxis": {
         "anchor": "y",
         "domain": [
          0,
          1
         ],
         "title": {
          "text": "Component 0"
         }
        },
        "yaxis": {
         "anchor": "x",
         "domain": [
          0,
          1
         ],
         "title": {
          "text": "Component 1"
         }
        }
       }
      }
     },
     "metadata": {},
     "output_type": "display_data"
    }
   ],
   "source": [
    "# get embeddings for all article descriptions\n",
    "embeddings = [embedding_from_string(string) for string in article_descriptions]\n",
    "# compress the 2048-dimensional embeddings into 2 dimensions using t-SNE\n",
    "tsne_components = tsne_components_from_embeddings(embeddings)\n",
    "# get the article labels for coloring the chart\n",
    "labels = df[\"label\"].head(200).tolist()\n",
    "\n",
    "chart_from_components(\n",
    "    components=tsne_components,\n",
    "    labels=labels,\n",
    "    strings=article_descriptions,\n",
    "    width=600,\n",
    "    height=500,\n",
    "    title=\"t-SNE components of article descriptions\",\n",
    ")\n"
   ]
  },
  {
   "cell_type": "markdown",
   "metadata": {},
   "source": [
    "As you can see in the chart above, even the highly compressed embeddings do a good job of clustering article descriptions by category. And it's worth emphasizing: this clustering is done with no knowledge of the labels themselves!\n",
    "\n",
    "Also, if you look closely at the most egregious outliers, they are often due to mislabeling rather than poor embedding. For example, the majority of the blue World points in the green Sports cluster appear to be Sports stories."
   ]
  },
  {
   "cell_type": "markdown",
   "metadata": {},
   "source": [
    "Next, let's recolor the points by whether they are a source article, its nearest neighbors, or other."
   ]
  },
  {
   "cell_type": "code",
   "execution_count": 10,
   "metadata": {},
   "outputs": [],
   "source": [
    "# create labels for the recommended articles\n",
    "def nearest_neighbor_labels(\n",
    "    list_of_indices: list[int],\n",
    "    k_nearest_neighbors: int = 5\n",
    ") -> list[str]:\n",
    "    \"\"\"Return a list of labels to color the k nearest neighbors.\"\"\"\n",
    "    labels = [\"Other\" for _ in list_of_indices]\n",
    "    source_index = list_of_indices[0]\n",
    "    labels[source_index] = \"Source\"\n",
    "    for i in range(k_nearest_neighbors):\n",
    "        nearest_neighbor_index = list_of_indices[i + 1]\n",
    "        labels[nearest_neighbor_index] = f\"Nearest neighbor (top {k_nearest_neighbors})\"\n",
    "    return labels\n",
    "\n",
    "\n",
    "tony_blair_labels = nearest_neighbor_labels(tony_blair_articles, k_nearest_neighbors=5)\n",
    "chipset_security_labels = nearest_neighbor_labels(chipset_security_articles, k_nearest_neighbors=5\n",
    ")\n"
   ]
  },
  {
   "cell_type": "code",
   "execution_count": 11,
   "metadata": {},
   "outputs": [
    {
     "data": {
      "application/vnd.plotly.v1+json": {
       "config": {
        "plotlyServerURL": "https://plot.ly"
       },
       "data": [
        {
         "customdata": [
          [
           "PC World - Upcoming chip set<br>will include built-in security<br>features for your PC."
          ],
          [
           "Newspapers in Greece reflect a<br>mixture of exhilaration that<br>the Athens Olympics proved<br>successful, and relief that<br>they passed off without any<br>major setback."
          ],
          [
           "SAN JOSE, Calif. -- Apple<br>Computer (Quote, Chart)<br>unveiled a batch of new iPods,<br>iTunes software and promos<br>designed to keep it atop the<br>heap of digital music players."
          ],
          [
           "Any product, any shape, any<br>size -- manufactured on your<br>desktop! The future is the<br>fabricator. By Bruce Sterling<br>from Wired magazine."
          ],
          [
           "KABUL, Sept 22 (AFP): Three US<br>soldiers were killed and 14<br>wounded in a series of fierce<br>clashes with suspected Taliban<br>fighters in south and eastern<br>Afghanistan this week, the US<br>military said Wednesday."
          ],
          [
           "The EU and US moved closer to<br>an aviation trade war after<br>failing to reach agreement<br>during talks Thursday on<br>subsidies to Airbus Industrie."
          ],
          [
           "AUSTRALIAN journalist John<br>Martinkus is lucky to be alive<br>after spending 24 hours in the<br>hands of Iraqi militants at<br>the weekend. Martinkus was in<br>Baghdad working for the SBS<br>Dateline TV current affairs<br>program"
          ],
          [
           " GAZA (Reuters) - An Israeli<br>helicopter fired a missile<br>into  a town in the southern<br>Gaza Strip late on Wednesday,<br>witnesses  said, hours after a<br>Palestinian suicide bomber<br>blew herself up  in Jerusalem,<br>killing two Israeli border<br>policemen."
          ],
          [
           "The Microsoft CEO says one way<br>to stem growing piracy of<br>Windows and Office in emerging<br>markets is to offer low-cost<br>computers."
          ],
          [
           "RIYADH, Saudi Arabia -- Saudi<br>police are seeking two young<br>men in the killing of a Briton<br>in a Riyadh parking lot, the<br>Interior Ministry said today,<br>and the British ambassador<br>called it a terrorist attack."
          ],
          [
           "Loudon, NH -- As the rain<br>began falling late Friday<br>afternoon at New Hampshire<br>International Speedway, the<br>rich in the Nextel Cup garage<br>got richer."
          ],
          [
           "PalmSource surprised the<br>mobile vendor community today<br>with the announcement that it<br>will acquire China MobileSoft<br>(CMS), ostensibly to leverage<br>that company's expertise in<br>building a mobile version of<br>the Linux operating system."
          ],
          [
           "JEFFERSON CITY - An election<br>security expert has raised<br>questions about Missouri<br>Secretary of State Matt Blunt<br>#39;s plan to let soldiers at<br>remote duty stations or in<br>combat areas cast their<br>ballots with the help of<br>e-mail."
          ],
          [
           "A gas explosion at a coal mine<br>in northern China killed 33<br>workers in the 10th deadly<br>mine blast reported in three<br>months. The explosion occurred<br>yesterday at 4:20 pm at Nanlou<br>township"
          ],
          [
           "Reuters - Palestinian leader<br>Mahmoud Abbas called\\Israel<br>\"the Zionist enemy\" Tuesday,<br>unprecedented language for\\the<br>relative moderate who is<br>expected to succeed Yasser<br>Arafat."
          ],
          [
           "AP - Ottawa Senators right<br>wing Marian Hossa is switching<br>European teams during the NHL<br>lockout."
          ],
          [
           "A new, optional log-on service<br>from America Online that makes<br>it harder for scammers to<br>access a persons online<br>account will not be available<br>for Macintosh"
          ],
          [
           "Nasser al-Qidwa, Palestinian<br>representative at the United<br>Nations and nephew of late<br>leader Yasser Arafat, handed<br>Arafat #39;s death report to<br>the Palestinian National<br>Authority (PNA) on Saturday."
          ],
          [
           "CAIRO, Egypt - France's<br>foreign minister appealed<br>Monday for the release of two<br>French journalists abducted in<br>Baghdad, saying the French<br>respect all religions. He did<br>not rule out traveling to<br>Baghdad..."
          ],
          [
           "Chelsea terminated Romania<br>striker Adrian Mutu #39;s<br>contract, citing gross<br>misconduct after the player<br>failed a doping test for<br>cocaine and admitted taking<br>the drug, the English soccer<br>club said in a statement."
          ],
          [
           "United Arab Emirates President<br>and ruler of Abu Dhabi Sheik<br>Zayed bin Sultan al-Nayhan<br>died Tuesday, official<br>television reports. He was 86."
          ],
          [
           "PALESTINIAN leader Yasser<br>Arafat today issued an urgent<br>call for the immediate release<br>of two French journalists<br>taken hostage in Iraq."
          ],
          [
           "The al-Qaida terrorist network<br>spent less than \\$50,000 on<br>each of its major attacks<br>except for the Sept. 11, 2001,<br>suicide hijackings, and one of<br>its hallmarks is using"
          ],
          [
           " SAN FRANCISCO (Reuters) -<br>Nike Inc. &lt;A HREF=\"http://w<br>ww.investor.reuters.com/FullQu<br>ote.aspx?ticker=NKE.N target=/<br>stocks/quickinfo/fullquote\"&gt<br>;NKE.N&lt;/A&gt;, the world's<br>largest athletic shoe company,<br>on Monday reported a 25<br>percent  rise in quarterly<br>profit, beating analysts'<br>estimates, on  strong demand<br>for high-end running and<br>basketball shoes in the<br>United States."
          ],
          [
           "A FATHER who scaled the walls<br>of a Cardiff court dressed as<br>superhero Robin said the<br>Buckingham Palace protester<br>posed no threat. Fathers 4<br>Justice activist Jim Gibson,<br>who earlier this year staged<br>an eye-catching"
          ],
          [
           "NEW YORK (CBS.MW) - US stocks<br>traded mixed Thurday as Merck<br>shares lost a quarter of their<br>value, dragging blue chips<br>lower, but the Nasdaq moved<br>higher, buoyed by gains in the<br>semiconductor sector."
          ],
          [
           "Julia Gillard has reportedly<br>bowed out of the race to<br>become shadow treasurer,<br>taking enormous pressure off<br>Opposition Leader Mark Latham."
          ],
          [
           "It #39;s official. Microsoft<br>recently stated<br>definitivelyand contrary to<br>rumorsthat there will be no<br>new versions of Internet<br>Explorer for users of older<br>versions of Windows."
          ],
          [
           "The success of Paris #39; bid<br>for Olympic Games 2012 would<br>bring an exceptional<br>development for France for at<br>least 6 years, said Jean-<br>Francois Lamour, French<br>minister for Youth and Sports<br>on Tuesday."
          ],
          [
           "AFP - Maybe it's something to<br>do with the fact that the<br>playing area is so vast that<br>you need a good pair of<br>binoculars to see the action<br>if it's not taking place right<br>in front of the stands."
          ],
          [
           "Egypt #39;s release of accused<br>Israeli spy Azzam Azzam in an<br>apparent swap for six Egyptian<br>students held on suspicion of<br>terrorism is expected to melt<br>the ice and perhaps result"
          ],
          [
           "But fresh antitrust suit is in<br>the envelope, says Novell"
          ],
          [
           "Chips that help a computer's<br>main microprocessors perform<br>specific types of math<br>problems are becoming a big<br>business once again.\\"
          ],
          [
           "GAZA CITY, Gaza Strip: Hamas<br>militants killed an Israeli<br>soldier and wounded four with<br>an explosion in a booby-<br>trapped chicken coop on<br>Tuesday, in what the Islamic<br>group said was an elaborate<br>scheme to lure troops to the<br>area with the help of a double"
          ],
          [
           "A rocket carrying two Russian<br>cosmonauts and an American<br>astronaut to the international<br>space station streaked into<br>orbit on Thursday, the latest<br>flight of a Russian space<br>vehicle to fill in for<br>grounded US shuttles."
          ],
          [
           "Bankrupt ATA Airlines #39;<br>withdrawal from Chicago #39;s<br>Midway International Airport<br>presents a juicy opportunity<br>for another airline to beef up<br>service in the Midwest"
          ],
          [
           "AP - The 300 men filling out<br>forms in the offices of an<br>Iranian aid group were offered<br>three choices: Train for<br>suicide attacks against U.S.<br>troops in Iraq, for suicide<br>attacks against Israelis or to<br>assassinate British author<br>Salman Rushdie."
          ],
          [
           "ATHENS, Greece - Gail Devers,<br>the most talented yet star-<br>crossed hurdler of her<br>generation, was unable to<br>complete even one hurdle in<br>100-meter event Sunday -<br>failing once again to win an<br>Olympic hurdling medal.<br>Devers, 37, who has three<br>world championships in the<br>hurdles but has always flopped<br>at the Olympics, pulled up<br>short and screamed as she slid<br>under the first hurdle..."
          ],
          [
           "OCTOBER 12, 2004<br>(COMPUTERWORLD) - Microsoft<br>Corp. #39;s monthly patch<br>release cycle may be making it<br>more predictable for users to<br>deploy software updates, but<br>there appears to be little<br>letup in the number of holes<br>being discovered in the<br>company #39;s software"
          ],
          [
           "Wearable tech goes mainstream<br>as the Gap introduces jacket<br>with built-in radio.\\"
          ],
          [
           "Madison, WI (Sports Network) -<br>Anthony Davis ran for 122<br>yards and two touchdowns to<br>lead No. 6 Wisconsin over<br>Northwestern, 24-12, to<br>celebrate Homecoming weekend<br>at Camp Randall Stadium."
          ],
          [
           "LaVar Arrington participated<br>in his first practice since<br>Oct. 25, when he aggravated a<br>knee injury that sidelined him<br>for 10 games."
          ],
          [
           " NEW YORK (Reuters) - Billie<br>Jean King cut her final tie<br>with the U.S. Fed Cup team<br>Tuesday when she retired as<br>coach."
          ],
          [
           "The Instinet Group, owner of<br>one of the largest electronic<br>stock trading systems, is for<br>sale, executives briefed on<br>the plan say."
          ],
          [
           "Funding round of \\$105 million<br>brings broadband Internet<br>telephony company's total haul<br>to \\$208 million."
          ],
          [
           "The Miami Dolphins arrived for<br>their final exhibition game<br>last night in New Orleans<br>short nine players."
          ],
          [
           "washingtonpost.com - Anthony<br>Casalena was 17 when he got<br>his first job as a programmer<br>for a start-up called<br>HyperOffice, a software<br>company that makes e-mail and<br>contact management<br>applications for the Web.<br>Hired as an intern, he became<br>a regular programmer after two<br>weeks and rewrote the main<br>product line."
          ],
          [
           "The Auburn Hills-based<br>Chrysler Group made a profit<br>of \\$269 million in the third<br>quarter, even though worldwide<br>sales and revenues declined,<br>contributing to a \\$1."
          ],
          [
           "SAN FRANCISCO (CBS.MW) -- UAL<br>Corp., parent of United<br>Airlines, said Wednesday it<br>will overhaul its route<br>structure to reduce costs and<br>offset rising fuel costs."
          ],
          [
           " NAIROBI (Reuters) - The<br>Sudanese government and its<br>southern rebel opponents have<br>agreed to sign a pledge in the<br>Kenyan capital on Friday to<br>formally end a brutal 21-year-<br>old  civil war, with U.N.<br>Security Council ambassadors<br>as witnesses."
          ],
          [
           "AP - From LSU at No. 1 to Ohio<br>State at No. 10, The AP<br>women's basketball poll had no<br>changes Monday."
          ],
          [
           "nother stage victory for race<br>leader Petter Solberg, his<br>fifth since the start of the<br>rally. The Subaru driver is<br>not pulling away at a fast<br>pace from Gronholm and Loeb<br>but the gap is nonetheless<br>increasing steadily."
          ],
          [
           "The fossilized neck bones of a<br>230-million-year-old sea<br>creature have features<br>suggesting that the animal<br>#39;s snakelike throat could<br>flare open and create suction<br>that would pull in prey."
          ],
          [
           "IBM late on Tuesday announced<br>the biggest update of its<br>popular WebSphere business<br>software in two years, adding<br>features such as automatically<br>detecting and fixing problems."
          ],
          [
           "April 1980 -- Players strike<br>the last eight days of spring<br>training. Ninety-two<br>exhibition games are canceled.<br>June 1981 -- Players stage<br>first midseason strike in<br>history."
          ],
          [
           "AP - Former Guatemalan<br>President Alfonso Portillo<br>#151; suspected of corruption<br>at home  #151; is living and<br>working part-time in the same<br>Mexican city he fled two<br>decades ago to avoid arrest on<br>murder charges, his close<br>associates told The Associated<br>Press on Sunday."
          ],
          [
           "Annual economic growth in<br>China has slowed for the third<br>quarter in a row, falling to<br>9.1 per cent, third-quarter<br>data shows. The slowdown shows<br>the economy is responding to<br>Beijing #39;s efforts to rein<br>in break-neck investment and<br>lending."
          ],
          [
           "washingtonpost.com - BRUSSELS,<br>Aug. 26 -- The United States<br>will have to wait until next<br>year to see its fight with the<br>European Union over biotech<br>foods resolved, as the World<br>Trade Organization agreed to<br>an E.U. request to bring<br>scientists into the debate,<br>officials said Thursday."
          ],
          [
           "A group of Internet security<br>and instant messaging<br>providers have teamed up to<br>detect and thwart the growing<br>threat of IM and peer-to-peer<br>viruses and worms, they said<br>this week."
          ],
          [
           "On Sunday, the day after Ohio<br>State dropped to 0-3 in the<br>Big Ten with a 33-7 loss at<br>Iowa, the Columbus Dispatch<br>ran a single word above its<br>game story on the Buckeyes:<br>quot;Embarrassing."
          ],
          [
           "Insisting that Hurriyat<br>Conference is the real<br>representative of Kashmiris,<br>Pakistan has claimed that<br>India is not ready to accept<br>ground realities in Kashmir."
          ],
          [
           "THE All-India Motor Transport<br>Congress (AIMTC) on Saturday<br>called off its seven-day<br>strike after finalising an<br>agreement with the Government<br>on the contentious issue of<br>service tax and the various<br>demands including tax deducted<br>at source (TDS), scrapping"
          ],
          [
           "BOSTON - Curt Schilling got<br>his 20th win on the eve of<br>Boston #39;s big series with<br>the New York Yankees. Now he<br>wants much more.  quot;In a<br>couple of weeks, hopefully, it<br>will get a lot better, quot;<br>he said after becoming"
          ],
          [
           "Shooed the ghosts of the<br>Bambino and the Iron Horse and<br>the Yankee Clipper and the<br>Mighty Mick, on his 73rd<br>birthday, no less, and turned<br>Yankee Stadium into a morgue."
          ],
          [
           "Gold medal-winning Marlon<br>Devonish says the men #39;s<br>4x100m Olympic relay triumph<br>puts British sprinting back on<br>the map. Devonish, Darren<br>Campbell, Jason Gardener and<br>Mark Lewis-Francis edged out<br>the American"
          ],
          [
           "AP - The euro-zone economy<br>grew by 0.5 percent in the<br>second quarter of 2004, a<br>touch slower than in the first<br>three months of the year,<br>according to initial estimates<br>released Tuesday by the<br>European Union."
          ],
          [
           "His first space flight was in<br>1965 when he piloted the first<br>manned Gemini mission. Later<br>he made two trips to the moon<br>-- orbiting during a 1969<br>flight and then walking on the<br>lunar surface during a mission<br>in 1972."
          ],
          [
           "he difficult road conditions<br>created a few incidents in the<br>first run of the Epynt stage.<br>Francois Duval takes his<br>second stage victory since the<br>start of the rally, nine<br>tenths better than Sebastien<br>Loeb #39;s performance in<br>second position."
          ],
          [
           "VIENNA -- After two years of<br>investigating Iran's atomic<br>program, the UN nuclear<br>watchdog still cannot rule out<br>that Tehran has a secret atom<br>bomb project as Washington<br>insists, the agency's chief<br>said yesterday."
          ],
          [
           "By RACHEL KONRAD    SAN<br>FRANCISCO (AP) -- EBay Inc.,<br>which has been aggressively<br>expanding in Asia, plans to<br>increase its stake in South<br>Korea's largest online auction<br>company.    The Internet<br>auction giant said Tuesday<br>night that it would purchase<br>nearly 3 million publicly held<br>shares of Internet Auction<br>Co..."
          ],
          [
           "AFP - US Secretary of State<br>Colin Powell wrapped up a<br>three-nation tour of Asia<br>after winning pledges from<br>Japan, China and South Korea<br>to press North Korea to resume<br>stalled talks on its nuclear<br>weapons programs."
          ],
          [
           "Tallahassee, FL (Sports<br>Network) - Florida State head<br>coach Bobby Bowden has<br>suspended senior wide receiver<br>Craphonso Thorpe for the<br>Seminoles #39; game against<br>fellow Atlantic Coast<br>Conference member Duke on<br>Saturday."
          ],
          [
           "A few years ago, casinos<br>across the United States were<br>closing their poker rooms to<br>make space for more popular<br>and lucrative slot machines."
          ],
          [
           "CAIRO, Egypt An Egyptian<br>company says one of its four<br>workers who had been kidnapped<br>in Iraq has been freed. It<br>says it can #39;t give the<br>status of the others being<br>held hostage but says it is<br>quot;doing its best to secure<br>quot; their release."
          ],
          [
           "WASHINGTON -- Consumers were<br>tightfisted amid soaring<br>gasoline costs in August and<br>hurricane-related disruptions<br>last week sent applications<br>for jobless benefits to their<br>highest level in seven months."
          ],
          [
           "Talking kitchens and vanities.<br>Musical jump ropes and potty<br>seats. Blusterous miniature<br>leaf blowers and vacuum<br>cleaners -- almost as loud as<br>the real things."
          ],
          [
           "Online merchants in the United<br>States have become better at<br>weeding out fraudulent credit<br>card orders, a new survey<br>indicates. But shipping<br>overseas remains a risky<br>venture. By Joanna Glasner."
          ],
          [
           "Former champion Lleyton Hewitt<br>bristled, battled and<br>eventually blossomed as he<br>took another step towards a<br>second US Open title with a<br>second-round victory over<br>Moroccan Hicham Arazi on<br>Friday."
          ],
          [
           "AP - China's biggest computer<br>maker, Lenovo Group, said<br>Wednesday it has acquired a<br>majority stake in<br>International Business<br>Machines Corp.'s personal<br>computer business for<br>#36;1.75 billion, one of the<br>biggest Chinese overseas<br>acquisitions ever."
          ],
          [
           "Popping a gadget into a cradle<br>to recharge it used to mean<br>downtime, but these days<br>chargers are doing double<br>duty, keeping your portable<br>devices playing even when<br>they're charging."
          ],
          [
           "AFP - Hosts India braced<br>themselves for a harrowing<br>chase on a wearing wicket in<br>the first Test after Australia<br>declined to enforce the<br>follow-on here."
          ],
          [
           " SAN FRANCISCO (Reuters) -<br>Texas Instruments Inc. &lt;A H<br>REF=\"http://www.investor.reute<br>rs.com/FullQuote.aspx?ticker=T<br>XN.N target=/stocks/quickinfo/<br>fullquote\"&gt;TXN.N&lt;/A&gt;,<br>the largest maker of chips for<br>cellular phones, on Monday<br>said  record demand for its<br>handset and television chips<br>boosted  quarterly profit by<br>26 percent, even as it<br>struggles with a  nagging<br>inventory problem."
          ],
          [
           "LONDON ARM Holdings, a British<br>semiconductor designer, said<br>on Monday that it would buy<br>Artisan Components for \\$913<br>million to broaden its product<br>range."
          ],
          [
           "Big evolutionary insights<br>sometimes come in little<br>packages. Witness the<br>startling discovery, in a cave<br>on the eastern Indonesian<br>island of Flores, of the<br>partial skeleton of a half-<br>size Homo species that"
          ],
          [
           "Prime Minister Paul Martin of<br>Canada urged Haitian leaders<br>on Sunday to allow the<br>political party of the deposed<br>president, Jean-Bertrand<br>Aristide, to take part in new<br>elections."
          ],
          [
           "Hostage takers holding up to<br>240 people at a school in<br>southern Russia have refused<br>to talk with a top Islamic<br>leader and demanded to meet<br>with regional leaders instead,<br>ITAR-TASS reported on<br>Wednesday."
          ],
          [
           "As the Mets round out their<br>search for a new manager, the<br>club is giving a last-minute<br>nod to its past. Wally<br>Backman, an infielder for the<br>Mets from 1980-88 who played<br>second base on the 1986"
          ],
          [
           "MELBOURNE: Global shopping<br>mall owner Westfield Group<br>will team up with Australian<br>developer Multiplex Group to<br>bid 585mil (US\\$1."
          ],
          [
           "Three children from a care<br>home are missing on the<br>Lancashire moors after they<br>are separated from a group."
          ],
          [
           "Luke Skywalker and Darth Vader<br>may get all the glory, but a<br>new Star Wars video game<br>finally gives credit to the<br>everyday grunts who couldn<br>#39;t summon the Force for<br>help."
          ],
          [
           "AMSTERDAM, Aug 18 (Reuters) -<br>Midfielder Edgar Davids #39;s<br>leadership qualities and<br>never-say-die attitude have<br>earned him the captaincy of<br>the Netherlands under new<br>coach Marco van Basten."
          ],
          [
           "COUNTY KILKENNY, Ireland (PA)<br>-- Hurricane Jeanne has led to<br>world No. 1 Vijay Singh<br>pulling out of this week #39;s<br>WGC-American Express<br>Championship at Mount Juliet."
          ],
          [
           "Green Bay, WI (Sports Network)<br>- The Green Bay Packers will<br>be without the services of Pro<br>Bowl center Mike Flanagan for<br>the remainder of the season,<br>as he will undergo left knee<br>surgery."
          ],
          [
           "Diabetics should test their<br>blood sugar levels more<br>regularly to reduce the risk<br>of cardiovascular disease, a<br>study says."
          ],
          [
           "COLUMBUS, Ohio -- NCAA<br>investigators will return to<br>Ohio State University Monday<br>to take another look at the<br>football program after the<br>latest round of allegations<br>made by former players,<br>according to the Akron Beacon<br>Journal."
          ],
          [
           " LOS ANGELES (Reuters) -<br>Federal authorities raided<br>three  Washington, D.C.-area<br>video game stores and arrested<br>two people  for modifying<br>video game consoles to play<br>pirated video games,  a video<br>game industry group said on<br>Wednesday."
          ],
          [
           "Manchester United gave Alex<br>Ferguson a 1,000th game<br>anniversary present by<br>reaching the last 16 of the<br>Champions League yesterday,<br>while four-time winners Bayern<br>Munich romped into the second<br>round with a 5-1 beating of<br>Maccabi Tel Aviv."
          ],
          [
           "Iraq's interim Prime Minister<br>Ayad Allawi announced that<br>proceedings would begin<br>against former Baath Party<br>leaders."
          ],
          [
           "Reuters - Delta Air Lines Inc.<br>, which is\\racing to cut costs<br>to avoid bankruptcy, on<br>Wednesday reported\\a wider<br>quarterly loss amid soaring<br>fuel prices and weak\\domestic<br>airfares."
          ],
          [
           "Energy utility TXU Corp. on<br>Monday more than quadrupled<br>its quarterly dividend payment<br>and raised its projected<br>earnings for 2004 and 2005<br>after a companywide<br>performance review."
          ],
          [
           "Northwest Airlines Corp., the<br>fourth- largest US airline,<br>and its pilots union reached<br>tentative agreement on a<br>contract that would cut pay<br>and benefits, saving the<br>company \\$265 million a year."
          ],
          [
           "The last time the Angels<br>played the Texas Rangers, they<br>dropped two consecutive<br>shutouts at home in their most<br>agonizing lost weekend of the<br>season."
          ],
          [
           "Microsoft Corp. MSFT.O and<br>cable television provider<br>Comcast Corp. CMCSA.O said on<br>Monday that they would begin<br>deploying set-top boxes<br>powered by Microsoft software<br>starting next week."
          ],
          [
           "SEATTLE - Chasing a nearly<br>forgotten ghost of the game,<br>Ichiro Suzuki broke one of<br>baseball #39;s oldest records<br>Friday night, smoking a single<br>up the middle for his 258th<br>hit of the year and breaking<br>George Sisler #39;s record for<br>the most hits in a season"
          ],
          [
           "Grace Park, her caddie - and<br>fans - were poking around in<br>the desert brush alongside the<br>18th fairway desperately<br>looking for her ball."
          ],
          [
           "Philippines mobile phone<br>operator Smart Communications<br>Inc. is in talks with<br>Singapore #39;s Mobile One for<br>a possible tie-up,<br>BusinessWorld reported Monday."
          ],
          [
           "Washington Redskins kicker<br>John Hall strained his right<br>groin during practice<br>Thursday, his third leg injury<br>of the season. Hall will be<br>held out of practice Friday<br>and is questionable for Sunday<br>#39;s game against the Chicago<br>Bears."
          ],
          [
           "Airline warns it may file for<br>bankruptcy if too many senior<br>pilots take early retirement<br>option. Delta Air LInes #39;<br>CEO says it faces bankruptcy<br>if it can #39;t slow the pace<br>of pilots taking early<br>retirement."
          ],
          [
           "A toxic batch of home-brewed<br>alcohol has killed 31 people<br>in several towns in central<br>Pakistan, police and hospital<br>officials say."
          ],
          [
           "Thornbugs communicate by<br>vibrating the branches they<br>live on. Now scientists are<br>discovering just what the bugs<br>are \"saying.\""
          ],
          [
           "The Florida Gators and<br>Arkansas Razorbacks meet for<br>just the sixth time Saturday.<br>The Gators hold a 4-1<br>advantage in the previous five<br>meetings, including last year<br>#39;s 33-28 win."
          ],
          [
           "Kodak Versamark #39;s parent<br>company, Eastman Kodak Co.,<br>reported Tuesday it plans to<br>eliminate almost 900 jobs this<br>year in a restructuring of its<br>overseas operations."
          ],
          [
           "A top official of the US Food<br>and Drug Administration said<br>Friday that he and his<br>colleagues  quot;categorically<br>reject quot; earlier<br>Congressional testimony that<br>the agency has failed to<br>protect the public against<br>dangerous drugs."
          ],
          [
           " BEIJING (Reuters) - North<br>Korea is committed to holding<br>six-party talks aimed at<br>resolving the crisis over its<br>nuclear  weapons program, but<br>has not indicated when, a top<br>British  official said on<br>Tuesday."
          ],
          [
           "AP - 1941  #151; Brooklyn<br>catcher Mickey Owen dropped a<br>third strike on Tommy Henrich<br>of what would have been the<br>last out of a Dodgers victory<br>against the New York Yankees.<br>Given the second chance, the<br>Yankees scored four runs for a<br>7-4 victory and a 3-1 lead in<br>the World Series, which they<br>ended up winning."
          ],
          [
           "Federal prosecutors cracked a<br>global cartel that had<br>illegally fixed prices of<br>memory chips in personal<br>computers and servers for<br>three years."
          ],
          [
           "AP - Oracle Corp. CEO Larry<br>Ellison reiterated his<br>determination to prevail in a<br>long-running takeover battle<br>with rival business software<br>maker PeopleSoft Inc.,<br>predicting the proposed deal<br>will create a more competitive<br>company with improved customer<br>service."
          ],
          [
           "Braves shortstop Rafael Furcal<br>was arrested on drunken<br>driving charges Friday, his<br>second D.U.I. arrest in four<br>years."
          ],
          [
           "AFP - British retailer Marks<br>and Spencer announced a major<br>management shake-up as part of<br>efforts to revive its<br>fortunes, saying trading has<br>become tougher ahead of the<br>crucial Christmas period."
          ],
          [
           " BAGHDAD (Reuters) - Iraq's<br>interim government extended<br>the  closure of Baghdad<br>international airport<br>indefinitely on  Saturday<br>under emergency rule imposed<br>ahead of this week's  U.S.-led<br>offensive on Falluja."
          ],
          [
           " ATHENS (Reuters) - Natalie<br>Coughlin's run of bad luck<br>finally took a turn for the<br>better when she won the gold<br>medal  in the women's 100<br>meters backstroke at the<br>Athens Olympics  Monday."
          ],
          [
           " ATLANTA (Reuters) - Home<br>Depot Inc. &lt;A HREF=\"http://<br>www.investor.reuters.com/FullQ<br>uote.aspx?ticker=HD.N target=/<br>stocks/quickinfo/fullquote\"&gt<br>;HD.N&lt;/A&gt;, the top home<br>improvement retailer, on<br>Tuesday reported a 15 percent<br>rise in  third-quarter profit,<br>topping estimates, aided by<br>installed  services and sales<br>to contractors."
          ],
          [
           " LONDON (Reuters) - The dollar<br>fought back from one-month<br>lows against the euro and<br>Swiss franc on Wednesday as<br>investors  viewed its sell-off<br>in the wake of the Federal<br>Reserve's  verdict on interest<br>rates as overdone."
          ],
          [
           "Rivaling Bush vs. Kerry for<br>bitterness, doctors and trial<br>lawyers are squaring off this<br>fall in an unprecedented four-<br>state struggle over limiting<br>malpractice awards..."
          ],
          [
           "Boston Scientific Corp said on<br>Friday it has recalled an ear<br>implant the company acquired<br>as part of its purchase of<br>Advanced Bionics in June."
          ],
          [
           "AP - Pedro Feliz hit a<br>tiebreaking grand slam with<br>two outs in the eighth inning<br>for his fourth hit of the day,<br>and the Giants helped their<br>playoff chances with a 9-5<br>victory over the Los Angeles<br>Dodgers on Saturday."
          ],
          [
           "MarketWatch.com. Richemont<br>sees significant H1 lift,<br>unclear on FY (2:53 AM ET)<br>LONDON (CBS.MW) -- Swiss<br>luxury goods maker<br>Richemont(zz:ZZ:001273145:<br>news, chart, profile), which<br>also is a significant"
          ],
          [
           "Crude oil climbed more than<br>\\$1 in New York on the re-<br>election of President George<br>W. Bush, who has been filling<br>the US Strategic Petroleum<br>Reserve."
          ],
          [
           "AP - Hundreds of tribesmen<br>gathered Tuesday near the area<br>where suspected al-Qaida-<br>linked militants are holding<br>two Chinese engineers and<br>demanding safe passage to<br>their reputed leader, a former<br>U.S. prisoner from Guantanamo<br>Bay, Cuba, officials and<br>residents said."
          ],
          [
           "AP - Further proof New York's<br>real estate market is<br>inflated: The city plans to<br>sell space on top of lampposts<br>to wireless phone companies<br>for  #36;21.6 million a year."
          ],
          [
           "Yukos #39; largest oil-<br>producing unit regained power<br>supplies from Tyumenenergo, a<br>Siberia-based electricity<br>generator, Friday after the<br>subsidiary pledged to pay 440<br>million rubles (\\$15 million)<br>in debt by Oct. 3."
          ],
          [
           "The rollout of new servers and<br>networking switches in stores<br>is part of a five-year<br>agreement supporting 7-Eleven<br>#39;s Retail Information<br>System."
          ],
          [
           "Top Hollywood studios have<br>launched a wave of court cases<br>against internet users who<br>illegally download film files.<br>The Motion Picture Association<br>of America, which acts as the<br>representative of major film"
          ],
          [
           "AUSTRALIANS went into a<br>television-buying frenzy the<br>run-up to the Athens Olympics,<br>suggesting that as a nation we<br>could easily have scored a<br>gold medal for TV purchasing."
          ],
          [
           "US STOCKS vacillated yesterday<br>as rising oil prices muted<br>Wall Streets excitement over<br>strong results from Lehman<br>Brothers and Sprints \\$35<br>billion acquisition of Nextel<br>Communications."
          ],
          [
           "The next time you are in your<br>bedroom with your PC plus<br>Webcam switched on, don #39;t<br>think that your privacy is all<br>intact. If you have a Webcam<br>plugged into an infected<br>computer, there is a<br>possibility that"
          ],
          [
           "At the head of the class,<br>Rosabeth Moss Kanter is an<br>intellectual whirlwind: loud,<br>expansive, in constant motion."
          ],
          [
           "LEVERKUSEN/ROME, Dec 7 (SW) -<br>Dynamo Kiev, Bayer Leverkusen,<br>and Real Madrid all have a<br>good chance of qualifying for<br>the Champions League Round of<br>16 if they can get the right<br>results in Group F on<br>Wednesday night."
          ],
          [
           "Ed Hinkel made a diving,<br>fingertip catch for a key<br>touchdown and No. 16 Iowa<br>stiffened on defense when it<br>needed to most to beat Iowa<br>State 17-10 Saturday."
          ],
          [
           "During last Sunday #39;s<br>Nextel Cup race, amid the<br>ongoing furor over Dale<br>Earnhardt Jr. #39;s salty<br>language, NBC ran a commercial<br>for a show coming on later<br>that night called  quot;Law<br>amp; Order: Criminal Intent."
          ],
          [
           "AP - After playing in hail,<br>fog and chill, top-ranked<br>Southern California finishes<br>its season in familiar<br>comfort. The Trojans (9-0, 6-0<br>Pacific-10) have two games at<br>home  #151; against Arizona on<br>Saturday and Notre Dame on<br>Nov. 27  #151; before their<br>rivalry game at UCLA."
          ],
          [
           "A US airman dies and two are<br>hurt as a helicopter crashes<br>due to technical problems in<br>western Afghanistan."
          ],
          [
           "Jacques Chirac has ruled out<br>any withdrawal of French<br>troops from Ivory Coast,<br>despite unrest and anti-French<br>attacks, which have forced the<br>evacuation of thousands of<br>Westerners."
          ],
          [
           "Japanese Prime Minister<br>Junichiro Koizumi reshuffled<br>his cabinet yesterday,<br>replacing several top<br>ministers in an effort to<br>boost his popularity,<br>consolidate political support<br>and quicken the pace of<br>reforms in the world #39;s<br>second-largest economy."
          ],
          [
           "The remnants of Hurricane<br>Jeanne rained out Monday's<br>game between the Mets and the<br>Atlanta Braves. It will be<br>made up Tuesday as part of a<br>doubleheader."
          ],
          [
           "AP - NASCAR is not expecting<br>any immediate changes to its<br>top-tier racing series<br>following the merger between<br>telecommunications giant<br>Sprint Corp. and Nextel<br>Communications Inc."
          ],
          [
           "AP - Shawn Fanning's Napster<br>software enabled countless<br>music fans to swap songs on<br>the Internet for free, turning<br>him into the recording<br>industry's enemy No. 1 in the<br>process."
          ],
          [
           "TBILISI (Reuters) - At least<br>two Georgian soldiers were<br>killed and five wounded in<br>artillery fire with<br>separatists in the breakaway<br>region of South Ossetia,<br>Georgian officials said on<br>Wednesday."
          ],
          [
           "Like wide-open races? You<br>#39;ll love the Big 12 North.<br>Here #39;s a quick morning<br>line of the Big 12 North as it<br>opens conference play this<br>weekend."
          ],
          [
           "Reuters - Walt Disney Co.<br>is\\increasing investment in<br>video games for hand-held<br>devices and\\plans to look for<br>acquisitions of small game<br>publishers and\\developers,<br>Disney consumer products<br>Chairman Andy Mooney said\\on<br>Monday."
          ],
          [
           "Taquan Dean scored 22 points,<br>Francisco Garcia added 19 and<br>No. 13 Louisville withstood a<br>late rally to beat Florida<br>74-70 Saturday."
          ],
          [
           "BANGKOK - A UN conference last<br>week banned commercial trade<br>in the rare Irrawaddy dolphin,<br>a move environmentalists said<br>was needed to save the<br>threatened species."
          ],
          [
           "Laksamana.Net - Two Indonesian<br>female migrant workers freed<br>by militants in Iraq are<br>expected to arrive home within<br>a day or two, the Foreign<br>Affairs Ministry said<br>Wednesday (6/10/04)."
          ],
          [
           "PC World - Updated antivirus<br>software for businesses adds<br>intrusion prevention features."
          ],
          [
           "NEW YORK -- This was all about<br>Athens, about redemption for<br>one and validation for the<br>other. Britain's Paula<br>Radcliffe, the fastest female<br>marathoner in history, failed<br>to finish either of her<br>Olympic races last summer.<br>South Africa's Hendrik Ramaala<br>was a five-ringed dropout,<br>too, reinforcing his<br>reputation as a man who could<br>go only half the distance."
          ],
          [
           "Reuters - Online media company<br>Yahoo Inc.\\ late on Monday<br>rolled out tests of redesigned<br>start\\pages for its popular<br>Yahoo.com and My.Yahoo.com<br>sites."
          ],
          [
           "Amsterdam (pts) - Dutch<br>electronics company Philips<br>http://www.philips.com has<br>announced today, Friday, that<br>it has cut its stake in Atos<br>Origin by more than a half."
          ],
          [
           "TORONTO (CP) - Two-thirds of<br>banks around the world have<br>reported an increase in the<br>volume of suspicious<br>activities that they report to<br>police, a new report by KPMG<br>suggests."
          ],
          [
           "The Sun may have captured<br>thousands or even millions of<br>asteroids from another<br>planetary system during an<br>encounter more than four<br>billion years ago, astronomers<br>are reporting."
          ],
          [
           "LONDON -- Ernie Els has set<br>his sights on an improved<br>putting display this week at<br>the World Golf Championships<br>#39; NEC Invitational in<br>Akron, Ohio, after the<br>disappointment of tying for<br>fourth place at the PGA<br>Championship last Sunday."
          ],
          [
           "The Atkins diet frenzy slowed<br>growth briefly, but the<br>sandwich business is booming,<br>with \\$105 billion in sales<br>last year."
          ],
          [
           "Luxury carmaker Jaguar said<br>Friday it was stopping<br>production at a factory in<br>central England, resulting in<br>a loss of 1,100 jobs,<br>following poor sales in the<br>key US market."
          ],
          [
           "A bus was hijacked today and<br>shots were fired at police who<br>surrounded it on the outskirts<br>of Athens. Police did not know<br>how many passengers were<br>aboard the bus."
          ],
          [
           "Thumb through the book - then<br>buy a clean copy from Amazon"
          ],
          [
           "AP - President Bashar Assad<br>shuffled his Cabinet on<br>Monday, just weeks after the<br>United States and the United<br>Nations challenged Syria over<br>its military presence in<br>Lebanon and the security<br>situation along its border<br>with Iraq."
          ],
          [
           "Fiji #39;s Vijay Singh<br>replaced Tiger Woods as the<br>world #39;s No.1 ranked golfer<br>today by winning the PGA<br>Deutsche Bank Championship."
          ],
          [
           "LEIPZIG, Germany : Jurgen<br>Klinsmann enjoyed his first<br>home win as German manager<br>with his team defeating ten-<br>man Cameroon 3-0 in a friendly<br>match."
          ],
          [
           "AP - Kevin Brown had a chance<br>to claim a place in Yankees<br>postseason history with his<br>start in Game 7 of the AL<br>championship series."
          ],
          [
           "Reuters - High-definition<br>television can\\show the sweat<br>beading on an athlete's brow,<br>but the cost of\\all the<br>necessary electronic equipment<br>can get a shopper's own\\pulse<br>racing."
          ],
          [
           "HOMESTEAD, Fla. -- Kurt Busch<br>got his first big break in<br>NASCAR by winning a 1999<br>talent audition nicknamed<br>quot;The Gong Show. quot; He<br>was selected from dozens of<br>unknown, young race drivers to<br>work for one of the sport<br>#39;s most famous team owners,<br>Jack Roush."
          ],
          [
           "John Gibson said Friday that<br>he decided to resign as chief<br>executive officer of<br>Halliburton Energy Services<br>when it became apparent he<br>couldn #39;t become the CEO of<br>the entire corporation, after<br>getting a taste of the No."
          ],
          [
           "MacCentral - Apple Computer<br>Inc. on Monday released an<br>update for Apple Remote<br>Desktop (ARD), the company's<br>software solution to assist<br>Mac system administrators and<br>computer managers with asset<br>management, software<br>distribution and help desk<br>support. ARD 2.1 includes<br>several enhancements and bug<br>fixes."
          ],
          [
           "NEW YORK (Reuters) - Outback<br>Steakhouse Inc. said Tuesday<br>it lost about 130 operating<br>days and up to \\$2 million in<br>revenue because it had to<br>close some restaurants in the<br>South due to Hurricane<br>Charley."
          ],
          [
           "State insurance commissioners<br>from across the country have<br>proposed new rules governing<br>insurance brokerage fees,<br>winning praise from an<br>industry group and criticism<br>from"
          ],
          [
           "AP - The authenticity of newly<br>unearthed memos stating that<br>George W. Bush failed to meet<br>standards of the Texas Air<br>National Guard during the<br>Vietnam War was questioned<br>Thursday by the son of the<br>late officer who reportedly<br>wrote the memos."
          ],
          [
           "Zurich, Switzerland (Sports<br>Network) - Former world No. 1<br>Venus Williams advanced on<br>Thursday and will now meet<br>Wimbledon champion Maria<br>Sharapova in the quarterfinals<br>at the \\$1."
          ],
          [
           "INDIA #39;S cricket chiefs<br>began a frenetic search today<br>for a broadcaster to show next<br>month #39;s home series<br>against world champion<br>Australia after cancelling a<br>controversial \\$US308 million<br>(\\$440 million) television<br>deal."
          ],
          [
           "Canadian Press - OAKVILLE,<br>Ont. (CP) - The body of a<br>missing autistic man was<br>pulled from a creek Monday,<br>just metres from where a key<br>piece of evidence was<br>uncovered but originally<br>overlooked because searchers<br>had the wrong information."
          ],
          [
           "SOFTWARE giant Oracle #39;s<br>stalled \\$7.7bn (4.2bn) bid to<br>take over competitor<br>PeopleSoft has received a huge<br>boost after a US judge threw<br>out an anti-trust lawsuit<br>filed by the Department of<br>Justice to block the<br>acquisition."
          ],
          [
           "The International Olympic<br>Committee (IOC) has urged<br>Beijing to ensure the city is<br>ready to host the 2008 Games<br>well in advance, an official<br>said on Wednesday."
          ],
          [
           "AFP - German Chancellor<br>Gerhard Schroeder arrived in<br>Libya for an official visit<br>during which he is to hold<br>talks with Libyan leader<br>Moamer Kadhafi."
          ],
          [
           "The fastest-swiveling space<br>science observatory ever built<br>rocketed into orbit on<br>Saturday to scan the universe<br>for celestial explosions."
          ],
          [
           "The government will examine<br>claims 100,000 Iraqi civilians<br>have been killed since the US-<br>led invasion, Jack Straw says."
          ],
          [
           "Virginia Tech scores 24 points<br>off four first-half turnovers<br>in a 55-6 wipeout of Maryland<br>on Thursday to remain alone<br>atop the ACC."
          ],
          [
           "Copernic Unleashes Desktop<br>Search Tool\\\\Copernic<br>Technologies Inc. today<br>announced Copernic Desktop<br>Search(TM) (CDS(TM)), \"The<br>Search Engine For Your PC<br>(TM).\" Copernic has used the<br>experience gained from over 30<br>million downloads of its<br>Windows-based Web search<br>software to develop CDS, a<br>desktop search product that<br>users are saying is far ..."
          ],
          [
           "The DVD Forum moved a step<br>further toward the advent of<br>HD DVD media and drives with<br>the approval of key physical<br>specifications at a meeting of<br>the organisations steering<br>committee last week."
          ],
          [
           "Eton College and Clarence<br>House joined forces yesterday<br>to deny allegations due to be<br>made at an employment tribunal<br>today by a former art teacher<br>that she improperly helped<br>Prince Harry secure an A-level<br>pass in art two years ago."
          ],
          [
           "AFP - Great Britain's chances<br>of qualifying for the World<br>Group of the Davis Cup were<br>evaporating rapidly after<br>Austria moved into a 2-1 lead<br>following the doubles."
          ],
          [
           "AP - Martina Navratilova's<br>long, illustrious career will<br>end without an Olympic medal.<br>The 47-year-old Navratilova<br>and Lisa Raymond lost 6-4,<br>4-6, 6-4 on Thursday night to<br>fifth-seeded Shinobu Asagoe<br>and Ai Sugiyama of Japan in<br>the quarterfinals, one step<br>shy of the medal round."
          ],
          [
           "Often pigeonholed as just a<br>seller of televisions and DVD<br>players, Royal Philips<br>Electronics said third-quarter<br>profit surged despite a slide<br>into the red by its consumer<br>electronics division."
          ],
          [
           "AP - Google, the Internet<br>search engine, has done<br>something that law enforcement<br>officials and their computer<br>tools could not: Identify a<br>man who died in an apparent<br>hit-and-run accident 11 years<br>ago in this small town outside<br>Yakima."
          ],
          [
           "We are all used to IE getting<br>a monthly new security bug<br>found, but Winamp? In fact,<br>this is not the first security<br>flaw found in the application."
          ],
          [
           "The Apache Software Foundation<br>and the Debian Project said<br>they won't support the Sender<br>ID e-mail authentication<br>standard in their products."
          ],
          [
           "USATODAY.com - The newly<br>restored THX 1138 arrives on<br>DVD today with Star Wars<br>creator George Lucas' vision<br>of a Brave New World-like<br>future."
          ]
         ],
         "hovertemplate": "label=Other<br>Component 0=%{x}<br>Component 1=%{y}<br>string=%{customdata[0]}<extra></extra>",
         "legendgroup": "Other",
         "marker": {
          "color": "#636efa",
          "size": 5,
          "symbol": "circle"
         },
         "mode": "markers",
         "name": "Other",
         "orientation": "v",
         "showlegend": true,
         "type": "scatter",
         "x": [
          -15.426653861999512,
          4.022860050201416,
          -12.947819709777832,
          -13.777823448181152,
          3.8545613288879395,
          -3.5882880687713623,
          8.853726387023926,
          6.190961837768555,
          -13.949373245239258,
          5.342007637023926,
          3.823129653930664,
          -9.173030853271484,
          0.12757736444473267,
          2.8494489192962646,
          6.365508079528809,
          10.272479057312012,
          -17.74955940246582,
          5.8838276863098145,
          7.264599800109863,
          11.63478946685791,
          5.915467739105225,
          6.801270484924316,
          3.195619821548462,
          -10.290353775024414,
          11.315608978271484,
          -7.568747520446777,
          11.12959098815918,
          -18.424842834472656,
          3.8455862998962402,
          2.4332354068756104,
          6.6015424728393555,
          -12.08410358428955,
          -13.881023406982422,
          6.05782413482666,
          -1.6368842124938965,
          -11.198770523071289,
          3.5841002464294434,
          7.643832206726074,
          -16.48955726623535,
          -13.310428619384766,
          7.600007057189941,
          12.868605613708496,
          8.615945816040039,
          -11.904056549072266,
          -12.684072494506836,
          11.591919898986816,
          -14.307535171508789,
          -5.162750244140625,
          -10.131522178649902,
          3.7593727111816406,
          5.648723125457764,
          3.573201894760132,
          -9.304939270019531,
          -15.854140281677246,
          14.429536819458008,
          2.6341288089752197,
          -3.278952121734619,
          -2.9605727195739746,
          -16.80522346496582,
          7.879891872406006,
          8.3211669921875,
          -5.689742088317871,
          12.601251602172852,
          14.750268936157227,
          6.35500431060791,
          -3.2301740646362305,
          -1.0400642156600952,
          3.6158316135406494,
          -0.668512225151062,
          -10.93899154663086,
          2.2012951374053955,
          10.043961524963379,
          -2.503514051437378,
          7.410523414611816,
          -4.906834125518799,
          -11.387686729431152,
          -3.3332858085632324,
          7.0086259841918945,
          -10.577401161193848,
          -12.85402774810791,
          4.59100341796875,
          -10.796675682067871,
          -11.685327529907227,
          -9.22530460357666,
          8.243228912353516,
          5.020902156829834,
          14.205427169799805,
          -6.607216835021973,
          8.985929489135742,
          -7.054723262786865,
          13.482503890991211,
          8.02953052520752,
          13.417240142822266,
          -0.8665516972541809,
          7.8071794509887695,
          -11.794222831726074,
          12.423192024230957,
          4.048168659210205,
          -9.922728538513184,
          -8.138015747070312,
          -10.212414741516113,
          11.928711891174316,
          -14.937405586242676,
          13.934257507324219,
          6.075150489807129,
          -8.574663162231445,
          13.216493606567383,
          -11.194849014282227,
          2.363718271255493,
          -10.597368240356445,
          9.822535514831543,
          -6.48226261138916,
          -3.0876882076263428,
          2.0648903846740723,
          13.295446395874023,
          -12.529747009277344,
          -11.132542610168457,
          10.913054466247559,
          -6.232292652130127,
          1.3312920331954956,
          7.3465375900268555,
          -9.744476318359375,
          -6.268627166748047,
          -5.064323425292969,
          -13.29708480834961,
          12.498109817504883,
          -8.200876235961914,
          -6.418903350830078,
          4.038909912109375,
          -4.932309627532959,
          -7.391969680786133,
          -13.246878623962402,
          -10.328353881835938,
          3.405728816986084,
          -7.1542253494262695,
          -16.824819564819336,
          9.382284164428711,
          11.484366416931152,
          8.182100296020508,
          3.3641557693481445,
          6.122057914733887,
          3.435575246810913,
          8.351873397827148,
          1.6736414432525635,
          10.505556106567383,
          3.326659679412842,
          -10.957906723022461,
          4.81049108505249,
          4.125461578369141,
          -9.9977445602417,
          8.874545097351074,
          -0.8583289384841919,
          7.855214595794678,
          -15.756138801574707,
          7.347260475158691,
          -15.074265480041504,
          -8.128253936767578,
          -3.23360276222229,
          -1.2099921703338623,
          6.878449440002441,
          -2.8781285285949707,
          -4.9090142250061035,
          5.487621784210205,
          -6.905072212219238,
          2.821312427520752,
          7.98443603515625,
          12.014229774475098,
          12.74744987487793,
          1.9452108144760132,
          2.789890766143799,
          -8.428224563598633,
          -17.346923828125,
          -3.282393455505371,
          -5.30875301361084,
          1.3988250494003296,
          7.380620956420898,
          3.9402570724487305,
          8.560978889465332,
          -11.252021789550781,
          3.7072818279266357,
          4.077103137969971,
          -1.4742134809494019,
          4.726104736328125,
          8.450026512145996,
          -15.500842094421387,
          -8.821208953857422,
          11.901227951049805,
          5.3943657875061035,
          8.282596588134766,
          -8.230031967163086,
          7.940400123596191,
          -17.687284469604492,
          -19.081998825073242,
          -7.314907073974609
         ],
         "xaxis": "x",
         "y": [
          3.0819311141967773,
          -1.3403761386871338,
          -0.6653150916099548,
          5.654483318328857,
          5.425793170928955,
          4.113420009613037,
          8.35015869140625,
          5.923326015472412,
          2.2000527381896973,
          9.14799690246582,
          -10.409658432006836,
          -1.1124540567398071,
          9.561738014221191,
          3.709498405456543,
          12.337258338928223,
          -5.202568531036377,
          2.5888969898223877,
          13.427360534667969,
          10.184514999389648,
          -4.707862854003906,
          14.02916431427002,
          10.946854591369629,
          7.40196418762207,
          -7.186052322387695,
          6.711721420288086,
          -8.331405639648438,
          9.751762390136719,
          0.6121736168861389,
          0.22853979468345642,
          -4.128589630126953,
          8.7704496383667,
          0.49564528465270996,
          3.531831979751587,
          6.183477401733398,
          0.8515645265579224,
          -10.126829147338867,
          8.592820167541504,
          -2.1763389110565186,
          -0.10375329107046127,
          6.08590841293335,
          -14.254446029663086,
          -14.750025749206543,
          -5.341374397277832,
          -3.046355724334717,
          -4.189236164093018,
          -12.614466667175293,
          0.23602518439292908,
          -6.082411766052246,
          -10.042460441589355,
          14.498367309570312,
          -13.612591743469238,
          -7.743598937988281,
          10.763832092285156,
          -0.4644486904144287,
          -10.24481201171875,
          9.693754196166992,
          -11.518465995788574,
          5.056938648223877,
          2.211536407470703,
          -12.002104759216309,
          14.089982032775879,
          7.722090244293213,
          -7.642955303192139,
          -8.563284873962402,
          -2.138657331466675,
          -11.4441499710083,
          0.1375817060470581,
          -7.5944390296936035,
          7.3813605308532715,
          -3.1383697986602783,
          13.040640830993652,
          -13.522394180297852,
          -6.7053070068359375,
          9.13932991027832,
          -9.337790489196777,
          8.28736686706543,
          -2.783567428588867,
          -5.833065509796143,
          -1.9144816398620605,
          7.209471702575684,
          -4.184495449066162,
          -6.84003210067749,
          -5.160014629364014,
          10.813606262207031,
          11.824995040893555,
          7.601020336151123,
          -6.570700645446777,
          -2.555903673171997,
          5.087797164916992,
          3.2951831817626953,
          -4.293611526489258,
          -8.076020240783691,
          -13.70893383026123,
          -3.3559937477111816,
          -11.626471519470215,
          3.7011778354644775,
          -2.773000478744507,
          10.924727439880371,
          -10.308048248291016,
          -10.980093002319336,
          -11.21141242980957,
          -10.622929573059082,
          -1.621627926826477,
          -7.956149578094482,
          -7.528345584869385,
          -1.3538061380386353,
          -14.413596153259277,
          -11.434540748596191,
          4.102856636047363,
          9.252290725708008,
          -15.088998794555664,
          -5.036843776702881,
          6.958699703216553,
          13.976996421813965,
          -9.340813636779785,
          3.2067792415618896,
          -0.6257666349411011,
          -8.853353500366211,
          -4.006008148193359,
          7.3895158767700195,
          -1.3753795623779297,
          -7.399595737457275,
          -8.309650421142578,
          5.598073959350586,
          -5.811139106750488,
          -9.45376205444336,
          -6.272401809692383,
          -10.019920349121094,
          8.406240463256836,
          -0.39604687690734863,
          -11.469974517822266,
          -2.377138137817383,
          2.889777898788452,
          -2.084059000015259,
          -8.770587921142578,
          4.311347007751465,
          -0.11211510002613068,
          -2.3751935958862305,
          -13.373306274414062,
          -10.716744422912598,
          -14.313161849975586,
          5.1922760009765625,
          10.900994300842285,
          11.882235527038574,
          -10.537450790405273,
          -12.242183685302734,
          1.6752736568450928,
          5.4850006103515625,
          -14.356553077697754,
          -4.428614139556885,
          -14.621485710144043,
          5.67789363861084,
          7.89245080947876,
          2.7252514362335205,
          -2.457841157913208,
          -2.855956554412842,
          -4.331855297088623,
          -2.841001272201538,
          2.2894859313964844,
          -7.073178291320801,
          -8.308055877685547,
          -5.727902889251709,
          3.8359334468841553,
          1.5596376657485962,
          11.30274486541748,
          -7.681424617767334,
          -3.1246531009674072,
          -8.759587287902832,
          -3.18499755859375,
          -9.905247688293457,
          5.788006782531738,
          -2.037797689437866,
          -7.523571968078613,
          6.722318649291992,
          9.366408348083496,
          -5.1751251220703125,
          -3.4616928100585938,
          3.889659881591797,
          -0.7320746183395386,
          0.37333571910858154,
          12.585854530334473,
          1.623095989227295,
          10.66708755493164,
          -15.14441204071045,
          0.9020096063613892,
          3.0483243465423584,
          6.371715545654297,
          -4.523171424865723,
          -4.190382957458496,
          -4.636092185974121,
          3.6295673847198486,
          0.0811726450920105,
          2.1680855751037598,
          2.958853006362915
         ],
         "yaxis": "y"
        },
        {
         "customdata": [
          [
           "AP - British entrepreneur<br>Richard Branson said Monday<br>that his company plans to<br>launch commercial space<br>flights over the next few<br>years."
          ],
          [
           "AP - Scientists warned Tuesday<br>that a long-term increase in<br>global temperature of 3.5<br>degrees could threaten Latin<br>American water supplies,<br>reduce food yields in Asia and<br>result in a rise in extreme<br>weather conditions in the<br>Caribbean."
          ],
          [
           "In an alarming development,<br>high-precision equipment and<br>materials which could be used<br>for making nuclear bombs have<br>disappeared from some Iraqi<br>facilities, the United Nations<br>watchdog agency has said."
          ],
          [
           "A bitter row between America<br>and the European Union over<br>alleged subsidies to rival<br>aircraft makers Boeing and<br>Airbus intensified yesterday."
          ],
          [
           "AP - President Vladimir Putin<br>has signed a bill confirming<br>Russia's ratification of the<br>Kyoto Protocol, the Kremlin<br>said Friday, clearing the way<br>for the global climate pact to<br>come into force early next<br>year."
          ]
         ],
         "hovertemplate": "label=Nearest neighbor (top 5)<br>Component 0=%{x}<br>Component 1=%{y}<br>string=%{customdata[0]}<extra></extra>",
         "legendgroup": "Nearest neighbor (top 5)",
         "marker": {
          "color": "#EF553B",
          "size": 5,
          "symbol": "diamond"
         },
         "mode": "markers",
         "name": "Nearest neighbor (top 5)",
         "orientation": "v",
         "showlegend": true,
         "type": "scatter",
         "x": [
          -2.9084994792938232,
          -2.0624096393585205,
          -0.41808873414993286,
          -3.7369258403778076,
          -1.0084470510482788
         ],
         "xaxis": "x",
         "y": [
          0.38544148206710815,
          11.845742225646973,
          7.076028823852539,
          4.054369926452637,
          12.136077880859375
         ],
         "yaxis": "y"
        },
        {
         "customdata": [
          [
           "BRITAIN: BLAIR WARNS OF<br>CLIMATE THREAT Prime Minister<br>Tony Blair urged the<br>international community to<br>consider global warming a dire<br>threat and agree on a plan of<br>action to curb the<br>quot;alarming quot; growth of<br>greenhouse gases."
          ]
         ],
         "hovertemplate": "label=Source<br>Component 0=%{x}<br>Component 1=%{y}<br>string=%{customdata[0]}<extra></extra>",
         "legendgroup": "Source",
         "marker": {
          "color": "#00cc96",
          "size": 5,
          "symbol": "square"
         },
         "mode": "markers",
         "name": "Source",
         "orientation": "v",
         "showlegend": true,
         "type": "scatter",
         "x": [
          -2.419407367706299
         ],
         "xaxis": "x",
         "y": [
          11.751319885253906
         ],
         "yaxis": "y"
        }
       ],
       "layout": {
        "height": 500,
        "legend": {
         "title": {
          "text": "label"
         },
         "tracegroupgap": 0
        },
        "template": {
         "data": {
          "bar": [
           {
            "error_x": {
             "color": "#2a3f5f"
            },
            "error_y": {
             "color": "#2a3f5f"
            },
            "marker": {
             "line": {
              "color": "#E5ECF6",
              "width": 0.5
             },
             "pattern": {
              "fillmode": "overlay",
              "size": 10,
              "solidity": 0.2
             }
            },
            "type": "bar"
           }
          ],
          "barpolar": [
           {
            "marker": {
             "line": {
              "color": "#E5ECF6",
              "width": 0.5
             },
             "pattern": {
              "fillmode": "overlay",
              "size": 10,
              "solidity": 0.2
             }
            },
            "type": "barpolar"
           }
          ],
          "carpet": [
           {
            "aaxis": {
             "endlinecolor": "#2a3f5f",
             "gridcolor": "white",
             "linecolor": "white",
             "minorgridcolor": "white",
             "startlinecolor": "#2a3f5f"
            },
            "baxis": {
             "endlinecolor": "#2a3f5f",
             "gridcolor": "white",
             "linecolor": "white",
             "minorgridcolor": "white",
             "startlinecolor": "#2a3f5f"
            },
            "type": "carpet"
           }
          ],
          "choropleth": [
           {
            "colorbar": {
             "outlinewidth": 0,
             "ticks": ""
            },
            "type": "choropleth"
           }
          ],
          "contour": [
           {
            "colorbar": {
             "outlinewidth": 0,
             "ticks": ""
            },
            "colorscale": [
             [
              0,
              "#0d0887"
             ],
             [
              0.1111111111111111,
              "#46039f"
             ],
             [
              0.2222222222222222,
              "#7201a8"
             ],
             [
              0.3333333333333333,
              "#9c179e"
             ],
             [
              0.4444444444444444,
              "#bd3786"
             ],
             [
              0.5555555555555556,
              "#d8576b"
             ],
             [
              0.6666666666666666,
              "#ed7953"
             ],
             [
              0.7777777777777778,
              "#fb9f3a"
             ],
             [
              0.8888888888888888,
              "#fdca26"
             ],
             [
              1,
              "#f0f921"
             ]
            ],
            "type": "contour"
           }
          ],
          "contourcarpet": [
           {
            "colorbar": {
             "outlinewidth": 0,
             "ticks": ""
            },
            "type": "contourcarpet"
           }
          ],
          "heatmap": [
           {
            "colorbar": {
             "outlinewidth": 0,
             "ticks": ""
            },
            "colorscale": [
             [
              0,
              "#0d0887"
             ],
             [
              0.1111111111111111,
              "#46039f"
             ],
             [
              0.2222222222222222,
              "#7201a8"
             ],
             [
              0.3333333333333333,
              "#9c179e"
             ],
             [
              0.4444444444444444,
              "#bd3786"
             ],
             [
              0.5555555555555556,
              "#d8576b"
             ],
             [
              0.6666666666666666,
              "#ed7953"
             ],
             [
              0.7777777777777778,
              "#fb9f3a"
             ],
             [
              0.8888888888888888,
              "#fdca26"
             ],
             [
              1,
              "#f0f921"
             ]
            ],
            "type": "heatmap"
           }
          ],
          "heatmapgl": [
           {
            "colorbar": {
             "outlinewidth": 0,
             "ticks": ""
            },
            "colorscale": [
             [
              0,
              "#0d0887"
             ],
             [
              0.1111111111111111,
              "#46039f"
             ],
             [
              0.2222222222222222,
              "#7201a8"
             ],
             [
              0.3333333333333333,
              "#9c179e"
             ],
             [
              0.4444444444444444,
              "#bd3786"
             ],
             [
              0.5555555555555556,
              "#d8576b"
             ],
             [
              0.6666666666666666,
              "#ed7953"
             ],
             [
              0.7777777777777778,
              "#fb9f3a"
             ],
             [
              0.8888888888888888,
              "#fdca26"
             ],
             [
              1,
              "#f0f921"
             ]
            ],
            "type": "heatmapgl"
           }
          ],
          "histogram": [
           {
            "marker": {
             "pattern": {
              "fillmode": "overlay",
              "size": 10,
              "solidity": 0.2
             }
            },
            "type": "histogram"
           }
          ],
          "histogram2d": [
           {
            "colorbar": {
             "outlinewidth": 0,
             "ticks": ""
            },
            "colorscale": [
             [
              0,
              "#0d0887"
             ],
             [
              0.1111111111111111,
              "#46039f"
             ],
             [
              0.2222222222222222,
              "#7201a8"
             ],
             [
              0.3333333333333333,
              "#9c179e"
             ],
             [
              0.4444444444444444,
              "#bd3786"
             ],
             [
              0.5555555555555556,
              "#d8576b"
             ],
             [
              0.6666666666666666,
              "#ed7953"
             ],
             [
              0.7777777777777778,
              "#fb9f3a"
             ],
             [
              0.8888888888888888,
              "#fdca26"
             ],
             [
              1,
              "#f0f921"
             ]
            ],
            "type": "histogram2d"
           }
          ],
          "histogram2dcontour": [
           {
            "colorbar": {
             "outlinewidth": 0,
             "ticks": ""
            },
            "colorscale": [
             [
              0,
              "#0d0887"
             ],
             [
              0.1111111111111111,
              "#46039f"
             ],
             [
              0.2222222222222222,
              "#7201a8"
             ],
             [
              0.3333333333333333,
              "#9c179e"
             ],
             [
              0.4444444444444444,
              "#bd3786"
             ],
             [
              0.5555555555555556,
              "#d8576b"
             ],
             [
              0.6666666666666666,
              "#ed7953"
             ],
             [
              0.7777777777777778,
              "#fb9f3a"
             ],
             [
              0.8888888888888888,
              "#fdca26"
             ],
             [
              1,
              "#f0f921"
             ]
            ],
            "type": "histogram2dcontour"
           }
          ],
          "mesh3d": [
           {
            "colorbar": {
             "outlinewidth": 0,
             "ticks": ""
            },
            "type": "mesh3d"
           }
          ],
          "parcoords": [
           {
            "line": {
             "colorbar": {
              "outlinewidth": 0,
              "ticks": ""
             }
            },
            "type": "parcoords"
           }
          ],
          "pie": [
           {
            "automargin": true,
            "type": "pie"
           }
          ],
          "scatter": [
           {
            "fillpattern": {
             "fillmode": "overlay",
             "size": 10,
             "solidity": 0.2
            },
            "type": "scatter"
           }
          ],
          "scatter3d": [
           {
            "line": {
             "colorbar": {
              "outlinewidth": 0,
              "ticks": ""
             }
            },
            "marker": {
             "colorbar": {
              "outlinewidth": 0,
              "ticks": ""
             }
            },
            "type": "scatter3d"
           }
          ],
          "scattercarpet": [
           {
            "marker": {
             "colorbar": {
              "outlinewidth": 0,
              "ticks": ""
             }
            },
            "type": "scattercarpet"
           }
          ],
          "scattergeo": [
           {
            "marker": {
             "colorbar": {
              "outlinewidth": 0,
              "ticks": ""
             }
            },
            "type": "scattergeo"
           }
          ],
          "scattergl": [
           {
            "marker": {
             "colorbar": {
              "outlinewidth": 0,
              "ticks": ""
             }
            },
            "type": "scattergl"
           }
          ],
          "scattermapbox": [
           {
            "marker": {
             "colorbar": {
              "outlinewidth": 0,
              "ticks": ""
             }
            },
            "type": "scattermapbox"
           }
          ],
          "scatterpolar": [
           {
            "marker": {
             "colorbar": {
              "outlinewidth": 0,
              "ticks": ""
             }
            },
            "type": "scatterpolar"
           }
          ],
          "scatterpolargl": [
           {
            "marker": {
             "colorbar": {
              "outlinewidth": 0,
              "ticks": ""
             }
            },
            "type": "scatterpolargl"
           }
          ],
          "scatterternary": [
           {
            "marker": {
             "colorbar": {
              "outlinewidth": 0,
              "ticks": ""
             }
            },
            "type": "scatterternary"
           }
          ],
          "surface": [
           {
            "colorbar": {
             "outlinewidth": 0,
             "ticks": ""
            },
            "colorscale": [
             [
              0,
              "#0d0887"
             ],
             [
              0.1111111111111111,
              "#46039f"
             ],
             [
              0.2222222222222222,
              "#7201a8"
             ],
             [
              0.3333333333333333,
              "#9c179e"
             ],
             [
              0.4444444444444444,
              "#bd3786"
             ],
             [
              0.5555555555555556,
              "#d8576b"
             ],
             [
              0.6666666666666666,
              "#ed7953"
             ],
             [
              0.7777777777777778,
              "#fb9f3a"
             ],
             [
              0.8888888888888888,
              "#fdca26"
             ],
             [
              1,
              "#f0f921"
             ]
            ],
            "type": "surface"
           }
          ],
          "table": [
           {
            "cells": {
             "fill": {
              "color": "#EBF0F8"
             },
             "line": {
              "color": "white"
             }
            },
            "header": {
             "fill": {
              "color": "#C8D4E3"
             },
             "line": {
              "color": "white"
             }
            },
            "type": "table"
           }
          ]
         },
         "layout": {
          "annotationdefaults": {
           "arrowcolor": "#2a3f5f",
           "arrowhead": 0,
           "arrowwidth": 1
          },
          "autotypenumbers": "strict",
          "coloraxis": {
           "colorbar": {
            "outlinewidth": 0,
            "ticks": ""
           }
          },
          "colorscale": {
           "diverging": [
            [
             0,
             "#8e0152"
            ],
            [
             0.1,
             "#c51b7d"
            ],
            [
             0.2,
             "#de77ae"
            ],
            [
             0.3,
             "#f1b6da"
            ],
            [
             0.4,
             "#fde0ef"
            ],
            [
             0.5,
             "#f7f7f7"
            ],
            [
             0.6,
             "#e6f5d0"
            ],
            [
             0.7,
             "#b8e186"
            ],
            [
             0.8,
             "#7fbc41"
            ],
            [
             0.9,
             "#4d9221"
            ],
            [
             1,
             "#276419"
            ]
           ],
           "sequential": [
            [
             0,
             "#0d0887"
            ],
            [
             0.1111111111111111,
             "#46039f"
            ],
            [
             0.2222222222222222,
             "#7201a8"
            ],
            [
             0.3333333333333333,
             "#9c179e"
            ],
            [
             0.4444444444444444,
             "#bd3786"
            ],
            [
             0.5555555555555556,
             "#d8576b"
            ],
            [
             0.6666666666666666,
             "#ed7953"
            ],
            [
             0.7777777777777778,
             "#fb9f3a"
            ],
            [
             0.8888888888888888,
             "#fdca26"
            ],
            [
             1,
             "#f0f921"
            ]
           ],
           "sequentialminus": [
            [
             0,
             "#0d0887"
            ],
            [
             0.1111111111111111,
             "#46039f"
            ],
            [
             0.2222222222222222,
             "#7201a8"
            ],
            [
             0.3333333333333333,
             "#9c179e"
            ],
            [
             0.4444444444444444,
             "#bd3786"
            ],
            [
             0.5555555555555556,
             "#d8576b"
            ],
            [
             0.6666666666666666,
             "#ed7953"
            ],
            [
             0.7777777777777778,
             "#fb9f3a"
            ],
            [
             0.8888888888888888,
             "#fdca26"
            ],
            [
             1,
             "#f0f921"
            ]
           ]
          },
          "colorway": [
           "#636efa",
           "#EF553B",
           "#00cc96",
           "#ab63fa",
           "#FFA15A",
           "#19d3f3",
           "#FF6692",
           "#B6E880",
           "#FF97FF",
           "#FECB52"
          ],
          "font": {
           "color": "#2a3f5f"
          },
          "geo": {
           "bgcolor": "white",
           "lakecolor": "white",
           "landcolor": "#E5ECF6",
           "showlakes": true,
           "showland": true,
           "subunitcolor": "white"
          },
          "hoverlabel": {
           "align": "left"
          },
          "hovermode": "closest",
          "mapbox": {
           "style": "light"
          },
          "paper_bgcolor": "white",
          "plot_bgcolor": "#E5ECF6",
          "polar": {
           "angularaxis": {
            "gridcolor": "white",
            "linecolor": "white",
            "ticks": ""
           },
           "bgcolor": "#E5ECF6",
           "radialaxis": {
            "gridcolor": "white",
            "linecolor": "white",
            "ticks": ""
           }
          },
          "scene": {
           "xaxis": {
            "backgroundcolor": "#E5ECF6",
            "gridcolor": "white",
            "gridwidth": 2,
            "linecolor": "white",
            "showbackground": true,
            "ticks": "",
            "zerolinecolor": "white"
           },
           "yaxis": {
            "backgroundcolor": "#E5ECF6",
            "gridcolor": "white",
            "gridwidth": 2,
            "linecolor": "white",
            "showbackground": true,
            "ticks": "",
            "zerolinecolor": "white"
           },
           "zaxis": {
            "backgroundcolor": "#E5ECF6",
            "gridcolor": "white",
            "gridwidth": 2,
            "linecolor": "white",
            "showbackground": true,
            "ticks": "",
            "zerolinecolor": "white"
           }
          },
          "shapedefaults": {
           "line": {
            "color": "#2a3f5f"
           }
          },
          "ternary": {
           "aaxis": {
            "gridcolor": "white",
            "linecolor": "white",
            "ticks": ""
           },
           "baxis": {
            "gridcolor": "white",
            "linecolor": "white",
            "ticks": ""
           },
           "bgcolor": "#E5ECF6",
           "caxis": {
            "gridcolor": "white",
            "linecolor": "white",
            "ticks": ""
           }
          },
          "title": {
           "x": 0.05
          },
          "xaxis": {
           "automargin": true,
           "gridcolor": "white",
           "linecolor": "white",
           "ticks": "",
           "title": {
            "standoff": 15
           },
           "zerolinecolor": "white",
           "zerolinewidth": 2
          },
          "yaxis": {
           "automargin": true,
           "gridcolor": "white",
           "linecolor": "white",
           "ticks": "",
           "title": {
            "standoff": 15
           },
           "zerolinecolor": "white",
           "zerolinewidth": 2
          }
         }
        },
        "title": {
         "text": "Nearest neighbors of the Tony Blair article"
        },
        "width": 600,
        "xaxis": {
         "anchor": "y",
         "domain": [
          0,
          1
         ],
         "title": {
          "text": "Component 0"
         }
        },
        "yaxis": {
         "anchor": "x",
         "domain": [
          0,
          1
         ],
         "title": {
          "text": "Component 1"
         }
        }
       }
      }
     },
     "metadata": {},
     "output_type": "display_data"
    }
   ],
   "source": [
    "# a 2D chart of nearest neighbors of the Tony Blair article\n",
    "chart_from_components(\n",
    "    components=tsne_components,\n",
    "    labels=tony_blair_labels,\n",
    "    strings=article_descriptions,\n",
    "    width=600,\n",
    "    height=500,\n",
    "    title=\"Nearest neighbors of the Tony Blair article\",\n",
    "    category_orders={\"label\": [\"Other\", \"Nearest neighbor (top 5)\", \"Source\"]},\n",
    ")\n"
   ]
  },
  {
   "attachments": {},
   "cell_type": "markdown",
   "metadata": {},
   "source": [
    "Looking at the 2D chart above, we can see that the articles about Tony Blair are somewhat close together inside of the World news cluster. Interestingly, although the 5 nearest neighbors (red) were closest in high dimensional space, they are not the closest points in this compressed 2D space. Compressing the embeddings down to 2 dimensions discards much of their information, and the nearest neighbors in the 2D space don't seem to be as relevant as those in the full embedding space."
   ]
  },
  {
   "cell_type": "code",
   "execution_count": 12,
   "metadata": {},
   "outputs": [
    {
     "data": {
      "application/vnd.plotly.v1+json": {
       "config": {
        "plotlyServerURL": "https://plot.ly"
       },
       "data": [
        {
         "customdata": [
          [
           "BRITAIN: BLAIR WARNS OF<br>CLIMATE THREAT Prime Minister<br>Tony Blair urged the<br>international community to<br>consider global warming a dire<br>threat and agree on a plan of<br>action to curb the<br>quot;alarming quot; growth of<br>greenhouse gases."
          ],
          [
           "Newspapers in Greece reflect a<br>mixture of exhilaration that<br>the Athens Olympics proved<br>successful, and relief that<br>they passed off without any<br>major setback."
          ],
          [
           "SAN JOSE, Calif. -- Apple<br>Computer (Quote, Chart)<br>unveiled a batch of new iPods,<br>iTunes software and promos<br>designed to keep it atop the<br>heap of digital music players."
          ],
          [
           "Any product, any shape, any<br>size -- manufactured on your<br>desktop! The future is the<br>fabricator. By Bruce Sterling<br>from Wired magazine."
          ],
          [
           "KABUL, Sept 22 (AFP): Three US<br>soldiers were killed and 14<br>wounded in a series of fierce<br>clashes with suspected Taliban<br>fighters in south and eastern<br>Afghanistan this week, the US<br>military said Wednesday."
          ],
          [
           "The EU and US moved closer to<br>an aviation trade war after<br>failing to reach agreement<br>during talks Thursday on<br>subsidies to Airbus Industrie."
          ],
          [
           "AUSTRALIAN journalist John<br>Martinkus is lucky to be alive<br>after spending 24 hours in the<br>hands of Iraqi militants at<br>the weekend. Martinkus was in<br>Baghdad working for the SBS<br>Dateline TV current affairs<br>program"
          ],
          [
           " GAZA (Reuters) - An Israeli<br>helicopter fired a missile<br>into  a town in the southern<br>Gaza Strip late on Wednesday,<br>witnesses  said, hours after a<br>Palestinian suicide bomber<br>blew herself up  in Jerusalem,<br>killing two Israeli border<br>policemen."
          ],
          [
           "RIYADH, Saudi Arabia -- Saudi<br>police are seeking two young<br>men in the killing of a Briton<br>in a Riyadh parking lot, the<br>Interior Ministry said today,<br>and the British ambassador<br>called it a terrorist attack."
          ],
          [
           "Loudon, NH -- As the rain<br>began falling late Friday<br>afternoon at New Hampshire<br>International Speedway, the<br>rich in the Nextel Cup garage<br>got richer."
          ],
          [
           "PalmSource surprised the<br>mobile vendor community today<br>with the announcement that it<br>will acquire China MobileSoft<br>(CMS), ostensibly to leverage<br>that company's expertise in<br>building a mobile version of<br>the Linux operating system."
          ],
          [
           "JEFFERSON CITY - An election<br>security expert has raised<br>questions about Missouri<br>Secretary of State Matt Blunt<br>#39;s plan to let soldiers at<br>remote duty stations or in<br>combat areas cast their<br>ballots with the help of<br>e-mail."
          ],
          [
           "A gas explosion at a coal mine<br>in northern China killed 33<br>workers in the 10th deadly<br>mine blast reported in three<br>months. The explosion occurred<br>yesterday at 4:20 pm at Nanlou<br>township"
          ],
          [
           "Reuters - Palestinian leader<br>Mahmoud Abbas called\\Israel<br>\"the Zionist enemy\" Tuesday,<br>unprecedented language for\\the<br>relative moderate who is<br>expected to succeed Yasser<br>Arafat."
          ],
          [
           "AP - Ottawa Senators right<br>wing Marian Hossa is switching<br>European teams during the NHL<br>lockout."
          ],
          [
           "A new, optional log-on service<br>from America Online that makes<br>it harder for scammers to<br>access a persons online<br>account will not be available<br>for Macintosh"
          ],
          [
           "Nasser al-Qidwa, Palestinian<br>representative at the United<br>Nations and nephew of late<br>leader Yasser Arafat, handed<br>Arafat #39;s death report to<br>the Palestinian National<br>Authority (PNA) on Saturday."
          ],
          [
           "CAIRO, Egypt - France's<br>foreign minister appealed<br>Monday for the release of two<br>French journalists abducted in<br>Baghdad, saying the French<br>respect all religions. He did<br>not rule out traveling to<br>Baghdad..."
          ],
          [
           "Chelsea terminated Romania<br>striker Adrian Mutu #39;s<br>contract, citing gross<br>misconduct after the player<br>failed a doping test for<br>cocaine and admitted taking<br>the drug, the English soccer<br>club said in a statement."
          ],
          [
           "United Arab Emirates President<br>and ruler of Abu Dhabi Sheik<br>Zayed bin Sultan al-Nayhan<br>died Tuesday, official<br>television reports. He was 86."
          ],
          [
           "PALESTINIAN leader Yasser<br>Arafat today issued an urgent<br>call for the immediate release<br>of two French journalists<br>taken hostage in Iraq."
          ],
          [
           "The al-Qaida terrorist network<br>spent less than \\$50,000 on<br>each of its major attacks<br>except for the Sept. 11, 2001,<br>suicide hijackings, and one of<br>its hallmarks is using"
          ],
          [
           " SAN FRANCISCO (Reuters) -<br>Nike Inc. &lt;A HREF=\"http://w<br>ww.investor.reuters.com/FullQu<br>ote.aspx?ticker=NKE.N target=/<br>stocks/quickinfo/fullquote\"&gt<br>;NKE.N&lt;/A&gt;, the world's<br>largest athletic shoe company,<br>on Monday reported a 25<br>percent  rise in quarterly<br>profit, beating analysts'<br>estimates, on  strong demand<br>for high-end running and<br>basketball shoes in the<br>United States."
          ],
          [
           "A FATHER who scaled the walls<br>of a Cardiff court dressed as<br>superhero Robin said the<br>Buckingham Palace protester<br>posed no threat. Fathers 4<br>Justice activist Jim Gibson,<br>who earlier this year staged<br>an eye-catching"
          ],
          [
           "NEW YORK (CBS.MW) - US stocks<br>traded mixed Thurday as Merck<br>shares lost a quarter of their<br>value, dragging blue chips<br>lower, but the Nasdaq moved<br>higher, buoyed by gains in the<br>semiconductor sector."
          ],
          [
           "Julia Gillard has reportedly<br>bowed out of the race to<br>become shadow treasurer,<br>taking enormous pressure off<br>Opposition Leader Mark Latham."
          ],
          [
           "It #39;s official. Microsoft<br>recently stated<br>definitivelyand contrary to<br>rumorsthat there will be no<br>new versions of Internet<br>Explorer for users of older<br>versions of Windows."
          ],
          [
           "The success of Paris #39; bid<br>for Olympic Games 2012 would<br>bring an exceptional<br>development for France for at<br>least 6 years, said Jean-<br>Francois Lamour, French<br>minister for Youth and Sports<br>on Tuesday."
          ],
          [
           "AFP - Maybe it's something to<br>do with the fact that the<br>playing area is so vast that<br>you need a good pair of<br>binoculars to see the action<br>if it's not taking place right<br>in front of the stands."
          ],
          [
           "Egypt #39;s release of accused<br>Israeli spy Azzam Azzam in an<br>apparent swap for six Egyptian<br>students held on suspicion of<br>terrorism is expected to melt<br>the ice and perhaps result"
          ],
          [
           "But fresh antitrust suit is in<br>the envelope, says Novell"
          ],
          [
           "GAZA CITY, Gaza Strip: Hamas<br>militants killed an Israeli<br>soldier and wounded four with<br>an explosion in a booby-<br>trapped chicken coop on<br>Tuesday, in what the Islamic<br>group said was an elaborate<br>scheme to lure troops to the<br>area with the help of a double"
          ],
          [
           "A rocket carrying two Russian<br>cosmonauts and an American<br>astronaut to the international<br>space station streaked into<br>orbit on Thursday, the latest<br>flight of a Russian space<br>vehicle to fill in for<br>grounded US shuttles."
          ],
          [
           "Bankrupt ATA Airlines #39;<br>withdrawal from Chicago #39;s<br>Midway International Airport<br>presents a juicy opportunity<br>for another airline to beef up<br>service in the Midwest"
          ],
          [
           "AP - The 300 men filling out<br>forms in the offices of an<br>Iranian aid group were offered<br>three choices: Train for<br>suicide attacks against U.S.<br>troops in Iraq, for suicide<br>attacks against Israelis or to<br>assassinate British author<br>Salman Rushdie."
          ],
          [
           "ATHENS, Greece - Gail Devers,<br>the most talented yet star-<br>crossed hurdler of her<br>generation, was unable to<br>complete even one hurdle in<br>100-meter event Sunday -<br>failing once again to win an<br>Olympic hurdling medal.<br>Devers, 37, who has three<br>world championships in the<br>hurdles but has always flopped<br>at the Olympics, pulled up<br>short and screamed as she slid<br>under the first hurdle..."
          ],
          [
           "OCTOBER 12, 2004<br>(COMPUTERWORLD) - Microsoft<br>Corp. #39;s monthly patch<br>release cycle may be making it<br>more predictable for users to<br>deploy software updates, but<br>there appears to be little<br>letup in the number of holes<br>being discovered in the<br>company #39;s software"
          ],
          [
           "Wearable tech goes mainstream<br>as the Gap introduces jacket<br>with built-in radio.\\"
          ],
          [
           "Madison, WI (Sports Network) -<br>Anthony Davis ran for 122<br>yards and two touchdowns to<br>lead No. 6 Wisconsin over<br>Northwestern, 24-12, to<br>celebrate Homecoming weekend<br>at Camp Randall Stadium."
          ],
          [
           "LaVar Arrington participated<br>in his first practice since<br>Oct. 25, when he aggravated a<br>knee injury that sidelined him<br>for 10 games."
          ],
          [
           " NEW YORK (Reuters) - Billie<br>Jean King cut her final tie<br>with the U.S. Fed Cup team<br>Tuesday when she retired as<br>coach."
          ],
          [
           "The Instinet Group, owner of<br>one of the largest electronic<br>stock trading systems, is for<br>sale, executives briefed on<br>the plan say."
          ],
          [
           "Funding round of \\$105 million<br>brings broadband Internet<br>telephony company's total haul<br>to \\$208 million."
          ],
          [
           "The Miami Dolphins arrived for<br>their final exhibition game<br>last night in New Orleans<br>short nine players."
          ],
          [
           "washingtonpost.com - Anthony<br>Casalena was 17 when he got<br>his first job as a programmer<br>for a start-up called<br>HyperOffice, a software<br>company that makes e-mail and<br>contact management<br>applications for the Web.<br>Hired as an intern, he became<br>a regular programmer after two<br>weeks and rewrote the main<br>product line."
          ],
          [
           "The Auburn Hills-based<br>Chrysler Group made a profit<br>of \\$269 million in the third<br>quarter, even though worldwide<br>sales and revenues declined,<br>contributing to a \\$1."
          ],
          [
           "SAN FRANCISCO (CBS.MW) -- UAL<br>Corp., parent of United<br>Airlines, said Wednesday it<br>will overhaul its route<br>structure to reduce costs and<br>offset rising fuel costs."
          ],
          [
           " NAIROBI (Reuters) - The<br>Sudanese government and its<br>southern rebel opponents have<br>agreed to sign a pledge in the<br>Kenyan capital on Friday to<br>formally end a brutal 21-year-<br>old  civil war, with U.N.<br>Security Council ambassadors<br>as witnesses."
          ],
          [
           "AP - From LSU at No. 1 to Ohio<br>State at No. 10, The AP<br>women's basketball poll had no<br>changes Monday."
          ],
          [
           "nother stage victory for race<br>leader Petter Solberg, his<br>fifth since the start of the<br>rally. The Subaru driver is<br>not pulling away at a fast<br>pace from Gronholm and Loeb<br>but the gap is nonetheless<br>increasing steadily."
          ],
          [
           "The fossilized neck bones of a<br>230-million-year-old sea<br>creature have features<br>suggesting that the animal<br>#39;s snakelike throat could<br>flare open and create suction<br>that would pull in prey."
          ],
          [
           "April 1980 -- Players strike<br>the last eight days of spring<br>training. Ninety-two<br>exhibition games are canceled.<br>June 1981 -- Players stage<br>first midseason strike in<br>history."
          ],
          [
           "AP - Former Guatemalan<br>President Alfonso Portillo<br>#151; suspected of corruption<br>at home  #151; is living and<br>working part-time in the same<br>Mexican city he fled two<br>decades ago to avoid arrest on<br>murder charges, his close<br>associates told The Associated<br>Press on Sunday."
          ],
          [
           "AP - British entrepreneur<br>Richard Branson said Monday<br>that his company plans to<br>launch commercial space<br>flights over the next few<br>years."
          ],
          [
           "Annual economic growth in<br>China has slowed for the third<br>quarter in a row, falling to<br>9.1 per cent, third-quarter<br>data shows. The slowdown shows<br>the economy is responding to<br>Beijing #39;s efforts to rein<br>in break-neck investment and<br>lending."
          ],
          [
           "washingtonpost.com - BRUSSELS,<br>Aug. 26 -- The United States<br>will have to wait until next<br>year to see its fight with the<br>European Union over biotech<br>foods resolved, as the World<br>Trade Organization agreed to<br>an E.U. request to bring<br>scientists into the debate,<br>officials said Thursday."
          ],
          [
           "On Sunday, the day after Ohio<br>State dropped to 0-3 in the<br>Big Ten with a 33-7 loss at<br>Iowa, the Columbus Dispatch<br>ran a single word above its<br>game story on the Buckeyes:<br>quot;Embarrassing."
          ],
          [
           "Insisting that Hurriyat<br>Conference is the real<br>representative of Kashmiris,<br>Pakistan has claimed that<br>India is not ready to accept<br>ground realities in Kashmir."
          ],
          [
           "THE All-India Motor Transport<br>Congress (AIMTC) on Saturday<br>called off its seven-day<br>strike after finalising an<br>agreement with the Government<br>on the contentious issue of<br>service tax and the various<br>demands including tax deducted<br>at source (TDS), scrapping"
          ],
          [
           "BOSTON - Curt Schilling got<br>his 20th win on the eve of<br>Boston #39;s big series with<br>the New York Yankees. Now he<br>wants much more.  quot;In a<br>couple of weeks, hopefully, it<br>will get a lot better, quot;<br>he said after becoming"
          ],
          [
           "Shooed the ghosts of the<br>Bambino and the Iron Horse and<br>the Yankee Clipper and the<br>Mighty Mick, on his 73rd<br>birthday, no less, and turned<br>Yankee Stadium into a morgue."
          ],
          [
           "Gold medal-winning Marlon<br>Devonish says the men #39;s<br>4x100m Olympic relay triumph<br>puts British sprinting back on<br>the map. Devonish, Darren<br>Campbell, Jason Gardener and<br>Mark Lewis-Francis edged out<br>the American"
          ],
          [
           "AP - The euro-zone economy<br>grew by 0.5 percent in the<br>second quarter of 2004, a<br>touch slower than in the first<br>three months of the year,<br>according to initial estimates<br>released Tuesday by the<br>European Union."
          ],
          [
           "His first space flight was in<br>1965 when he piloted the first<br>manned Gemini mission. Later<br>he made two trips to the moon<br>-- orbiting during a 1969<br>flight and then walking on the<br>lunar surface during a mission<br>in 1972."
          ],
          [
           "he difficult road conditions<br>created a few incidents in the<br>first run of the Epynt stage.<br>Francois Duval takes his<br>second stage victory since the<br>start of the rally, nine<br>tenths better than Sebastien<br>Loeb #39;s performance in<br>second position."
          ],
          [
           "VIENNA -- After two years of<br>investigating Iran's atomic<br>program, the UN nuclear<br>watchdog still cannot rule out<br>that Tehran has a secret atom<br>bomb project as Washington<br>insists, the agency's chief<br>said yesterday."
          ],
          [
           "By RACHEL KONRAD    SAN<br>FRANCISCO (AP) -- EBay Inc.,<br>which has been aggressively<br>expanding in Asia, plans to<br>increase its stake in South<br>Korea's largest online auction<br>company.    The Internet<br>auction giant said Tuesday<br>night that it would purchase<br>nearly 3 million publicly held<br>shares of Internet Auction<br>Co..."
          ],
          [
           "AFP - US Secretary of State<br>Colin Powell wrapped up a<br>three-nation tour of Asia<br>after winning pledges from<br>Japan, China and South Korea<br>to press North Korea to resume<br>stalled talks on its nuclear<br>weapons programs."
          ],
          [
           "Tallahassee, FL (Sports<br>Network) - Florida State head<br>coach Bobby Bowden has<br>suspended senior wide receiver<br>Craphonso Thorpe for the<br>Seminoles #39; game against<br>fellow Atlantic Coast<br>Conference member Duke on<br>Saturday."
          ],
          [
           "A few years ago, casinos<br>across the United States were<br>closing their poker rooms to<br>make space for more popular<br>and lucrative slot machines."
          ],
          [
           "CAIRO, Egypt An Egyptian<br>company says one of its four<br>workers who had been kidnapped<br>in Iraq has been freed. It<br>says it can #39;t give the<br>status of the others being<br>held hostage but says it is<br>quot;doing its best to secure<br>quot; their release."
          ],
          [
           "WASHINGTON -- Consumers were<br>tightfisted amid soaring<br>gasoline costs in August and<br>hurricane-related disruptions<br>last week sent applications<br>for jobless benefits to their<br>highest level in seven months."
          ],
          [
           "Talking kitchens and vanities.<br>Musical jump ropes and potty<br>seats. Blusterous miniature<br>leaf blowers and vacuum<br>cleaners -- almost as loud as<br>the real things."
          ],
          [
           "Online merchants in the United<br>States have become better at<br>weeding out fraudulent credit<br>card orders, a new survey<br>indicates. But shipping<br>overseas remains a risky<br>venture. By Joanna Glasner."
          ],
          [
           "Former champion Lleyton Hewitt<br>bristled, battled and<br>eventually blossomed as he<br>took another step towards a<br>second US Open title with a<br>second-round victory over<br>Moroccan Hicham Arazi on<br>Friday."
          ],
          [
           "AP - China's biggest computer<br>maker, Lenovo Group, said<br>Wednesday it has acquired a<br>majority stake in<br>International Business<br>Machines Corp.'s personal<br>computer business for<br>#36;1.75 billion, one of the<br>biggest Chinese overseas<br>acquisitions ever."
          ],
          [
           "Popping a gadget into a cradle<br>to recharge it used to mean<br>downtime, but these days<br>chargers are doing double<br>duty, keeping your portable<br>devices playing even when<br>they're charging."
          ],
          [
           "AFP - Hosts India braced<br>themselves for a harrowing<br>chase on a wearing wicket in<br>the first Test after Australia<br>declined to enforce the<br>follow-on here."
          ],
          [
           " SAN FRANCISCO (Reuters) -<br>Texas Instruments Inc. &lt;A H<br>REF=\"http://www.investor.reute<br>rs.com/FullQuote.aspx?ticker=T<br>XN.N target=/stocks/quickinfo/<br>fullquote\"&gt;TXN.N&lt;/A&gt;,<br>the largest maker of chips for<br>cellular phones, on Monday<br>said  record demand for its<br>handset and television chips<br>boosted  quarterly profit by<br>26 percent, even as it<br>struggles with a  nagging<br>inventory problem."
          ],
          [
           "LONDON ARM Holdings, a British<br>semiconductor designer, said<br>on Monday that it would buy<br>Artisan Components for \\$913<br>million to broaden its product<br>range."
          ],
          [
           "Big evolutionary insights<br>sometimes come in little<br>packages. Witness the<br>startling discovery, in a cave<br>on the eastern Indonesian<br>island of Flores, of the<br>partial skeleton of a half-<br>size Homo species that"
          ],
          [
           "Prime Minister Paul Martin of<br>Canada urged Haitian leaders<br>on Sunday to allow the<br>political party of the deposed<br>president, Jean-Bertrand<br>Aristide, to take part in new<br>elections."
          ],
          [
           "Hostage takers holding up to<br>240 people at a school in<br>southern Russia have refused<br>to talk with a top Islamic<br>leader and demanded to meet<br>with regional leaders instead,<br>ITAR-TASS reported on<br>Wednesday."
          ],
          [
           "As the Mets round out their<br>search for a new manager, the<br>club is giving a last-minute<br>nod to its past. Wally<br>Backman, an infielder for the<br>Mets from 1980-88 who played<br>second base on the 1986"
          ],
          [
           "MELBOURNE: Global shopping<br>mall owner Westfield Group<br>will team up with Australian<br>developer Multiplex Group to<br>bid 585mil (US\\$1."
          ],
          [
           "Three children from a care<br>home are missing on the<br>Lancashire moors after they<br>are separated from a group."
          ],
          [
           "Luke Skywalker and Darth Vader<br>may get all the glory, but a<br>new Star Wars video game<br>finally gives credit to the<br>everyday grunts who couldn<br>#39;t summon the Force for<br>help."
          ],
          [
           "AMSTERDAM, Aug 18 (Reuters) -<br>Midfielder Edgar Davids #39;s<br>leadership qualities and<br>never-say-die attitude have<br>earned him the captaincy of<br>the Netherlands under new<br>coach Marco van Basten."
          ],
          [
           "COUNTY KILKENNY, Ireland (PA)<br>-- Hurricane Jeanne has led to<br>world No. 1 Vijay Singh<br>pulling out of this week #39;s<br>WGC-American Express<br>Championship at Mount Juliet."
          ],
          [
           "Green Bay, WI (Sports Network)<br>- The Green Bay Packers will<br>be without the services of Pro<br>Bowl center Mike Flanagan for<br>the remainder of the season,<br>as he will undergo left knee<br>surgery."
          ],
          [
           "Diabetics should test their<br>blood sugar levels more<br>regularly to reduce the risk<br>of cardiovascular disease, a<br>study says."
          ],
          [
           "COLUMBUS, Ohio -- NCAA<br>investigators will return to<br>Ohio State University Monday<br>to take another look at the<br>football program after the<br>latest round of allegations<br>made by former players,<br>according to the Akron Beacon<br>Journal."
          ],
          [
           " LOS ANGELES (Reuters) -<br>Federal authorities raided<br>three  Washington, D.C.-area<br>video game stores and arrested<br>two people  for modifying<br>video game consoles to play<br>pirated video games,  a video<br>game industry group said on<br>Wednesday."
          ],
          [
           "Manchester United gave Alex<br>Ferguson a 1,000th game<br>anniversary present by<br>reaching the last 16 of the<br>Champions League yesterday,<br>while four-time winners Bayern<br>Munich romped into the second<br>round with a 5-1 beating of<br>Maccabi Tel Aviv."
          ],
          [
           "Iraq's interim Prime Minister<br>Ayad Allawi announced that<br>proceedings would begin<br>against former Baath Party<br>leaders."
          ],
          [
           "Reuters - Delta Air Lines Inc.<br>, which is\\racing to cut costs<br>to avoid bankruptcy, on<br>Wednesday reported\\a wider<br>quarterly loss amid soaring<br>fuel prices and weak\\domestic<br>airfares."
          ],
          [
           "Energy utility TXU Corp. on<br>Monday more than quadrupled<br>its quarterly dividend payment<br>and raised its projected<br>earnings for 2004 and 2005<br>after a companywide<br>performance review."
          ],
          [
           "Northwest Airlines Corp., the<br>fourth- largest US airline,<br>and its pilots union reached<br>tentative agreement on a<br>contract that would cut pay<br>and benefits, saving the<br>company \\$265 million a year."
          ],
          [
           "The last time the Angels<br>played the Texas Rangers, they<br>dropped two consecutive<br>shutouts at home in their most<br>agonizing lost weekend of the<br>season."
          ],
          [
           "Microsoft Corp. MSFT.O and<br>cable television provider<br>Comcast Corp. CMCSA.O said on<br>Monday that they would begin<br>deploying set-top boxes<br>powered by Microsoft software<br>starting next week."
          ],
          [
           "SEATTLE - Chasing a nearly<br>forgotten ghost of the game,<br>Ichiro Suzuki broke one of<br>baseball #39;s oldest records<br>Friday night, smoking a single<br>up the middle for his 258th<br>hit of the year and breaking<br>George Sisler #39;s record for<br>the most hits in a season"
          ],
          [
           "Grace Park, her caddie - and<br>fans - were poking around in<br>the desert brush alongside the<br>18th fairway desperately<br>looking for her ball."
          ],
          [
           "Philippines mobile phone<br>operator Smart Communications<br>Inc. is in talks with<br>Singapore #39;s Mobile One for<br>a possible tie-up,<br>BusinessWorld reported Monday."
          ],
          [
           "Washington Redskins kicker<br>John Hall strained his right<br>groin during practice<br>Thursday, his third leg injury<br>of the season. Hall will be<br>held out of practice Friday<br>and is questionable for Sunday<br>#39;s game against the Chicago<br>Bears."
          ],
          [
           "Airline warns it may file for<br>bankruptcy if too many senior<br>pilots take early retirement<br>option. Delta Air LInes #39;<br>CEO says it faces bankruptcy<br>if it can #39;t slow the pace<br>of pilots taking early<br>retirement."
          ],
          [
           "A toxic batch of home-brewed<br>alcohol has killed 31 people<br>in several towns in central<br>Pakistan, police and hospital<br>officials say."
          ],
          [
           "Thornbugs communicate by<br>vibrating the branches they<br>live on. Now scientists are<br>discovering just what the bugs<br>are \"saying.\""
          ],
          [
           "The Florida Gators and<br>Arkansas Razorbacks meet for<br>just the sixth time Saturday.<br>The Gators hold a 4-1<br>advantage in the previous five<br>meetings, including last year<br>#39;s 33-28 win."
          ],
          [
           "Kodak Versamark #39;s parent<br>company, Eastman Kodak Co.,<br>reported Tuesday it plans to<br>eliminate almost 900 jobs this<br>year in a restructuring of its<br>overseas operations."
          ],
          [
           "A top official of the US Food<br>and Drug Administration said<br>Friday that he and his<br>colleagues  quot;categorically<br>reject quot; earlier<br>Congressional testimony that<br>the agency has failed to<br>protect the public against<br>dangerous drugs."
          ],
          [
           " BEIJING (Reuters) - North<br>Korea is committed to holding<br>six-party talks aimed at<br>resolving the crisis over its<br>nuclear  weapons program, but<br>has not indicated when, a top<br>British  official said on<br>Tuesday."
          ],
          [
           "AP - 1941  #151; Brooklyn<br>catcher Mickey Owen dropped a<br>third strike on Tommy Henrich<br>of what would have been the<br>last out of a Dodgers victory<br>against the New York Yankees.<br>Given the second chance, the<br>Yankees scored four runs for a<br>7-4 victory and a 3-1 lead in<br>the World Series, which they<br>ended up winning."
          ],
          [
           "Federal prosecutors cracked a<br>global cartel that had<br>illegally fixed prices of<br>memory chips in personal<br>computers and servers for<br>three years."
          ],
          [
           "AP - Oracle Corp. CEO Larry<br>Ellison reiterated his<br>determination to prevail in a<br>long-running takeover battle<br>with rival business software<br>maker PeopleSoft Inc.,<br>predicting the proposed deal<br>will create a more competitive<br>company with improved customer<br>service."
          ],
          [
           "Braves shortstop Rafael Furcal<br>was arrested on drunken<br>driving charges Friday, his<br>second D.U.I. arrest in four<br>years."
          ],
          [
           "AFP - British retailer Marks<br>and Spencer announced a major<br>management shake-up as part of<br>efforts to revive its<br>fortunes, saying trading has<br>become tougher ahead of the<br>crucial Christmas period."
          ],
          [
           " BAGHDAD (Reuters) - Iraq's<br>interim government extended<br>the  closure of Baghdad<br>international airport<br>indefinitely on  Saturday<br>under emergency rule imposed<br>ahead of this week's  U.S.-led<br>offensive on Falluja."
          ],
          [
           " ATHENS (Reuters) - Natalie<br>Coughlin's run of bad luck<br>finally took a turn for the<br>better when she won the gold<br>medal  in the women's 100<br>meters backstroke at the<br>Athens Olympics  Monday."
          ],
          [
           " ATLANTA (Reuters) - Home<br>Depot Inc. &lt;A HREF=\"http://<br>www.investor.reuters.com/FullQ<br>uote.aspx?ticker=HD.N target=/<br>stocks/quickinfo/fullquote\"&gt<br>;HD.N&lt;/A&gt;, the top home<br>improvement retailer, on<br>Tuesday reported a 15 percent<br>rise in  third-quarter profit,<br>topping estimates, aided by<br>installed  services and sales<br>to contractors."
          ],
          [
           " LONDON (Reuters) - The dollar<br>fought back from one-month<br>lows against the euro and<br>Swiss franc on Wednesday as<br>investors  viewed its sell-off<br>in the wake of the Federal<br>Reserve's  verdict on interest<br>rates as overdone."
          ],
          [
           "Rivaling Bush vs. Kerry for<br>bitterness, doctors and trial<br>lawyers are squaring off this<br>fall in an unprecedented four-<br>state struggle over limiting<br>malpractice awards..."
          ],
          [
           "Boston Scientific Corp said on<br>Friday it has recalled an ear<br>implant the company acquired<br>as part of its purchase of<br>Advanced Bionics in June."
          ],
          [
           "AP - Pedro Feliz hit a<br>tiebreaking grand slam with<br>two outs in the eighth inning<br>for his fourth hit of the day,<br>and the Giants helped their<br>playoff chances with a 9-5<br>victory over the Los Angeles<br>Dodgers on Saturday."
          ],
          [
           "MarketWatch.com. Richemont<br>sees significant H1 lift,<br>unclear on FY (2:53 AM ET)<br>LONDON (CBS.MW) -- Swiss<br>luxury goods maker<br>Richemont(zz:ZZ:001273145:<br>news, chart, profile), which<br>also is a significant"
          ],
          [
           "Crude oil climbed more than<br>\\$1 in New York on the re-<br>election of President George<br>W. Bush, who has been filling<br>the US Strategic Petroleum<br>Reserve."
          ],
          [
           "AP - Hundreds of tribesmen<br>gathered Tuesday near the area<br>where suspected al-Qaida-<br>linked militants are holding<br>two Chinese engineers and<br>demanding safe passage to<br>their reputed leader, a former<br>U.S. prisoner from Guantanamo<br>Bay, Cuba, officials and<br>residents said."
          ],
          [
           "AP - Scientists warned Tuesday<br>that a long-term increase in<br>global temperature of 3.5<br>degrees could threaten Latin<br>American water supplies,<br>reduce food yields in Asia and<br>result in a rise in extreme<br>weather conditions in the<br>Caribbean."
          ],
          [
           "AP - Further proof New York's<br>real estate market is<br>inflated: The city plans to<br>sell space on top of lampposts<br>to wireless phone companies<br>for  #36;21.6 million a year."
          ],
          [
           "In an alarming development,<br>high-precision equipment and<br>materials which could be used<br>for making nuclear bombs have<br>disappeared from some Iraqi<br>facilities, the United Nations<br>watchdog agency has said."
          ],
          [
           "Yukos #39; largest oil-<br>producing unit regained power<br>supplies from Tyumenenergo, a<br>Siberia-based electricity<br>generator, Friday after the<br>subsidiary pledged to pay 440<br>million rubles (\\$15 million)<br>in debt by Oct. 3."
          ],
          [
           "The rollout of new servers and<br>networking switches in stores<br>is part of a five-year<br>agreement supporting 7-Eleven<br>#39;s Retail Information<br>System."
          ],
          [
           "Top Hollywood studios have<br>launched a wave of court cases<br>against internet users who<br>illegally download film files.<br>The Motion Picture Association<br>of America, which acts as the<br>representative of major film"
          ],
          [
           "AUSTRALIANS went into a<br>television-buying frenzy the<br>run-up to the Athens Olympics,<br>suggesting that as a nation we<br>could easily have scored a<br>gold medal for TV purchasing."
          ],
          [
           "US STOCKS vacillated yesterday<br>as rising oil prices muted<br>Wall Streets excitement over<br>strong results from Lehman<br>Brothers and Sprints \\$35<br>billion acquisition of Nextel<br>Communications."
          ],
          [
           "The next time you are in your<br>bedroom with your PC plus<br>Webcam switched on, don #39;t<br>think that your privacy is all<br>intact. If you have a Webcam<br>plugged into an infected<br>computer, there is a<br>possibility that"
          ],
          [
           "At the head of the class,<br>Rosabeth Moss Kanter is an<br>intellectual whirlwind: loud,<br>expansive, in constant motion."
          ],
          [
           "LEVERKUSEN/ROME, Dec 7 (SW) -<br>Dynamo Kiev, Bayer Leverkusen,<br>and Real Madrid all have a<br>good chance of qualifying for<br>the Champions League Round of<br>16 if they can get the right<br>results in Group F on<br>Wednesday night."
          ],
          [
           "Ed Hinkel made a diving,<br>fingertip catch for a key<br>touchdown and No. 16 Iowa<br>stiffened on defense when it<br>needed to most to beat Iowa<br>State 17-10 Saturday."
          ],
          [
           "During last Sunday #39;s<br>Nextel Cup race, amid the<br>ongoing furor over Dale<br>Earnhardt Jr. #39;s salty<br>language, NBC ran a commercial<br>for a show coming on later<br>that night called  quot;Law<br>amp; Order: Criminal Intent."
          ],
          [
           "AP - After playing in hail,<br>fog and chill, top-ranked<br>Southern California finishes<br>its season in familiar<br>comfort. The Trojans (9-0, 6-0<br>Pacific-10) have two games at<br>home  #151; against Arizona on<br>Saturday and Notre Dame on<br>Nov. 27  #151; before their<br>rivalry game at UCLA."
          ],
          [
           "A US airman dies and two are<br>hurt as a helicopter crashes<br>due to technical problems in<br>western Afghanistan."
          ],
          [
           "Jacques Chirac has ruled out<br>any withdrawal of French<br>troops from Ivory Coast,<br>despite unrest and anti-French<br>attacks, which have forced the<br>evacuation of thousands of<br>Westerners."
          ],
          [
           "Japanese Prime Minister<br>Junichiro Koizumi reshuffled<br>his cabinet yesterday,<br>replacing several top<br>ministers in an effort to<br>boost his popularity,<br>consolidate political support<br>and quicken the pace of<br>reforms in the world #39;s<br>second-largest economy."
          ],
          [
           "The remnants of Hurricane<br>Jeanne rained out Monday's<br>game between the Mets and the<br>Atlanta Braves. It will be<br>made up Tuesday as part of a<br>doubleheader."
          ],
          [
           "AP - NASCAR is not expecting<br>any immediate changes to its<br>top-tier racing series<br>following the merger between<br>telecommunications giant<br>Sprint Corp. and Nextel<br>Communications Inc."
          ],
          [
           "AP - Shawn Fanning's Napster<br>software enabled countless<br>music fans to swap songs on<br>the Internet for free, turning<br>him into the recording<br>industry's enemy No. 1 in the<br>process."
          ],
          [
           "TBILISI (Reuters) - At least<br>two Georgian soldiers were<br>killed and five wounded in<br>artillery fire with<br>separatists in the breakaway<br>region of South Ossetia,<br>Georgian officials said on<br>Wednesday."
          ],
          [
           "Like wide-open races? You<br>#39;ll love the Big 12 North.<br>Here #39;s a quick morning<br>line of the Big 12 North as it<br>opens conference play this<br>weekend."
          ],
          [
           "Reuters - Walt Disney Co.<br>is\\increasing investment in<br>video games for hand-held<br>devices and\\plans to look for<br>acquisitions of small game<br>publishers and\\developers,<br>Disney consumer products<br>Chairman Andy Mooney said\\on<br>Monday."
          ],
          [
           "Taquan Dean scored 22 points,<br>Francisco Garcia added 19 and<br>No. 13 Louisville withstood a<br>late rally to beat Florida<br>74-70 Saturday."
          ],
          [
           "BANGKOK - A UN conference last<br>week banned commercial trade<br>in the rare Irrawaddy dolphin,<br>a move environmentalists said<br>was needed to save the<br>threatened species."
          ],
          [
           "Laksamana.Net - Two Indonesian<br>female migrant workers freed<br>by militants in Iraq are<br>expected to arrive home within<br>a day or two, the Foreign<br>Affairs Ministry said<br>Wednesday (6/10/04)."
          ],
          [
           "A bitter row between America<br>and the European Union over<br>alleged subsidies to rival<br>aircraft makers Boeing and<br>Airbus intensified yesterday."
          ],
          [
           "NEW YORK -- This was all about<br>Athens, about redemption for<br>one and validation for the<br>other. Britain's Paula<br>Radcliffe, the fastest female<br>marathoner in history, failed<br>to finish either of her<br>Olympic races last summer.<br>South Africa's Hendrik Ramaala<br>was a five-ringed dropout,<br>too, reinforcing his<br>reputation as a man who could<br>go only half the distance."
          ],
          [
           "Reuters - Online media company<br>Yahoo Inc.\\ late on Monday<br>rolled out tests of redesigned<br>start\\pages for its popular<br>Yahoo.com and My.Yahoo.com<br>sites."
          ],
          [
           "Amsterdam (pts) - Dutch<br>electronics company Philips<br>http://www.philips.com has<br>announced today, Friday, that<br>it has cut its stake in Atos<br>Origin by more than a half."
          ],
          [
           "TORONTO (CP) - Two-thirds of<br>banks around the world have<br>reported an increase in the<br>volume of suspicious<br>activities that they report to<br>police, a new report by KPMG<br>suggests."
          ],
          [
           "The Sun may have captured<br>thousands or even millions of<br>asteroids from another<br>planetary system during an<br>encounter more than four<br>billion years ago, astronomers<br>are reporting."
          ],
          [
           "LONDON -- Ernie Els has set<br>his sights on an improved<br>putting display this week at<br>the World Golf Championships<br>#39; NEC Invitational in<br>Akron, Ohio, after the<br>disappointment of tying for<br>fourth place at the PGA<br>Championship last Sunday."
          ],
          [
           "The Atkins diet frenzy slowed<br>growth briefly, but the<br>sandwich business is booming,<br>with \\$105 billion in sales<br>last year."
          ],
          [
           "Luxury carmaker Jaguar said<br>Friday it was stopping<br>production at a factory in<br>central England, resulting in<br>a loss of 1,100 jobs,<br>following poor sales in the<br>key US market."
          ],
          [
           "A bus was hijacked today and<br>shots were fired at police who<br>surrounded it on the outskirts<br>of Athens. Police did not know<br>how many passengers were<br>aboard the bus."
          ],
          [
           "Thumb through the book - then<br>buy a clean copy from Amazon"
          ],
          [
           "AP - President Bashar Assad<br>shuffled his Cabinet on<br>Monday, just weeks after the<br>United States and the United<br>Nations challenged Syria over<br>its military presence in<br>Lebanon and the security<br>situation along its border<br>with Iraq."
          ],
          [
           "Fiji #39;s Vijay Singh<br>replaced Tiger Woods as the<br>world #39;s No.1 ranked golfer<br>today by winning the PGA<br>Deutsche Bank Championship."
          ],
          [
           "LEIPZIG, Germany : Jurgen<br>Klinsmann enjoyed his first<br>home win as German manager<br>with his team defeating ten-<br>man Cameroon 3-0 in a friendly<br>match."
          ],
          [
           "AP - Kevin Brown had a chance<br>to claim a place in Yankees<br>postseason history with his<br>start in Game 7 of the AL<br>championship series."
          ],
          [
           "Reuters - High-definition<br>television can\\show the sweat<br>beading on an athlete's brow,<br>but the cost of\\all the<br>necessary electronic equipment<br>can get a shopper's own\\pulse<br>racing."
          ],
          [
           "HOMESTEAD, Fla. -- Kurt Busch<br>got his first big break in<br>NASCAR by winning a 1999<br>talent audition nicknamed<br>quot;The Gong Show. quot; He<br>was selected from dozens of<br>unknown, young race drivers to<br>work for one of the sport<br>#39;s most famous team owners,<br>Jack Roush."
          ],
          [
           "AP - President Vladimir Putin<br>has signed a bill confirming<br>Russia's ratification of the<br>Kyoto Protocol, the Kremlin<br>said Friday, clearing the way<br>for the global climate pact to<br>come into force early next<br>year."
          ],
          [
           "John Gibson said Friday that<br>he decided to resign as chief<br>executive officer of<br>Halliburton Energy Services<br>when it became apparent he<br>couldn #39;t become the CEO of<br>the entire corporation, after<br>getting a taste of the No."
          ],
          [
           "MacCentral - Apple Computer<br>Inc. on Monday released an<br>update for Apple Remote<br>Desktop (ARD), the company's<br>software solution to assist<br>Mac system administrators and<br>computer managers with asset<br>management, software<br>distribution and help desk<br>support. ARD 2.1 includes<br>several enhancements and bug<br>fixes."
          ],
          [
           "NEW YORK (Reuters) - Outback<br>Steakhouse Inc. said Tuesday<br>it lost about 130 operating<br>days and up to \\$2 million in<br>revenue because it had to<br>close some restaurants in the<br>South due to Hurricane<br>Charley."
          ],
          [
           "State insurance commissioners<br>from across the country have<br>proposed new rules governing<br>insurance brokerage fees,<br>winning praise from an<br>industry group and criticism<br>from"
          ],
          [
           "AP - The authenticity of newly<br>unearthed memos stating that<br>George W. Bush failed to meet<br>standards of the Texas Air<br>National Guard during the<br>Vietnam War was questioned<br>Thursday by the son of the<br>late officer who reportedly<br>wrote the memos."
          ],
          [
           "Zurich, Switzerland (Sports<br>Network) - Former world No. 1<br>Venus Williams advanced on<br>Thursday and will now meet<br>Wimbledon champion Maria<br>Sharapova in the quarterfinals<br>at the \\$1."
          ],
          [
           "INDIA #39;S cricket chiefs<br>began a frenetic search today<br>for a broadcaster to show next<br>month #39;s home series<br>against world champion<br>Australia after cancelling a<br>controversial \\$US308 million<br>(\\$440 million) television<br>deal."
          ],
          [
           "Canadian Press - OAKVILLE,<br>Ont. (CP) - The body of a<br>missing autistic man was<br>pulled from a creek Monday,<br>just metres from where a key<br>piece of evidence was<br>uncovered but originally<br>overlooked because searchers<br>had the wrong information."
          ],
          [
           "SOFTWARE giant Oracle #39;s<br>stalled \\$7.7bn (4.2bn) bid to<br>take over competitor<br>PeopleSoft has received a huge<br>boost after a US judge threw<br>out an anti-trust lawsuit<br>filed by the Department of<br>Justice to block the<br>acquisition."
          ],
          [
           "The International Olympic<br>Committee (IOC) has urged<br>Beijing to ensure the city is<br>ready to host the 2008 Games<br>well in advance, an official<br>said on Wednesday."
          ],
          [
           "AFP - German Chancellor<br>Gerhard Schroeder arrived in<br>Libya for an official visit<br>during which he is to hold<br>talks with Libyan leader<br>Moamer Kadhafi."
          ],
          [
           "The fastest-swiveling space<br>science observatory ever built<br>rocketed into orbit on<br>Saturday to scan the universe<br>for celestial explosions."
          ],
          [
           "The government will examine<br>claims 100,000 Iraqi civilians<br>have been killed since the US-<br>led invasion, Jack Straw says."
          ],
          [
           "Virginia Tech scores 24 points<br>off four first-half turnovers<br>in a 55-6 wipeout of Maryland<br>on Thursday to remain alone<br>atop the ACC."
          ],
          [
           "Copernic Unleashes Desktop<br>Search Tool\\\\Copernic<br>Technologies Inc. today<br>announced Copernic Desktop<br>Search(TM) (CDS(TM)), \"The<br>Search Engine For Your PC<br>(TM).\" Copernic has used the<br>experience gained from over 30<br>million downloads of its<br>Windows-based Web search<br>software to develop CDS, a<br>desktop search product that<br>users are saying is far ..."
          ],
          [
           "The DVD Forum moved a step<br>further toward the advent of<br>HD DVD media and drives with<br>the approval of key physical<br>specifications at a meeting of<br>the organisations steering<br>committee last week."
          ],
          [
           "Eton College and Clarence<br>House joined forces yesterday<br>to deny allegations due to be<br>made at an employment tribunal<br>today by a former art teacher<br>that she improperly helped<br>Prince Harry secure an A-level<br>pass in art two years ago."
          ],
          [
           "AFP - Great Britain's chances<br>of qualifying for the World<br>Group of the Davis Cup were<br>evaporating rapidly after<br>Austria moved into a 2-1 lead<br>following the doubles."
          ],
          [
           "AP - Martina Navratilova's<br>long, illustrious career will<br>end without an Olympic medal.<br>The 47-year-old Navratilova<br>and Lisa Raymond lost 6-4,<br>4-6, 6-4 on Thursday night to<br>fifth-seeded Shinobu Asagoe<br>and Ai Sugiyama of Japan in<br>the quarterfinals, one step<br>shy of the medal round."
          ],
          [
           "Often pigeonholed as just a<br>seller of televisions and DVD<br>players, Royal Philips<br>Electronics said third-quarter<br>profit surged despite a slide<br>into the red by its consumer<br>electronics division."
          ],
          [
           "AP - Google, the Internet<br>search engine, has done<br>something that law enforcement<br>officials and their computer<br>tools could not: Identify a<br>man who died in an apparent<br>hit-and-run accident 11 years<br>ago in this small town outside<br>Yakima."
          ],
          [
           "We are all used to IE getting<br>a monthly new security bug<br>found, but Winamp? In fact,<br>this is not the first security<br>flaw found in the application."
          ],
          [
           "The Apache Software Foundation<br>and the Debian Project said<br>they won't support the Sender<br>ID e-mail authentication<br>standard in their products."
          ],
          [
           "USATODAY.com - The newly<br>restored THX 1138 arrives on<br>DVD today with Star Wars<br>creator George Lucas' vision<br>of a Brave New World-like<br>future."
          ]
         ],
         "hovertemplate": "label=Other<br>Component 0=%{x}<br>Component 1=%{y}<br>string=%{customdata[0]}<extra></extra>",
         "legendgroup": "Other",
         "marker": {
          "color": "#636efa",
          "size": 5,
          "symbol": "circle"
         },
         "mode": "markers",
         "name": "Other",
         "orientation": "v",
         "showlegend": true,
         "type": "scatter",
         "x": [
          -2.419407367706299,
          4.022860050201416,
          -12.947819709777832,
          -13.777823448181152,
          3.8545613288879395,
          -3.5882880687713623,
          8.853726387023926,
          6.190961837768555,
          5.342007637023926,
          3.823129653930664,
          -9.173030853271484,
          0.12757736444473267,
          2.8494489192962646,
          6.365508079528809,
          10.272479057312012,
          -17.74955940246582,
          5.8838276863098145,
          7.264599800109863,
          11.63478946685791,
          5.915467739105225,
          6.801270484924316,
          3.195619821548462,
          -10.290353775024414,
          11.315608978271484,
          -7.568747520446777,
          11.12959098815918,
          -18.424842834472656,
          3.8455862998962402,
          2.4332354068756104,
          6.6015424728393555,
          -12.08410358428955,
          6.05782413482666,
          -1.6368842124938965,
          -11.198770523071289,
          3.5841002464294434,
          7.643832206726074,
          -16.48955726623535,
          -13.310428619384766,
          7.600007057189941,
          12.868605613708496,
          8.615945816040039,
          -11.904056549072266,
          -12.684072494506836,
          11.591919898986816,
          -14.307535171508789,
          -5.162750244140625,
          -10.131522178649902,
          3.7593727111816406,
          5.648723125457764,
          3.573201894760132,
          -9.304939270019531,
          14.429536819458008,
          2.6341288089752197,
          -2.9084994792938232,
          -3.278952121734619,
          -2.9605727195739746,
          7.879891872406006,
          8.3211669921875,
          -5.689742088317871,
          12.601251602172852,
          14.750268936157227,
          6.35500431060791,
          -3.2301740646362305,
          -1.0400642156600952,
          3.6158316135406494,
          -0.668512225151062,
          -10.93899154663086,
          2.2012951374053955,
          10.043961524963379,
          -2.503514051437378,
          7.410523414611816,
          -4.906834125518799,
          -11.387686729431152,
          -3.3332858085632324,
          7.0086259841918945,
          -10.577401161193848,
          -12.85402774810791,
          4.59100341796875,
          -10.796675682067871,
          -11.685327529907227,
          -9.22530460357666,
          8.243228912353516,
          5.020902156829834,
          14.205427169799805,
          -6.607216835021973,
          8.985929489135742,
          -7.054723262786865,
          13.482503890991211,
          8.02953052520752,
          13.417240142822266,
          -0.8665516972541809,
          7.8071794509887695,
          -11.794222831726074,
          12.423192024230957,
          4.048168659210205,
          -9.922728538513184,
          -8.138015747070312,
          -10.212414741516113,
          11.928711891174316,
          -14.937405586242676,
          13.934257507324219,
          6.075150489807129,
          -8.574663162231445,
          13.216493606567383,
          -11.194849014282227,
          2.363718271255493,
          -10.597368240356445,
          9.822535514831543,
          -6.48226261138916,
          -3.0876882076263428,
          2.0648903846740723,
          13.295446395874023,
          -12.529747009277344,
          -11.132542610168457,
          10.913054466247559,
          -6.232292652130127,
          1.3312920331954956,
          7.3465375900268555,
          -9.744476318359375,
          -6.268627166748047,
          -5.064323425292969,
          -13.29708480834961,
          12.498109817504883,
          -8.200876235961914,
          -6.418903350830078,
          4.038909912109375,
          -2.0624096393585205,
          -4.932309627532959,
          -0.41808873414993286,
          -7.391969680786133,
          -13.246878623962402,
          -10.328353881835938,
          3.405728816986084,
          -7.1542253494262695,
          -16.824819564819336,
          9.382284164428711,
          11.484366416931152,
          8.182100296020508,
          3.3641557693481445,
          6.122057914733887,
          3.435575246810913,
          8.351873397827148,
          1.6736414432525635,
          10.505556106567383,
          3.326659679412842,
          -10.957906723022461,
          4.81049108505249,
          4.125461578369141,
          -9.9977445602417,
          8.874545097351074,
          -0.8583289384841919,
          7.855214595794678,
          -3.7369258403778076,
          7.347260475158691,
          -15.074265480041504,
          -8.128253936767578,
          -3.23360276222229,
          -1.2099921703338623,
          6.878449440002441,
          -2.8781285285949707,
          -4.9090142250061035,
          5.487621784210205,
          -6.905072212219238,
          2.821312427520752,
          7.98443603515625,
          12.014229774475098,
          12.74744987487793,
          1.9452108144760132,
          2.789890766143799,
          -1.0084470510482788,
          -8.428224563598633,
          -17.346923828125,
          -3.282393455505371,
          -5.30875301361084,
          1.3988250494003296,
          7.380620956420898,
          3.9402570724487305,
          8.560978889465332,
          -11.252021789550781,
          3.7072818279266357,
          4.077103137969971,
          -1.4742134809494019,
          4.726104736328125,
          8.450026512145996,
          -15.500842094421387,
          -8.821208953857422,
          11.901227951049805,
          5.3943657875061035,
          8.282596588134766,
          -8.230031967163086,
          7.940400123596191,
          -17.687284469604492,
          -19.081998825073242,
          -7.314907073974609
         ],
         "xaxis": "x",
         "y": [
          11.751319885253906,
          -1.3403761386871338,
          -0.6653150916099548,
          5.654483318328857,
          5.425793170928955,
          4.113420009613037,
          8.35015869140625,
          5.923326015472412,
          9.14799690246582,
          -10.409658432006836,
          -1.1124540567398071,
          9.561738014221191,
          3.709498405456543,
          12.337258338928223,
          -5.202568531036377,
          2.5888969898223877,
          13.427360534667969,
          10.184514999389648,
          -4.707862854003906,
          14.02916431427002,
          10.946854591369629,
          7.40196418762207,
          -7.186052322387695,
          6.711721420288086,
          -8.331405639648438,
          9.751762390136719,
          0.6121736168861389,
          0.22853979468345642,
          -4.128589630126953,
          8.7704496383667,
          0.49564528465270996,
          6.183477401733398,
          0.8515645265579224,
          -10.126829147338867,
          8.592820167541504,
          -2.1763389110565186,
          -0.10375329107046127,
          6.08590841293335,
          -14.254446029663086,
          -14.750025749206543,
          -5.341374397277832,
          -3.046355724334717,
          -4.189236164093018,
          -12.614466667175293,
          0.23602518439292908,
          -6.082411766052246,
          -10.042460441589355,
          14.498367309570312,
          -13.612591743469238,
          -7.743598937988281,
          10.763832092285156,
          -10.24481201171875,
          9.693754196166992,
          0.38544148206710815,
          -11.518465995788574,
          5.056938648223877,
          -12.002104759216309,
          14.089982032775879,
          7.722090244293213,
          -7.642955303192139,
          -8.563284873962402,
          -2.138657331466675,
          -11.4441499710083,
          0.1375817060470581,
          -7.5944390296936035,
          7.3813605308532715,
          -3.1383697986602783,
          13.040640830993652,
          -13.522394180297852,
          -6.7053070068359375,
          9.13932991027832,
          -9.337790489196777,
          8.28736686706543,
          -2.783567428588867,
          -5.833065509796143,
          -1.9144816398620605,
          7.209471702575684,
          -4.184495449066162,
          -6.84003210067749,
          -5.160014629364014,
          10.813606262207031,
          11.824995040893555,
          7.601020336151123,
          -6.570700645446777,
          -2.555903673171997,
          5.087797164916992,
          3.2951831817626953,
          -4.293611526489258,
          -8.076020240783691,
          -13.70893383026123,
          -3.3559937477111816,
          -11.626471519470215,
          3.7011778354644775,
          -2.773000478744507,
          10.924727439880371,
          -10.308048248291016,
          -10.980093002319336,
          -11.21141242980957,
          -10.622929573059082,
          -1.621627926826477,
          -7.956149578094482,
          -7.528345584869385,
          -1.3538061380386353,
          -14.413596153259277,
          -11.434540748596191,
          4.102856636047363,
          9.252290725708008,
          -15.088998794555664,
          -5.036843776702881,
          6.958699703216553,
          13.976996421813965,
          -9.340813636779785,
          3.2067792415618896,
          -0.6257666349411011,
          -8.853353500366211,
          -4.006008148193359,
          7.3895158767700195,
          -1.3753795623779297,
          -7.399595737457275,
          -8.309650421142578,
          5.598073959350586,
          -5.811139106750488,
          -9.45376205444336,
          -6.272401809692383,
          -10.019920349121094,
          8.406240463256836,
          11.845742225646973,
          -0.39604687690734863,
          7.076028823852539,
          -11.469974517822266,
          -2.377138137817383,
          2.889777898788452,
          -2.084059000015259,
          -8.770587921142578,
          4.311347007751465,
          -0.11211510002613068,
          -2.3751935958862305,
          -13.373306274414062,
          -10.716744422912598,
          -14.313161849975586,
          5.1922760009765625,
          10.900994300842285,
          11.882235527038574,
          -10.537450790405273,
          -12.242183685302734,
          1.6752736568450928,
          5.4850006103515625,
          -14.356553077697754,
          -4.428614139556885,
          -14.621485710144043,
          5.67789363861084,
          7.89245080947876,
          4.054369926452637,
          -2.457841157913208,
          -2.855956554412842,
          -4.331855297088623,
          -2.841001272201538,
          2.2894859313964844,
          -7.073178291320801,
          -8.308055877685547,
          -5.727902889251709,
          3.8359334468841553,
          1.5596376657485962,
          11.30274486541748,
          -7.681424617767334,
          -3.1246531009674072,
          -8.759587287902832,
          -3.18499755859375,
          -9.905247688293457,
          12.136077880859375,
          5.788006782531738,
          -2.037797689437866,
          -7.523571968078613,
          6.722318649291992,
          9.366408348083496,
          -5.1751251220703125,
          -3.4616928100585938,
          3.889659881591797,
          -0.7320746183395386,
          0.37333571910858154,
          12.585854530334473,
          1.623095989227295,
          10.66708755493164,
          -15.14441204071045,
          0.9020096063613892,
          3.0483243465423584,
          6.371715545654297,
          -4.523171424865723,
          -4.190382957458496,
          -4.636092185974121,
          3.6295673847198486,
          0.0811726450920105,
          2.1680855751037598,
          2.958853006362915
         ],
         "yaxis": "y"
        },
        {
         "customdata": [
          [
           "The Microsoft CEO says one way<br>to stem growing piracy of<br>Windows and Office in emerging<br>markets is to offer low-cost<br>computers."
          ],
          [
           "Chips that help a computer's<br>main microprocessors perform<br>specific types of math<br>problems are becoming a big<br>business once again.\\"
          ],
          [
           "IBM late on Tuesday announced<br>the biggest update of its<br>popular WebSphere business<br>software in two years, adding<br>features such as automatically<br>detecting and fixing problems."
          ],
          [
           "A group of Internet security<br>and instant messaging<br>providers have teamed up to<br>detect and thwart the growing<br>threat of IM and peer-to-peer<br>viruses and worms, they said<br>this week."
          ],
          [
           "PC World - Updated antivirus<br>software for businesses adds<br>intrusion prevention features."
          ]
         ],
         "hovertemplate": "label=Nearest neighbor (top 5)<br>Component 0=%{x}<br>Component 1=%{y}<br>string=%{customdata[0]}<extra></extra>",
         "legendgroup": "Nearest neighbor (top 5)",
         "marker": {
          "color": "#EF553B",
          "size": 5,
          "symbol": "diamond"
         },
         "mode": "markers",
         "name": "Nearest neighbor (top 5)",
         "orientation": "v",
         "showlegend": true,
         "type": "scatter",
         "x": [
          -13.949373245239258,
          -13.881023406982422,
          -15.854140281677246,
          -16.80522346496582,
          -15.756138801574707
         ],
         "xaxis": "x",
         "y": [
          2.2000527381896973,
          3.531831979751587,
          -0.4644486904144287,
          2.211536407470703,
          2.7252514362335205
         ],
         "yaxis": "y"
        },
        {
         "customdata": [
          [
           "PC World - Upcoming chip set<br>will include built-in security<br>features for your PC."
          ]
         ],
         "hovertemplate": "label=Source<br>Component 0=%{x}<br>Component 1=%{y}<br>string=%{customdata[0]}<extra></extra>",
         "legendgroup": "Source",
         "marker": {
          "color": "#00cc96",
          "size": 5,
          "symbol": "square"
         },
         "mode": "markers",
         "name": "Source",
         "orientation": "v",
         "showlegend": true,
         "type": "scatter",
         "x": [
          -15.426653861999512
         ],
         "xaxis": "x",
         "y": [
          3.0819311141967773
         ],
         "yaxis": "y"
        }
       ],
       "layout": {
        "height": 500,
        "legend": {
         "title": {
          "text": "label"
         },
         "tracegroupgap": 0
        },
        "template": {
         "data": {
          "bar": [
           {
            "error_x": {
             "color": "#2a3f5f"
            },
            "error_y": {
             "color": "#2a3f5f"
            },
            "marker": {
             "line": {
              "color": "#E5ECF6",
              "width": 0.5
             },
             "pattern": {
              "fillmode": "overlay",
              "size": 10,
              "solidity": 0.2
             }
            },
            "type": "bar"
           }
          ],
          "barpolar": [
           {
            "marker": {
             "line": {
              "color": "#E5ECF6",
              "width": 0.5
             },
             "pattern": {
              "fillmode": "overlay",
              "size": 10,
              "solidity": 0.2
             }
            },
            "type": "barpolar"
           }
          ],
          "carpet": [
           {
            "aaxis": {
             "endlinecolor": "#2a3f5f",
             "gridcolor": "white",
             "linecolor": "white",
             "minorgridcolor": "white",
             "startlinecolor": "#2a3f5f"
            },
            "baxis": {
             "endlinecolor": "#2a3f5f",
             "gridcolor": "white",
             "linecolor": "white",
             "minorgridcolor": "white",
             "startlinecolor": "#2a3f5f"
            },
            "type": "carpet"
           }
          ],
          "choropleth": [
           {
            "colorbar": {
             "outlinewidth": 0,
             "ticks": ""
            },
            "type": "choropleth"
           }
          ],
          "contour": [
           {
            "colorbar": {
             "outlinewidth": 0,
             "ticks": ""
            },
            "colorscale": [
             [
              0,
              "#0d0887"
             ],
             [
              0.1111111111111111,
              "#46039f"
             ],
             [
              0.2222222222222222,
              "#7201a8"
             ],
             [
              0.3333333333333333,
              "#9c179e"
             ],
             [
              0.4444444444444444,
              "#bd3786"
             ],
             [
              0.5555555555555556,
              "#d8576b"
             ],
             [
              0.6666666666666666,
              "#ed7953"
             ],
             [
              0.7777777777777778,
              "#fb9f3a"
             ],
             [
              0.8888888888888888,
              "#fdca26"
             ],
             [
              1,
              "#f0f921"
             ]
            ],
            "type": "contour"
           }
          ],
          "contourcarpet": [
           {
            "colorbar": {
             "outlinewidth": 0,
             "ticks": ""
            },
            "type": "contourcarpet"
           }
          ],
          "heatmap": [
           {
            "colorbar": {
             "outlinewidth": 0,
             "ticks": ""
            },
            "colorscale": [
             [
              0,
              "#0d0887"
             ],
             [
              0.1111111111111111,
              "#46039f"
             ],
             [
              0.2222222222222222,
              "#7201a8"
             ],
             [
              0.3333333333333333,
              "#9c179e"
             ],
             [
              0.4444444444444444,
              "#bd3786"
             ],
             [
              0.5555555555555556,
              "#d8576b"
             ],
             [
              0.6666666666666666,
              "#ed7953"
             ],
             [
              0.7777777777777778,
              "#fb9f3a"
             ],
             [
              0.8888888888888888,
              "#fdca26"
             ],
             [
              1,
              "#f0f921"
             ]
            ],
            "type": "heatmap"
           }
          ],
          "heatmapgl": [
           {
            "colorbar": {
             "outlinewidth": 0,
             "ticks": ""
            },
            "colorscale": [
             [
              0,
              "#0d0887"
             ],
             [
              0.1111111111111111,
              "#46039f"
             ],
             [
              0.2222222222222222,
              "#7201a8"
             ],
             [
              0.3333333333333333,
              "#9c179e"
             ],
             [
              0.4444444444444444,
              "#bd3786"
             ],
             [
              0.5555555555555556,
              "#d8576b"
             ],
             [
              0.6666666666666666,
              "#ed7953"
             ],
             [
              0.7777777777777778,
              "#fb9f3a"
             ],
             [
              0.8888888888888888,
              "#fdca26"
             ],
             [
              1,
              "#f0f921"
             ]
            ],
            "type": "heatmapgl"
           }
          ],
          "histogram": [
           {
            "marker": {
             "pattern": {
              "fillmode": "overlay",
              "size": 10,
              "solidity": 0.2
             }
            },
            "type": "histogram"
           }
          ],
          "histogram2d": [
           {
            "colorbar": {
             "outlinewidth": 0,
             "ticks": ""
            },
            "colorscale": [
             [
              0,
              "#0d0887"
             ],
             [
              0.1111111111111111,
              "#46039f"
             ],
             [
              0.2222222222222222,
              "#7201a8"
             ],
             [
              0.3333333333333333,
              "#9c179e"
             ],
             [
              0.4444444444444444,
              "#bd3786"
             ],
             [
              0.5555555555555556,
              "#d8576b"
             ],
             [
              0.6666666666666666,
              "#ed7953"
             ],
             [
              0.7777777777777778,
              "#fb9f3a"
             ],
             [
              0.8888888888888888,
              "#fdca26"
             ],
             [
              1,
              "#f0f921"
             ]
            ],
            "type": "histogram2d"
           }
          ],
          "histogram2dcontour": [
           {
            "colorbar": {
             "outlinewidth": 0,
             "ticks": ""
            },
            "colorscale": [
             [
              0,
              "#0d0887"
             ],
             [
              0.1111111111111111,
              "#46039f"
             ],
             [
              0.2222222222222222,
              "#7201a8"
             ],
             [
              0.3333333333333333,
              "#9c179e"
             ],
             [
              0.4444444444444444,
              "#bd3786"
             ],
             [
              0.5555555555555556,
              "#d8576b"
             ],
             [
              0.6666666666666666,
              "#ed7953"
             ],
             [
              0.7777777777777778,
              "#fb9f3a"
             ],
             [
              0.8888888888888888,
              "#fdca26"
             ],
             [
              1,
              "#f0f921"
             ]
            ],
            "type": "histogram2dcontour"
           }
          ],
          "mesh3d": [
           {
            "colorbar": {
             "outlinewidth": 0,
             "ticks": ""
            },
            "type": "mesh3d"
           }
          ],
          "parcoords": [
           {
            "line": {
             "colorbar": {
              "outlinewidth": 0,
              "ticks": ""
             }
            },
            "type": "parcoords"
           }
          ],
          "pie": [
           {
            "automargin": true,
            "type": "pie"
           }
          ],
          "scatter": [
           {
            "fillpattern": {
             "fillmode": "overlay",
             "size": 10,
             "solidity": 0.2
            },
            "type": "scatter"
           }
          ],
          "scatter3d": [
           {
            "line": {
             "colorbar": {
              "outlinewidth": 0,
              "ticks": ""
             }
            },
            "marker": {
             "colorbar": {
              "outlinewidth": 0,
              "ticks": ""
             }
            },
            "type": "scatter3d"
           }
          ],
          "scattercarpet": [
           {
            "marker": {
             "colorbar": {
              "outlinewidth": 0,
              "ticks": ""
             }
            },
            "type": "scattercarpet"
           }
          ],
          "scattergeo": [
           {
            "marker": {
             "colorbar": {
              "outlinewidth": 0,
              "ticks": ""
             }
            },
            "type": "scattergeo"
           }
          ],
          "scattergl": [
           {
            "marker": {
             "colorbar": {
              "outlinewidth": 0,
              "ticks": ""
             }
            },
            "type": "scattergl"
           }
          ],
          "scattermapbox": [
           {
            "marker": {
             "colorbar": {
              "outlinewidth": 0,
              "ticks": ""
             }
            },
            "type": "scattermapbox"
           }
          ],
          "scatterpolar": [
           {
            "marker": {
             "colorbar": {
              "outlinewidth": 0,
              "ticks": ""
             }
            },
            "type": "scatterpolar"
           }
          ],
          "scatterpolargl": [
           {
            "marker": {
             "colorbar": {
              "outlinewidth": 0,
              "ticks": ""
             }
            },
            "type": "scatterpolargl"
           }
          ],
          "scatterternary": [
           {
            "marker": {
             "colorbar": {
              "outlinewidth": 0,
              "ticks": ""
             }
            },
            "type": "scatterternary"
           }
          ],
          "surface": [
           {
            "colorbar": {
             "outlinewidth": 0,
             "ticks": ""
            },
            "colorscale": [
             [
              0,
              "#0d0887"
             ],
             [
              0.1111111111111111,
              "#46039f"
             ],
             [
              0.2222222222222222,
              "#7201a8"
             ],
             [
              0.3333333333333333,
              "#9c179e"
             ],
             [
              0.4444444444444444,
              "#bd3786"
             ],
             [
              0.5555555555555556,
              "#d8576b"
             ],
             [
              0.6666666666666666,
              "#ed7953"
             ],
             [
              0.7777777777777778,
              "#fb9f3a"
             ],
             [
              0.8888888888888888,
              "#fdca26"
             ],
             [
              1,
              "#f0f921"
             ]
            ],
            "type": "surface"
           }
          ],
          "table": [
           {
            "cells": {
             "fill": {
              "color": "#EBF0F8"
             },
             "line": {
              "color": "white"
             }
            },
            "header": {
             "fill": {
              "color": "#C8D4E3"
             },
             "line": {
              "color": "white"
             }
            },
            "type": "table"
           }
          ]
         },
         "layout": {
          "annotationdefaults": {
           "arrowcolor": "#2a3f5f",
           "arrowhead": 0,
           "arrowwidth": 1
          },
          "autotypenumbers": "strict",
          "coloraxis": {
           "colorbar": {
            "outlinewidth": 0,
            "ticks": ""
           }
          },
          "colorscale": {
           "diverging": [
            [
             0,
             "#8e0152"
            ],
            [
             0.1,
             "#c51b7d"
            ],
            [
             0.2,
             "#de77ae"
            ],
            [
             0.3,
             "#f1b6da"
            ],
            [
             0.4,
             "#fde0ef"
            ],
            [
             0.5,
             "#f7f7f7"
            ],
            [
             0.6,
             "#e6f5d0"
            ],
            [
             0.7,
             "#b8e186"
            ],
            [
             0.8,
             "#7fbc41"
            ],
            [
             0.9,
             "#4d9221"
            ],
            [
             1,
             "#276419"
            ]
           ],
           "sequential": [
            [
             0,
             "#0d0887"
            ],
            [
             0.1111111111111111,
             "#46039f"
            ],
            [
             0.2222222222222222,
             "#7201a8"
            ],
            [
             0.3333333333333333,
             "#9c179e"
            ],
            [
             0.4444444444444444,
             "#bd3786"
            ],
            [
             0.5555555555555556,
             "#d8576b"
            ],
            [
             0.6666666666666666,
             "#ed7953"
            ],
            [
             0.7777777777777778,
             "#fb9f3a"
            ],
            [
             0.8888888888888888,
             "#fdca26"
            ],
            [
             1,
             "#f0f921"
            ]
           ],
           "sequentialminus": [
            [
             0,
             "#0d0887"
            ],
            [
             0.1111111111111111,
             "#46039f"
            ],
            [
             0.2222222222222222,
             "#7201a8"
            ],
            [
             0.3333333333333333,
             "#9c179e"
            ],
            [
             0.4444444444444444,
             "#bd3786"
            ],
            [
             0.5555555555555556,
             "#d8576b"
            ],
            [
             0.6666666666666666,
             "#ed7953"
            ],
            [
             0.7777777777777778,
             "#fb9f3a"
            ],
            [
             0.8888888888888888,
             "#fdca26"
            ],
            [
             1,
             "#f0f921"
            ]
           ]
          },
          "colorway": [
           "#636efa",
           "#EF553B",
           "#00cc96",
           "#ab63fa",
           "#FFA15A",
           "#19d3f3",
           "#FF6692",
           "#B6E880",
           "#FF97FF",
           "#FECB52"
          ],
          "font": {
           "color": "#2a3f5f"
          },
          "geo": {
           "bgcolor": "white",
           "lakecolor": "white",
           "landcolor": "#E5ECF6",
           "showlakes": true,
           "showland": true,
           "subunitcolor": "white"
          },
          "hoverlabel": {
           "align": "left"
          },
          "hovermode": "closest",
          "mapbox": {
           "style": "light"
          },
          "paper_bgcolor": "white",
          "plot_bgcolor": "#E5ECF6",
          "polar": {
           "angularaxis": {
            "gridcolor": "white",
            "linecolor": "white",
            "ticks": ""
           },
           "bgcolor": "#E5ECF6",
           "radialaxis": {
            "gridcolor": "white",
            "linecolor": "white",
            "ticks": ""
           }
          },
          "scene": {
           "xaxis": {
            "backgroundcolor": "#E5ECF6",
            "gridcolor": "white",
            "gridwidth": 2,
            "linecolor": "white",
            "showbackground": true,
            "ticks": "",
            "zerolinecolor": "white"
           },
           "yaxis": {
            "backgroundcolor": "#E5ECF6",
            "gridcolor": "white",
            "gridwidth": 2,
            "linecolor": "white",
            "showbackground": true,
            "ticks": "",
            "zerolinecolor": "white"
           },
           "zaxis": {
            "backgroundcolor": "#E5ECF6",
            "gridcolor": "white",
            "gridwidth": 2,
            "linecolor": "white",
            "showbackground": true,
            "ticks": "",
            "zerolinecolor": "white"
           }
          },
          "shapedefaults": {
           "line": {
            "color": "#2a3f5f"
           }
          },
          "ternary": {
           "aaxis": {
            "gridcolor": "white",
            "linecolor": "white",
            "ticks": ""
           },
           "baxis": {
            "gridcolor": "white",
            "linecolor": "white",
            "ticks": ""
           },
           "bgcolor": "#E5ECF6",
           "caxis": {
            "gridcolor": "white",
            "linecolor": "white",
            "ticks": ""
           }
          },
          "title": {
           "x": 0.05
          },
          "xaxis": {
           "automargin": true,
           "gridcolor": "white",
           "linecolor": "white",
           "ticks": "",
           "title": {
            "standoff": 15
           },
           "zerolinecolor": "white",
           "zerolinewidth": 2
          },
          "yaxis": {
           "automargin": true,
           "gridcolor": "white",
           "linecolor": "white",
           "ticks": "",
           "title": {
            "standoff": 15
           },
           "zerolinecolor": "white",
           "zerolinewidth": 2
          }
         }
        },
        "title": {
         "text": "Nearest neighbors of the chipset security article"
        },
        "width": 600,
        "xaxis": {
         "anchor": "y",
         "domain": [
          0,
          1
         ],
         "title": {
          "text": "Component 0"
         }
        },
        "yaxis": {
         "anchor": "x",
         "domain": [
          0,
          1
         ],
         "title": {
          "text": "Component 1"
         }
        }
       }
      }
     },
     "metadata": {},
     "output_type": "display_data"
    }
   ],
   "source": [
    "# a 2D chart of nearest neighbors of the chipset security article\n",
    "chart_from_components(\n",
    "    components=tsne_components,\n",
    "    labels=chipset_security_labels,\n",
    "    strings=article_descriptions,\n",
    "    width=600,\n",
    "    height=500,\n",
    "    title=\"Nearest neighbors of the chipset security article\",\n",
    "    category_orders={\"label\": [\"Other\", \"Nearest neighbor (top 5)\", \"Source\"]},\n",
    ")\n"
   ]
  },
  {
   "cell_type": "markdown",
   "metadata": {},
   "source": [
    "For the chipset security example, the 4 closest nearest neighbors in the full embedding space remain nearest neighbors in this compressed 2D visualization. The fifth is displayed as more distant, despite being closer in the full embedding space."
   ]
  },
  {
   "cell_type": "markdown",
   "metadata": {},
   "source": [
    "Should you want to, you can also make an interactive 3D plot of the embeddings with the function `chart_from_components_3D`. (Doing so will require recomputing the t-SNE components with `n_components=3`.)"
   ]
  }
 ],
 "metadata": {
  "interpreter": {
   "hash": "365536dcbde60510dc9073d6b991cd35db2d9bac356a11f5b64279a5e6708b97"
  },
  "kernelspec": {
   "display_name": "Python 3.9.9 64-bit ('openai': virtualenv)",
   "language": "python",
   "name": "python3"
  },
  "language_info": {
   "codemirror_mode": {
    "name": "ipython",
    "version": 3
   },
   "file_extension": ".py",
   "mimetype": "text/x-python",
   "name": "python",
   "nbconvert_exporter": "python",
   "pygments_lexer": "ipython3",
   "version": "3.11.7"
  },
  "orig_nbformat": 4
 },
 "nbformat": 4,
 "nbformat_minor": 2
}
